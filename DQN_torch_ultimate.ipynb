{
  "cells": [
    {
      "cell_type": "markdown",
      "metadata": {
        "id": "view-in-github",
        "colab_type": "text"
      },
      "source": [
        "<a href=\"https://colab.research.google.com/github/luthierman/quantum-research-colab/blob/main/DQN_torch_ultimate.ipynb\" target=\"_parent\"><img src=\"https://colab.research.google.com/assets/colab-badge.svg\" alt=\"Open In Colab\"/></a>"
      ]
    },
    {
      "cell_type": "code",
      "execution_count": null,
      "metadata": {
        "colab": {
          "base_uri": "https://localhost:8080/",
          "height": 1000
        },
        "id": "i-udgpHj1lly",
        "outputId": "7c0395e9-ab2e-4822-dd07-a06fbde64938"
      },
      "outputs": [
        {
          "output_type": "stream",
          "name": "stdout",
          "text": [
            "Requirement already satisfied: wandb in /usr/local/lib/python3.7/dist-packages (0.12.16)\n",
            "Requirement already satisfied: Click!=8.0.0,>=7.0 in /usr/local/lib/python3.7/dist-packages (from wandb) (7.1.2)\n",
            "Requirement already satisfied: protobuf>=3.12.0 in /usr/local/lib/python3.7/dist-packages (from wandb) (3.17.3)\n",
            "Requirement already satisfied: pathtools in /usr/local/lib/python3.7/dist-packages (from wandb) (0.1.2)\n",
            "Requirement already satisfied: six>=1.13.0 in /usr/local/lib/python3.7/dist-packages (from wandb) (1.15.0)\n",
            "Requirement already satisfied: setproctitle in /usr/local/lib/python3.7/dist-packages (from wandb) (1.2.3)\n",
            "Requirement already satisfied: setuptools in /usr/local/lib/python3.7/dist-packages (from wandb) (57.4.0)\n",
            "Requirement already satisfied: PyYAML in /usr/local/lib/python3.7/dist-packages (from wandb) (3.13)\n",
            "Requirement already satisfied: promise<3,>=2.0 in /usr/local/lib/python3.7/dist-packages (from wandb) (2.3)\n",
            "Requirement already satisfied: docker-pycreds>=0.4.0 in /usr/local/lib/python3.7/dist-packages (from wandb) (0.4.0)\n",
            "Requirement already satisfied: GitPython>=1.0.0 in /usr/local/lib/python3.7/dist-packages (from wandb) (3.1.27)\n",
            "Requirement already satisfied: requests<3,>=2.0.0 in /usr/local/lib/python3.7/dist-packages (from wandb) (2.23.0)\n",
            "Requirement already satisfied: psutil>=5.0.0 in /usr/local/lib/python3.7/dist-packages (from wandb) (5.4.8)\n",
            "Requirement already satisfied: shortuuid>=0.5.0 in /usr/local/lib/python3.7/dist-packages (from wandb) (1.0.9)\n",
            "Requirement already satisfied: sentry-sdk>=1.0.0 in /usr/local/lib/python3.7/dist-packages (from wandb) (1.5.11)\n",
            "Requirement already satisfied: python-dateutil>=2.6.1 in /usr/local/lib/python3.7/dist-packages (from wandb) (2.8.2)\n",
            "Requirement already satisfied: typing-extensions>=3.7.4.3 in /usr/local/lib/python3.7/dist-packages (from GitPython>=1.0.0->wandb) (4.2.0)\n",
            "Requirement already satisfied: gitdb<5,>=4.0.1 in /usr/local/lib/python3.7/dist-packages (from GitPython>=1.0.0->wandb) (4.0.9)\n",
            "Requirement already satisfied: smmap<6,>=3.0.1 in /usr/local/lib/python3.7/dist-packages (from gitdb<5,>=4.0.1->GitPython>=1.0.0->wandb) (5.0.0)\n",
            "Requirement already satisfied: chardet<4,>=3.0.2 in /usr/local/lib/python3.7/dist-packages (from requests<3,>=2.0.0->wandb) (3.0.4)\n",
            "Requirement already satisfied: idna<3,>=2.5 in /usr/local/lib/python3.7/dist-packages (from requests<3,>=2.0.0->wandb) (2.10)\n",
            "Requirement already satisfied: certifi>=2017.4.17 in /usr/local/lib/python3.7/dist-packages (from requests<3,>=2.0.0->wandb) (2021.10.8)\n",
            "Requirement already satisfied: urllib3!=1.25.0,!=1.25.1,<1.26,>=1.21.1 in /usr/local/lib/python3.7/dist-packages (from requests<3,>=2.0.0->wandb) (1.24.3)\n",
            "Collecting autoray==0.2.5\n",
            "  Using cached autoray-0.2.5-py3-none-any.whl (16 kB)\n",
            "Requirement already satisfied: numpy in /usr/local/lib/python3.7/dist-packages (from autoray==0.2.5) (1.21.6)\n",
            "Installing collected packages: autoray\n",
            "  Attempting uninstall: autoray\n",
            "    Found existing installation: autoray 0.3.1\n",
            "    Uninstalling autoray-0.3.1:\n",
            "      Successfully uninstalled autoray-0.3.1\n",
            "\u001b[31mERROR: pip's dependency resolver does not currently take into account all the packages that are installed. This behaviour is the source of the following dependency conflicts.\n",
            "pennylane 0.23.1 requires autoray>=0.3.1, but you have autoray 0.2.5 which is incompatible.\u001b[0m\n",
            "Successfully installed autoray-0.2.5\n"
          ]
        },
        {
          "output_type": "display_data",
          "data": {
            "application/vnd.colab-display-data+json": {
              "pip_warning": {
                "packages": [
                  "autoray"
                ]
              }
            }
          },
          "metadata": {}
        },
        {
          "output_type": "stream",
          "name": "stdout",
          "text": [
            "Requirement already satisfied: pennylane in /usr/local/lib/python3.7/dist-packages (0.23.1)\n",
            "Requirement already satisfied: retworkx in /usr/local/lib/python3.7/dist-packages (from pennylane) (0.11.0)\n",
            "Requirement already satisfied: toml in /usr/local/lib/python3.7/dist-packages (from pennylane) (0.10.2)\n",
            "Requirement already satisfied: cachetools in /usr/local/lib/python3.7/dist-packages (from pennylane) (4.2.4)\n",
            "Requirement already satisfied: scipy in /usr/local/lib/python3.7/dist-packages (from pennylane) (1.4.1)\n",
            "Requirement already satisfied: numpy in /usr/local/lib/python3.7/dist-packages (from pennylane) (1.21.6)\n",
            "Requirement already satisfied: autograd in /usr/local/lib/python3.7/dist-packages (from pennylane) (1.4)\n",
            "Requirement already satisfied: semantic-version==2.6 in /usr/local/lib/python3.7/dist-packages (from pennylane) (2.6.0)\n",
            "Collecting autoray>=0.3.1\n",
            "  Using cached autoray-0.3.1-py3-none-any.whl (36 kB)\n",
            "Requirement already satisfied: appdirs in /usr/local/lib/python3.7/dist-packages (from pennylane) (1.4.4)\n",
            "Requirement already satisfied: pennylane-lightning>=0.23 in /usr/local/lib/python3.7/dist-packages (from pennylane) (0.23.0)\n",
            "Requirement already satisfied: networkx in /usr/local/lib/python3.7/dist-packages (from pennylane) (2.6.3)\n",
            "Requirement already satisfied: ninja in /usr/local/lib/python3.7/dist-packages (from pennylane-lightning>=0.23->pennylane) (1.10.2.3)\n",
            "Requirement already satisfied: future>=0.15.2 in /usr/local/lib/python3.7/dist-packages (from autograd->pennylane) (0.16.0)\n",
            "Installing collected packages: autoray\n",
            "  Attempting uninstall: autoray\n",
            "    Found existing installation: autoray 0.2.5\n",
            "    Uninstalling autoray-0.2.5:\n",
            "      Successfully uninstalled autoray-0.2.5\n",
            "Successfully installed autoray-0.3.1\n"
          ]
        },
        {
          "output_type": "display_data",
          "data": {
            "application/vnd.colab-display-data+json": {
              "pip_warning": {
                "packages": [
                  "autoray"
                ]
              }
            }
          },
          "metadata": {}
        },
        {
          "output_type": "stream",
          "name": "stdout",
          "text": [
            "Collecting qiskit\n",
            "  Downloading qiskit-0.36.1.tar.gz (13 kB)\n",
            "Collecting qiskit-terra==0.20.1\n",
            "  Downloading qiskit_terra-0.20.1-cp37-cp37m-manylinux_2_17_x86_64.manylinux2014_x86_64.whl (6.5 MB)\n",
            "\u001b[K     |████████████████████████████████| 6.5 MB 6.8 MB/s \n",
            "\u001b[?25hCollecting qiskit-aer==0.10.4\n",
            "  Downloading qiskit_aer-0.10.4-cp37-cp37m-manylinux_2_12_x86_64.manylinux2010_x86_64.whl (18.0 MB)\n",
            "\u001b[K     |████████████████████████████████| 18.0 MB 341 kB/s \n",
            "\u001b[?25hCollecting qiskit-ibmq-provider==0.19.1\n",
            "  Downloading qiskit_ibmq_provider-0.19.1-py3-none-any.whl (240 kB)\n",
            "\u001b[K     |████████████████████████████████| 240 kB 42.5 MB/s \n",
            "\u001b[?25hCollecting qiskit-ignis==0.7.0\n",
            "  Downloading qiskit_ignis-0.7.0-py3-none-any.whl (200 kB)\n",
            "\u001b[K     |████████████████████████████████| 200 kB 55.4 MB/s \n",
            "\u001b[?25hRequirement already satisfied: scipy>=1.0 in /usr/local/lib/python3.7/dist-packages (from qiskit-aer==0.10.4->qiskit) (1.4.1)\n",
            "Requirement already satisfied: numpy>=1.16.3 in /usr/local/lib/python3.7/dist-packages (from qiskit-aer==0.10.4->qiskit) (1.21.6)\n",
            "Requirement already satisfied: requests>=2.19 in /usr/local/lib/python3.7/dist-packages (from qiskit-ibmq-provider==0.19.1->qiskit) (2.23.0)\n",
            "Collecting websocket-client>=1.0.1\n",
            "  Downloading websocket_client-1.3.2-py3-none-any.whl (54 kB)\n",
            "\u001b[K     |████████████████████████████████| 54 kB 2.6 MB/s \n",
            "\u001b[?25hCollecting websockets>=10.0\n",
            "  Downloading websockets-10.3-cp37-cp37m-manylinux_2_5_x86_64.manylinux1_x86_64.manylinux_2_12_x86_64.manylinux2010_x86_64.whl (112 kB)\n",
            "\u001b[K     |████████████████████████████████| 112 kB 63.7 MB/s \n",
            "\u001b[?25hRequirement already satisfied: urllib3>=1.21.1 in /usr/local/lib/python3.7/dist-packages (from qiskit-ibmq-provider==0.19.1->qiskit) (1.24.3)\n",
            "Collecting requests-ntlm>=1.1.0\n",
            "  Downloading requests_ntlm-1.1.0-py2.py3-none-any.whl (5.7 kB)\n",
            "Requirement already satisfied: python-dateutil>=2.8.0 in /usr/local/lib/python3.7/dist-packages (from qiskit-ibmq-provider==0.19.1->qiskit) (2.8.2)\n",
            "Requirement already satisfied: retworkx>=0.8.0 in /usr/local/lib/python3.7/dist-packages (from qiskit-ignis==0.7.0->qiskit) (0.11.0)\n",
            "Requirement already satisfied: setuptools>=40.1.0 in /usr/local/lib/python3.7/dist-packages (from qiskit-ignis==0.7.0->qiskit) (57.4.0)\n",
            "Collecting ply>=3.10\n",
            "  Downloading ply-3.11-py2.py3-none-any.whl (49 kB)\n",
            "\u001b[K     |████████████████████████████████| 49 kB 5.9 MB/s \n",
            "\u001b[?25hRequirement already satisfied: psutil>=5 in /usr/local/lib/python3.7/dist-packages (from qiskit-terra==0.20.1->qiskit) (5.4.8)\n",
            "Requirement already satisfied: sympy>=1.3 in /usr/local/lib/python3.7/dist-packages (from qiskit-terra==0.20.1->qiskit) (1.7.1)\n",
            "Collecting stevedore>=3.0.0\n",
            "  Downloading stevedore-3.5.0-py3-none-any.whl (49 kB)\n",
            "\u001b[K     |████████████████████████████████| 49 kB 5.6 MB/s \n",
            "\u001b[?25hCollecting python-constraint>=1.4\n",
            "  Downloading python-constraint-1.4.0.tar.bz2 (18 kB)\n",
            "Requirement already satisfied: dill>=0.3 in /usr/local/lib/python3.7/dist-packages (from qiskit-terra==0.20.1->qiskit) (0.3.4)\n",
            "Collecting tweedledum<2.0,>=1.1\n",
            "  Downloading tweedledum-1.1.1-cp37-cp37m-manylinux_2_12_x86_64.manylinux2010_x86_64.whl (943 kB)\n",
            "\u001b[K     |████████████████████████████████| 943 kB 43.9 MB/s \n",
            "\u001b[?25hCollecting symengine>=0.9\n",
            "  Downloading symengine-0.9.2-cp37-cp37m-manylinux2010_x86_64.whl (37.5 MB)\n",
            "\u001b[K     |████████████████████████████████| 37.5 MB 20 kB/s \n",
            "\u001b[?25hCollecting scipy>=1.0\n",
            "  Downloading scipy-1.7.3-cp37-cp37m-manylinux_2_12_x86_64.manylinux2010_x86_64.whl (38.1 MB)\n",
            "\u001b[K     |████████████████████████████████| 38.1 MB 1.1 MB/s \n",
            "\u001b[?25hRequirement already satisfied: six>=1.5 in /usr/local/lib/python3.7/dist-packages (from python-dateutil>=2.8.0->qiskit-ibmq-provider==0.19.1->qiskit) (1.15.0)\n",
            "Requirement already satisfied: idna<3,>=2.5 in /usr/local/lib/python3.7/dist-packages (from requests>=2.19->qiskit-ibmq-provider==0.19.1->qiskit) (2.10)\n",
            "Requirement already satisfied: certifi>=2017.4.17 in /usr/local/lib/python3.7/dist-packages (from requests>=2.19->qiskit-ibmq-provider==0.19.1->qiskit) (2021.10.8)\n",
            "Requirement already satisfied: chardet<4,>=3.0.2 in /usr/local/lib/python3.7/dist-packages (from requests>=2.19->qiskit-ibmq-provider==0.19.1->qiskit) (3.0.4)\n",
            "Collecting cryptography>=1.3\n",
            "  Downloading cryptography-37.0.2-cp36-abi3-manylinux_2_24_x86_64.whl (4.0 MB)\n",
            "\u001b[K     |████████████████████████████████| 4.0 MB 38.9 MB/s \n",
            "\u001b[?25hCollecting ntlm-auth>=1.0.2\n",
            "  Downloading ntlm_auth-1.5.0-py2.py3-none-any.whl (29 kB)\n",
            "Requirement already satisfied: cffi>=1.12 in /usr/local/lib/python3.7/dist-packages (from cryptography>=1.3->requests-ntlm>=1.1.0->qiskit-ibmq-provider==0.19.1->qiskit) (1.15.0)\n",
            "Requirement already satisfied: pycparser in /usr/local/lib/python3.7/dist-packages (from cffi>=1.12->cryptography>=1.3->requests-ntlm>=1.1.0->qiskit-ibmq-provider==0.19.1->qiskit) (2.21)\n",
            "Collecting pbr!=2.1.0,>=2.0.0\n",
            "  Downloading pbr-5.9.0-py2.py3-none-any.whl (112 kB)\n",
            "\u001b[K     |████████████████████████████████| 112 kB 68.4 MB/s \n",
            "\u001b[?25hRequirement already satisfied: importlib-metadata>=1.7.0 in /usr/local/lib/python3.7/dist-packages (from stevedore>=3.0.0->qiskit-terra==0.20.1->qiskit) (4.11.3)\n",
            "Requirement already satisfied: zipp>=0.5 in /usr/local/lib/python3.7/dist-packages (from importlib-metadata>=1.7.0->stevedore>=3.0.0->qiskit-terra==0.20.1->qiskit) (3.8.0)\n",
            "Requirement already satisfied: typing-extensions>=3.6.4 in /usr/local/lib/python3.7/dist-packages (from importlib-metadata>=1.7.0->stevedore>=3.0.0->qiskit-terra==0.20.1->qiskit) (4.2.0)\n",
            "Requirement already satisfied: mpmath>=0.19 in /usr/local/lib/python3.7/dist-packages (from sympy>=1.3->qiskit-terra==0.20.1->qiskit) (1.2.1)\n",
            "Building wheels for collected packages: qiskit, python-constraint\n",
            "  Building wheel for qiskit (setup.py) ... \u001b[?25l\u001b[?25hdone\n",
            "  Created wheel for qiskit: filename=qiskit-0.36.1-py3-none-any.whl size=11887 sha256=7c86a8f3f3bd759982f42ddfd387cb8f6b05e719998e9c2fdf3fe904ef7a621e\n",
            "  Stored in directory: /root/.cache/pip/wheels/16/d2/58/340c0b0c7701a58b596126e5eb31c347c8dbfda8b949a555bd\n",
            "  Building wheel for python-constraint (setup.py) ... \u001b[?25l\u001b[?25hdone\n",
            "  Created wheel for python-constraint: filename=python_constraint-1.4.0-py2.py3-none-any.whl size=24081 sha256=e3ba78f354708de03e40f5cd4687ed940e39ed70df8ae45483a461dc10a8c7c9\n",
            "  Stored in directory: /root/.cache/pip/wheels/07/27/db/1222c80eb1e431f3d2199c12569cb1cac60f562a451fe30479\n",
            "Successfully built qiskit python-constraint\n",
            "Installing collected packages: pbr, tweedledum, symengine, stevedore, scipy, python-constraint, ply, ntlm-auth, cryptography, websockets, websocket-client, requests-ntlm, qiskit-terra, qiskit-ignis, qiskit-ibmq-provider, qiskit-aer, qiskit\n",
            "  Attempting uninstall: scipy\n",
            "    Found existing installation: scipy 1.4.1\n",
            "    Uninstalling scipy-1.4.1:\n",
            "      Successfully uninstalled scipy-1.4.1\n",
            "\u001b[31mERROR: pip's dependency resolver does not currently take into account all the packages that are installed. This behaviour is the source of the following dependency conflicts.\n",
            "albumentations 0.1.12 requires imgaug<0.2.7,>=0.2.5, but you have imgaug 0.2.9 which is incompatible.\u001b[0m\n",
            "Successfully installed cryptography-37.0.2 ntlm-auth-1.5.0 pbr-5.9.0 ply-3.11 python-constraint-1.4.0 qiskit-0.36.1 qiskit-aer-0.10.4 qiskit-ibmq-provider-0.19.1 qiskit-ignis-0.7.0 qiskit-terra-0.20.1 requests-ntlm-1.1.0 scipy-1.7.3 stevedore-3.5.0 symengine-0.9.2 tweedledum-1.1.1 websocket-client-1.3.2 websockets-10.3\n"
          ]
        },
        {
          "output_type": "display_data",
          "data": {
            "application/vnd.colab-display-data+json": {
              "pip_warning": {
                "packages": [
                  "scipy"
                ]
              }
            }
          },
          "metadata": {}
        }
      ],
      "source": [
        "!pip install wandb\n",
        "!pip install autoray==0.2.5\n",
        "!pip install pennylane\n",
        "!pip install qiskit\n"
      ]
    },
    {
      "cell_type": "code",
      "execution_count": null,
      "metadata": {
        "id": "EjUD05mp1t3f"
      },
      "outputs": [],
      "source": [
        "# %%writefile experience_replay.py\n",
        "from collections import namedtuple,deque\n",
        "import random\n",
        "import numpy as np\n",
        "import pandas as pd\n",
        "import torch\n",
        "class ER_Memory(object):\n",
        "    def __init__(self, capacity, device=\"cpu\"):\n",
        "        self.capacity = capacity\n",
        "        self.device = device\n",
        "        self.states = torch.zeros((capacity, 4), dtype=torch.float32, device=self.device)\n",
        "        self.actions = torch.zeros((capacity,1), dtype=torch.int64,device=self.device)\n",
        "        self.rewards = torch.zeros((capacity,1), dtype=torch.int64,device=self.device)\n",
        "        self.next_states = torch.zeros((capacity, 4), dtype=torch.float32,device=self.device)\n",
        "        self.dones = torch.zeros(capacity, dtype=torch.int64,device=self.device)\n",
        "        self.index = 0\n",
        "        self._len = 0\n",
        "\n",
        "    def remember(self, *args):\n",
        "        exp = [*args]\n",
        "\n",
        "        self.states[self.index] = torch.from_numpy(exp[0])\n",
        "        self.actions[self.index] = int(exp[1])\n",
        "        self.rewards[self.index] = exp[2]\n",
        "        self.next_states[self.index] = torch.from_numpy(exp[3])\n",
        "        self.dones[self.index] = exp[4]\n",
        "\n",
        "        self.index = (self.index+1)%self.capacity\n",
        "        self._len = min(self._len+1, self.capacity)\n",
        "    def sample(self, batch_size):\n",
        "        batch_idxs= np.random.choice(np.arange(self._len), size=min(self._len, batch_size), replace=False)\n",
        "        \n",
        "        return self.states[batch_idxs], self.actions[batch_idxs], self.rewards[batch_idxs], self.next_states[batch_idxs], self.dones[batch_idxs]\n",
        "\n",
        "    def __len__(self):\n",
        "      return self._len\n",
        "\n",
        "class PER_Memory(object):\n",
        "    def __init__(self, capacity, device=\"cpu\"):\n",
        "        self.e = 0.01\n",
        "        self.alpha = 0.6\n",
        "        self.beta = 0.4\n",
        "        self.beta_per = 0.01\n",
        "        self.capacity = capacity\n",
        "        self.device = device\n",
        "\n",
        "        self.states = torch.zeros((capacity, 4), dtype=torch.float32, device=self.device)\n",
        "        self.actions = torch.zeros((capacity,1), dtype=torch.int64,device=self.device)\n",
        "        self.rewards = torch.zeros((capacity,1), dtype=torch.int64,device=self.device)\n",
        "        self.next_states = torch.zeros((capacity, 4), dtype=torch.float32,device=self.device)\n",
        "        self.dones = torch.zeros(capacity, dtype=torch.int64,device=self.device)\n",
        "        self.priorities = torch.zeros((capacity,1), dtype=torch.float32,device=self.device)\n",
        "        self.index = 0\n",
        "        self._len = 0\n",
        "        \n",
        "    def remember(self, *args):\n",
        "        exp = [*args]\n",
        "        self.states[self.index] = torch.from_numpy(exp[0])\n",
        "        self.actions[self.index] = int(exp[1])\n",
        "        self.rewards[self.index] = exp[2]\n",
        "        self.next_states[self.index] = torch.from_numpy(exp[3])\n",
        "        self.dones[self.index] = exp[4]\n",
        "        self.priorities[self.index] = max(self.priorities.max(), 1)\n",
        "        self.index = (self.index+1)%self.capacity\n",
        "        self._len = min(self._len+1, self.capacity)\n",
        "\n",
        "    def get_probabilities(self):\n",
        "        scaled_priorities = self.priorities.pow(self.alpha)\n",
        "        sample_probabilities = scaled_priorities/ torch.sum(scaled_priorities)\n",
        "        return sample_probabilities\n",
        "\n",
        "    def get_importance(self, probabilities):\n",
        "        importance = (1/self._len) * (1/probabilities)\n",
        "        importance_normalized = importance / np.max(importance)\n",
        "        return importance_normalized\n",
        "\n",
        "    def sample(self, batch_size):\n",
        "        sample_probs = self.get_probabilities()[:self._len].detach().numpy().flatten()\n",
        "        batch_idxs = np.random.choice(np.arange(self._len),\n",
        "                                      size=min(self._len, batch_size),\n",
        "                                      p=sample_probs, replace=False)\n",
        "        minibatch = self.states[batch_idxs], self.actions[batch_idxs], self.rewards[batch_idxs], self.next_states[batch_idxs], self.dones[batch_idxs]\n",
        "        w = self.get_importance(sample_probs[batch_idxs])**(self.beta)\n",
        "        return batch_idxs, minibatch,  w\n",
        "\n",
        "    def __len__(self):\n",
        "        return self._len\n",
        "    def update_priorities(self, indices, priorities):\n",
        "        clipped_errors = np.minimum(priorities.detach().numpy(), 1.0)\n",
        "        ps = np.power(clipped_errors, self.alpha)\n",
        "        for i,p in zip( indices, ps):\n",
        "          self.priorities[i]= p+self.e\n"
      ]
    },
    {
      "cell_type": "code",
      "execution_count": null,
      "metadata": {
        "colab": {
          "base_uri": "https://localhost:8080/"
        },
        "id": "r5K8H5MdG8be",
        "outputId": "d7e84a9d-bb27-4522-f6d6-9b6cf2932432"
      },
      "outputs": [
        {
          "name": "stdout",
          "output_type": "stream",
          "text": [
            "----------------------------------------------------------------\n",
            "        Layer (type)               Output Shape         Param #\n",
            "================================================================\n",
            "            Linear-1                [-1, 1, 64]             320\n",
            "            Linear-2                [-1, 1, 64]           4,160\n",
            "            Linear-3                [-1, 1, 64]           4,160\n",
            "            Linear-4                [-1, 1, 64]           4,160\n",
            "            Linear-5                 [-1, 1, 2]             130\n",
            "================================================================\n",
            "Total params: 12,930\n",
            "Trainable params: 12,930\n",
            "Non-trainable params: 0\n",
            "----------------------------------------------------------------\n",
            "Input size (MB): 0.00\n",
            "Forward/backward pass size (MB): 0.00\n",
            "Params size (MB): 0.05\n",
            "Estimated Total Size (MB): 0.05\n",
            "----------------------------------------------------------------\n"
          ]
        }
      ],
      "source": [
        "# %%writefile dense_net_per.py\n",
        "import torch.cuda\n",
        "import torch.nn as nn\n",
        "import torch.nn.functional as F\n",
        "\n",
        "class Dense_Net(nn.Module):\n",
        "    def __init__(self, n_layers=5):\n",
        "        super(Dense_Net, self).__init__()\n",
        "        self.linear_in = nn.Linear(4, 64)\n",
        "        self.layers = nn.ModuleList()\n",
        "\n",
        "        for i in range(n_layers-2):\n",
        "          self.layers.append(nn.Linear(64, 64))\n",
        "       \n",
        "        self.linear_out = nn.Linear(64,2)\n",
        "        nn.init.xavier_normal_(self.linear_in.weight)\n",
        "        for l in self.layers:\n",
        "          nn.init.xavier_normal_(l.weight)\n",
        "        nn.init.xavier_normal_(self.linear_out.weight)\n",
        "\n",
        "    def forward(self, x):\n",
        "        x = F.relu(self.linear_in(x))\n",
        "        for l in self.layers:\n",
        "          x = F.relu(l(x))\n",
        "        x = self.linear_out(x)\n",
        "        return x\n",
        "from torchsummary import summary\n",
        "dnn = Dense_Net()\n",
        "x = torch.FloatTensor([[0,0,0,0]])\n",
        "summary(dnn,(1,4))\n"
      ]
    },
    {
      "cell_type": "code",
      "source": [
        "!pip install pennylane-qiskit"
      ],
      "metadata": {
        "colab": {
          "base_uri": "https://localhost:8080/"
        },
        "id": "uRPI-qIDhocx",
        "outputId": "5e56e244-5918-46d4-e509-296663946b79"
      },
      "execution_count": null,
      "outputs": [
        {
          "output_type": "stream",
          "name": "stdout",
          "text": [
            "Collecting pennylane-qiskit\n",
            "  Downloading PennyLane_qiskit-0.23.0-py3-none-any.whl (34 kB)\n",
            "Requirement already satisfied: numpy in /usr/local/lib/python3.7/dist-packages (from pennylane-qiskit) (1.21.6)\n",
            "Collecting mthree>=0.17\n",
            "  Downloading mthree-0.22.0-cp37-cp37m-manylinux_2_5_x86_64.manylinux1_x86_64.manylinux_2_12_x86_64.manylinux2010_x86_64.whl (3.4 MB)\n",
            "\u001b[K     |████████████████████████████████| 3.4 MB 10.8 MB/s \n",
            "\u001b[?25hRequirement already satisfied: pennylane>=0.22 in /usr/local/lib/python3.7/dist-packages (from pennylane-qiskit) (0.23.1)\n",
            "Requirement already satisfied: networkx>=2.2 in /usr/local/lib/python3.7/dist-packages (from pennylane-qiskit) (2.6.3)\n",
            "Requirement already satisfied: qiskit>=0.32 in /usr/local/lib/python3.7/dist-packages (from pennylane-qiskit) (0.36.1)\n",
            "Collecting orjson>=3.0.0\n",
            "  Downloading orjson-3.6.8-cp37-cp37m-manylinux_2_24_x86_64.whl (253 kB)\n",
            "\u001b[K     |████████████████████████████████| 253 kB 46.2 MB/s \n",
            "\u001b[?25hRequirement already satisfied: psutil in /usr/local/lib/python3.7/dist-packages (from mthree>=0.17->pennylane-qiskit) (5.4.8)\n",
            "Requirement already satisfied: scipy>=1.3 in /usr/local/lib/python3.7/dist-packages (from mthree>=0.17->pennylane-qiskit) (1.7.3)\n",
            "Requirement already satisfied: qiskit-ibmq-provider>=0.15 in /usr/local/lib/python3.7/dist-packages (from mthree>=0.17->pennylane-qiskit) (0.19.1)\n",
            "Requirement already satisfied: qiskit-terra>=0.18 in /usr/local/lib/python3.7/dist-packages (from mthree>=0.17->pennylane-qiskit) (0.20.1)\n",
            "Requirement already satisfied: cython>=0.29 in /usr/local/lib/python3.7/dist-packages (from mthree>=0.17->pennylane-qiskit) (0.29.28)\n",
            "Requirement already satisfied: appdirs in /usr/local/lib/python3.7/dist-packages (from pennylane>=0.22->pennylane-qiskit) (1.4.4)\n",
            "Requirement already satisfied: pennylane-lightning>=0.23 in /usr/local/lib/python3.7/dist-packages (from pennylane>=0.22->pennylane-qiskit) (0.23.0)\n",
            "Requirement already satisfied: autoray>=0.3.1 in /usr/local/lib/python3.7/dist-packages (from pennylane>=0.22->pennylane-qiskit) (0.3.1)\n",
            "Requirement already satisfied: semantic-version==2.6 in /usr/local/lib/python3.7/dist-packages (from pennylane>=0.22->pennylane-qiskit) (2.6.0)\n",
            "Requirement already satisfied: retworkx in /usr/local/lib/python3.7/dist-packages (from pennylane>=0.22->pennylane-qiskit) (0.11.0)\n",
            "Requirement already satisfied: toml in /usr/local/lib/python3.7/dist-packages (from pennylane>=0.22->pennylane-qiskit) (0.10.2)\n",
            "Requirement already satisfied: autograd in /usr/local/lib/python3.7/dist-packages (from pennylane>=0.22->pennylane-qiskit) (1.4)\n",
            "Requirement already satisfied: cachetools in /usr/local/lib/python3.7/dist-packages (from pennylane>=0.22->pennylane-qiskit) (4.2.4)\n",
            "Requirement already satisfied: ninja in /usr/local/lib/python3.7/dist-packages (from pennylane-lightning>=0.23->pennylane>=0.22->pennylane-qiskit) (1.10.2.3)\n",
            "Requirement already satisfied: qiskit-aer==0.10.4 in /usr/local/lib/python3.7/dist-packages (from qiskit>=0.32->pennylane-qiskit) (0.10.4)\n",
            "Requirement already satisfied: qiskit-ignis==0.7.0 in /usr/local/lib/python3.7/dist-packages (from qiskit>=0.32->pennylane-qiskit) (0.7.0)\n",
            "Requirement already satisfied: urllib3>=1.21.1 in /usr/local/lib/python3.7/dist-packages (from qiskit-ibmq-provider>=0.15->mthree>=0.17->pennylane-qiskit) (1.24.3)\n",
            "Requirement already satisfied: websockets>=10.0 in /usr/local/lib/python3.7/dist-packages (from qiskit-ibmq-provider>=0.15->mthree>=0.17->pennylane-qiskit) (10.3)\n",
            "Requirement already satisfied: requests-ntlm>=1.1.0 in /usr/local/lib/python3.7/dist-packages (from qiskit-ibmq-provider>=0.15->mthree>=0.17->pennylane-qiskit) (1.1.0)\n",
            "Requirement already satisfied: websocket-client>=1.0.1 in /usr/local/lib/python3.7/dist-packages (from qiskit-ibmq-provider>=0.15->mthree>=0.17->pennylane-qiskit) (1.3.2)\n",
            "Requirement already satisfied: python-dateutil>=2.8.0 in /usr/local/lib/python3.7/dist-packages (from qiskit-ibmq-provider>=0.15->mthree>=0.17->pennylane-qiskit) (2.8.2)\n",
            "Requirement already satisfied: requests>=2.19 in /usr/local/lib/python3.7/dist-packages (from qiskit-ibmq-provider>=0.15->mthree>=0.17->pennylane-qiskit) (2.23.0)\n",
            "Requirement already satisfied: setuptools>=40.1.0 in /usr/local/lib/python3.7/dist-packages (from qiskit-ignis==0.7.0->qiskit>=0.32->pennylane-qiskit) (57.4.0)\n",
            "Requirement already satisfied: dill>=0.3 in /usr/local/lib/python3.7/dist-packages (from qiskit-terra>=0.18->mthree>=0.17->pennylane-qiskit) (0.3.4)\n",
            "Requirement already satisfied: stevedore>=3.0.0 in /usr/local/lib/python3.7/dist-packages (from qiskit-terra>=0.18->mthree>=0.17->pennylane-qiskit) (3.5.0)\n",
            "Requirement already satisfied: symengine>=0.9 in /usr/local/lib/python3.7/dist-packages (from qiskit-terra>=0.18->mthree>=0.17->pennylane-qiskit) (0.9.2)\n",
            "Requirement already satisfied: tweedledum<2.0,>=1.1 in /usr/local/lib/python3.7/dist-packages (from qiskit-terra>=0.18->mthree>=0.17->pennylane-qiskit) (1.1.1)\n",
            "Requirement already satisfied: python-constraint>=1.4 in /usr/local/lib/python3.7/dist-packages (from qiskit-terra>=0.18->mthree>=0.17->pennylane-qiskit) (1.4.0)\n",
            "Requirement already satisfied: sympy>=1.3 in /usr/local/lib/python3.7/dist-packages (from qiskit-terra>=0.18->mthree>=0.17->pennylane-qiskit) (1.7.1)\n",
            "Requirement already satisfied: ply>=3.10 in /usr/local/lib/python3.7/dist-packages (from qiskit-terra>=0.18->mthree>=0.17->pennylane-qiskit) (3.11)\n",
            "Requirement already satisfied: six>=1.5 in /usr/local/lib/python3.7/dist-packages (from python-dateutil>=2.8.0->qiskit-ibmq-provider>=0.15->mthree>=0.17->pennylane-qiskit) (1.15.0)\n",
            "Requirement already satisfied: idna<3,>=2.5 in /usr/local/lib/python3.7/dist-packages (from requests>=2.19->qiskit-ibmq-provider>=0.15->mthree>=0.17->pennylane-qiskit) (2.10)\n",
            "Requirement already satisfied: chardet<4,>=3.0.2 in /usr/local/lib/python3.7/dist-packages (from requests>=2.19->qiskit-ibmq-provider>=0.15->mthree>=0.17->pennylane-qiskit) (3.0.4)\n",
            "Requirement already satisfied: certifi>=2017.4.17 in /usr/local/lib/python3.7/dist-packages (from requests>=2.19->qiskit-ibmq-provider>=0.15->mthree>=0.17->pennylane-qiskit) (2021.10.8)\n",
            "Requirement already satisfied: ntlm-auth>=1.0.2 in /usr/local/lib/python3.7/dist-packages (from requests-ntlm>=1.1.0->qiskit-ibmq-provider>=0.15->mthree>=0.17->pennylane-qiskit) (1.5.0)\n",
            "Requirement already satisfied: cryptography>=1.3 in /usr/local/lib/python3.7/dist-packages (from requests-ntlm>=1.1.0->qiskit-ibmq-provider>=0.15->mthree>=0.17->pennylane-qiskit) (37.0.2)\n",
            "Requirement already satisfied: cffi>=1.12 in /usr/local/lib/python3.7/dist-packages (from cryptography>=1.3->requests-ntlm>=1.1.0->qiskit-ibmq-provider>=0.15->mthree>=0.17->pennylane-qiskit) (1.15.0)\n",
            "Requirement already satisfied: pycparser in /usr/local/lib/python3.7/dist-packages (from cffi>=1.12->cryptography>=1.3->requests-ntlm>=1.1.0->qiskit-ibmq-provider>=0.15->mthree>=0.17->pennylane-qiskit) (2.21)\n",
            "Requirement already satisfied: pbr!=2.1.0,>=2.0.0 in /usr/local/lib/python3.7/dist-packages (from stevedore>=3.0.0->qiskit-terra>=0.18->mthree>=0.17->pennylane-qiskit) (5.9.0)\n",
            "Requirement already satisfied: importlib-metadata>=1.7.0 in /usr/local/lib/python3.7/dist-packages (from stevedore>=3.0.0->qiskit-terra>=0.18->mthree>=0.17->pennylane-qiskit) (4.11.3)\n",
            "Requirement already satisfied: typing-extensions>=3.6.4 in /usr/local/lib/python3.7/dist-packages (from importlib-metadata>=1.7.0->stevedore>=3.0.0->qiskit-terra>=0.18->mthree>=0.17->pennylane-qiskit) (4.2.0)\n",
            "Requirement already satisfied: zipp>=0.5 in /usr/local/lib/python3.7/dist-packages (from importlib-metadata>=1.7.0->stevedore>=3.0.0->qiskit-terra>=0.18->mthree>=0.17->pennylane-qiskit) (3.8.0)\n",
            "Requirement already satisfied: mpmath>=0.19 in /usr/local/lib/python3.7/dist-packages (from sympy>=1.3->qiskit-terra>=0.18->mthree>=0.17->pennylane-qiskit) (1.2.1)\n",
            "Requirement already satisfied: future>=0.15.2 in /usr/local/lib/python3.7/dist-packages (from autograd->pennylane>=0.22->pennylane-qiskit) (0.16.0)\n",
            "Installing collected packages: orjson, mthree, pennylane-qiskit\n",
            "Successfully installed mthree-0.22.0 orjson-3.6.8 pennylane-qiskit-0.23.0\n"
          ]
        }
      ]
    },
    {
      "cell_type": "code",
      "execution_count": null,
      "metadata": {
        "id": "dewYOA6Z6ZLJ",
        "colab": {
          "base_uri": "https://localhost:8080/",
          "height": 237
        },
        "outputId": "e672ed2e-b11e-4070-8dad-8a3a9d550448"
      },
      "outputs": [
        {
          "output_type": "execute_result",
          "data": {
            "text/plain": [
              "Reupload_Net(\n",
              "  (qvc): <Quantum Torch Layer: func=circuit>\n",
              ")"
            ]
          },
          "metadata": {},
          "execution_count": 43
        },
        {
          "output_type": "display_data",
          "data": {
            "text/plain": [
              "<Figure size 2736x360 with 1 Axes>"
            ],
            "image/png": "[encoded data removed]"
          },
          "metadata": {}
        }
      ],
      "source": [
        "import pennylane as qml\n",
        "from pennylane import numpy as np\n",
        "from torch import nn\n",
        "import torch\n",
        "import matplotlib.pyplot as plt\n",
        "\n",
        "class Reupload_Net(nn.Module):\n",
        "    def __init__(self, n_layers=3, n_qubits=4):\n",
        "      super(Reupload_Net, self).__init__()\n",
        "      self.n_layers = n_layers\n",
        "      self.n_qubits = n_qubits\n",
        "      self.weight_shapes = {\"weights\": (self.n_layers, self.n_qubits, 3), \"w_in\": (self.n_layers,self.n_qubits)}\n",
        "      dev = qml.device(\"qiskit.aer\", wires=self.n_qubits)\n",
        "      def layer( W):\n",
        "        for i in range(self.n_qubits):\n",
        "          qml.RY(W[i,1], wires=i)\n",
        "          qml.RZ(W[i,2], wires=i)\n",
        "      @qml.qnode(dev, interface='torch')\n",
        "      def circuit(weights, inputs, w_in):\n",
        "          # W: Layer Variable Parameters, s: State Variable\n",
        "          for i in range(self.n_layers):\n",
        "            # Weighted Input Encoding\n",
        "            qml.AngleEmbedding(torch.tanh(torch.multiply(inputs,w_in[i])), wires=range(self.n_qubits), rotation=\"X\")\n",
        "            # Parameterized Layer\n",
        "            layer(weights[i])\n",
        "            # Entangling\n",
        "            for j in range(n_qubits):\n",
        "                qml.CNOT(wires=[j%self.n_qubits,(j+1)%self.n_qubits])\n",
        "          return [qml.expval(qml.PauliZ(0)@qml.PauliZ(1)), qml.expval(qml.PauliZ(2)@qml.PauliZ(3))]\n",
        "      self.qvc = qml.qnn.TorchLayer(circuit, self.weight_shapes,init_method=nn.init.xavier_normal_)\n",
        "      d = self.qvc.state_dict()\n",
        "      d[\"w_in\"] =torch.autograd.Variable(torch.ones(n_layers,n_qubits,requires_grad=True))\n",
        "      self.w_out = nn.Parameter(torch.ones(1,2),requires_grad=True)\n",
        "      self.qvc.load_state_dict(d)\n",
        "      W = torch.DoubleTensor(self.n_layers,self.n_qubits,3)\n",
        "      ins = torch.ones(self.n_layers)\n",
        "      qml.drawer.use_style(\"black_white_dark\")\n",
        "      self.fig, self.ax = qml.draw_mpl(circuit,fontsize=\"xx-large\")(weights=W , inputs=torch.tensor([[0,0,0,0]]) ,w_in=ins)\n",
        "      self.fig.show()   \n",
        "    def forward(self, x):\n",
        "      # rescaled out \n",
        "      out =  (self.qvc(x)+1)/2\n",
        "      return torch.mul(out, self.w_out)\n",
        "    def save_visual(self,path):\n",
        "      self.fig.savefig(path)\n",
        "\n",
        "Reupload_Net(5)\n"
      ]
    },
    {
      "cell_type": "code",
      "execution_count": null,
      "metadata": {
        "colab": {
          "base_uri": "https://localhost:8080/",
          "height": 37
        },
        "id": "lrf_UH_mLr4R",
        "outputId": "977ddf77-6325-4571-c73d-07378bd8487a"
      },
      "outputs": [
        {
          "data": {
            "application/vnd.google.colaboratory.intrinsic+json": {
              "type": "string"
            },
            "text/plain": [
              "'gradient'"
            ]
          },
          "execution_count": 86,
          "metadata": {},
          "output_type": "execute_result"
        }
      ],
      "source": [
        "# qml.QNode(circuit, dev, interface='torch')\n"
      ]
    },
    {
      "cell_type": "code",
      "execution_count": null,
      "metadata": {
        "id": "O_OzFTIRHjWX"
      },
      "outputs": [],
      "source": [
        "# %%writefile hyperparameters.py\n",
        "\n",
        "LR = 0.001\n",
        "GAMMA = 0.95\n",
        "EPSILON = 1.0\n",
        "EPSILON_DECAY= 0.99\n",
        "EPSILON_MIN = 0.01\n",
        "N_EPISODES = 200\n",
        "BATCH_SIZE = 16\n",
        "BUFFER_SIZE = 10000\n",
        "UPDATE_TARGET = 10\n",
        "UPDATE_MODEL = 1\n",
        "TRAIN_START = 1\n",
        "is_DDQN = True\n",
        "use_PER = False"
      ]
    },
    {
      "cell_type": "code",
      "execution_count": null,
      "metadata": {
        "id": "Ay_6i2KbublD"
      },
      "outputs": [],
      "source": [
        "from copy import copy\n",
        "import gym\n",
        "import matplotlib.pyplot as plt\n",
        "from torch.optim import *\n",
        "from collections import deque\n",
        "import random\n",
        "import numpy as np\n",
        "import os\n",
        "import time\n",
        "import datetime\n",
        "from pathlib import Path\n",
        "import wandb\n",
        "\n",
        "torch.autograd.set_detect_anomaly(False)\n",
        "torch.autograd.profiler.profile(False)\n",
        "torch.autograd.profiler.emit_nvtx(False)\n",
        "\n",
        "class DQN(object):\n",
        "    def __init__(self, model, config, env=\"CartPole-v0\") -> None:\n",
        "        # GYM environment\n",
        "        self.env = gym.make(env)\n",
        "        self.action_space = self.env.action_space.n\n",
        "        self.state_space = self.env.observation_space.shape[0]\n",
        "        print(\"State Space: {}\".format(self.state_space))\n",
        "        print(\"Action Space: {}\".format(self.action_space))\n",
        "\n",
        "        # HYPERPARAMETERS\n",
        "        self.config = config\n",
        "        print(config)\n",
        "        self.lr = self.config[\"learning_rate\"]\n",
        "        self.gamma = self.config[\"gamma\"]\n",
        "        self.epsilon = self.config[\"epsilon\"]\n",
        "        self.epsilon_decay = self.config[\"epsilon_decay\"]\n",
        "        self.epsilon_min = self.config[\"epsilon_min\"]\n",
        "        self.batch = self.config[\"batch_size\"]\n",
        "        self.episodes = self.config[\"n_episodes\"]\n",
        "        self.buff = self.config[\"buffer_size\"]\n",
        "        self.update_target = self.config[\"update_target\"]\n",
        "        self.update_model = self.config[\"update_model\"]\n",
        "        self.train_start = self.config[\"train_start\"]\n",
        "        self.ddqn= self.config[\"is_DDQN\"]\n",
        "        self.use_per = self.config[\"use_PER\"]\n",
        "        self.reupload= self.config[\"is_Reupload\"]\n",
        "        self.n_layers = self.config[\"n_layers\"]\n",
        "\n",
        "        use_cuda = False\n",
        "        \n",
        "        self.device = torch.device(\"cuda\" if use_cuda else \"cpu\")\n",
        "        \n",
        "        # Q-network\n",
        "        self.q_network = model(self.n_layers)\n",
        "        # Quantum Reupload prep\n",
        "        if self.reupload:\n",
        "          \n",
        "          self.param_in = [self.q_network.qvc.w_in]\n",
        "          self.param_weights = [self.q_network.qvc.weights]\n",
        "          self.param_out = [self.q_network.w_out]\n",
        "          self.opt_in =Adam(self.param_in, lr=.001,amsgrad=True)\n",
        "          self.opt_var =Adam(self.param_weights,lr=self.lr,amsgrad=True)\n",
        "          self.opt_out =Adam(self.param_out, lr=.1,amsgrad=True)\n",
        "        else:\n",
        "          self.opt = Adam(self.q_network.parameters(),lr=self.lr,amsgrad=True)\n",
        "        # Target network\n",
        "        self.target = model(self.n_layers)\n",
        "        self.sync_weights()\n",
        "        # GPU setup\n",
        "\n",
        "        if use_cuda:\n",
        "            print(\"GPU being used:\", torch.cuda.get_device_name(0))\n",
        "            self.q_network.cuda(self.device)\n",
        "            self.target.cuda(self.device)\n",
        "        self.target.eval()\n",
        "        \n",
        "        # DQN setup\n",
        "        self.loss_fn = torch.nn.MSELoss()\n",
        "        if self.use_per:\n",
        "          self.memory = PER_Memory(self.buff)\n",
        "        else:\n",
        "          self.memory = ER_Memory(self.buff)\n",
        "        self.counter = 0\n",
        "        self.step = 0\n",
        "        self.current_episode = 0\n",
        "\n",
        "        # stat tracking\n",
        "        self.rewards = []\n",
        "        self.avg_rewards = []\n",
        "        self.losses = []\n",
        "        self.q_values = []\n",
        "\n",
        "\n",
        "        self.name = \"DQN_{}\".format(datetime.datetime.now())\n",
        "        self.path = \"{}_logs\".format(self.name)\n",
        "        self.save_path = \"{}/{}_ep_{}.pt\".format(self.path,self.name,self.current_episode+1)\n",
        "        os.makedirs(self.path, exist_ok=False)\n",
        "\n",
        "    def preprocess_state(self,x):\n",
        "        x = np.stack(x)\n",
        "        state = torch.FloatTensor(x).to(self.device)\n",
        "        return state\n",
        "    \n",
        "    def sync_weights(self):\n",
        "        self.target.load_state_dict(self.q_network.state_dict())\n",
        "\n",
        "    def remember(self, state, action, reward, next_state, done):\n",
        "        self.memory.remember(state, action, reward, next_state, done)\n",
        "        self.counter += 1\n",
        "\n",
        "    def get_action(self, obs):\n",
        "        if len(self.memory) > self.batch:\n",
        "            if self.epsilon > self.epsilon_min:\n",
        "                self.epsilon *= self.epsilon_decay\n",
        "        if np.random.random() <= self.epsilon:\n",
        "            return self.env.action_space.sample()\n",
        "        else:\n",
        "            self.q_network.eval()\n",
        "            obs = self.preprocess_state([obs])\n",
        "            return int(self.q_network(obs).argmax().detach())\n",
        "\n",
        "    def learn(self):\n",
        "        if len(self.memory) < self.train_start:\n",
        "            return 0\n",
        "        if self.use_per:\n",
        "          idx, minibatch, ws = self.memory.sample(self.batch)\n",
        "          if self.memory.beta >1:\n",
        "            self.memory.beta=1\n",
        "        else: \n",
        "          minibatch = self.memory.sample(min(len(self.memory), self.batch))\n",
        "        states, actions, rewards, next_states, dones = minibatch\n",
        "        self.q_network.train()\n",
        "        self.target.eval()\n",
        "        # DDQN\n",
        "        if self.ddqn:\n",
        "          Q = self.q_network.forward(states).gather(1, actions).squeeze(-1)# Q(s, a, wq)\n",
        "          A_best = self.q_network.forward(next_states).argmax(1).reshape(-1,1) # \n",
        "          Q_next = self.target.forward(next_states).gather(1, A_best).squeeze(-1) # max _a Q(ns, argmax_a(Q(ns, a, wq)) , wt)\n",
        "        # DQN\n",
        "        else:\n",
        "          Q = self.q_network.forward(states).gather(1, actions).squeeze(-1)# Q(s, a, wq)\n",
        "          Q_next = self.target.forward(next_states).max(1)[0].detach() # max _a Q(ns, a, wt)\n",
        "        y = torch.flatten(rewards) + self.gamma *(1-torch.flatten(dones)) * Q_next # bellman \n",
        "        if self.use_per:\n",
        "          # PER\n",
        "          absolute_error = torch.absolute(y-Q)\n",
        "          self.memory.update_priorities(idx, absolute_error)\n",
        "          # REUPLOAD QVC\n",
        "          if self.reupload:\n",
        "            self.opt_in.zero_grad(set_to_none=True)\n",
        "            self.opt_var.zero_grad(set_to_none=True)\n",
        "            self.opt_out.zero_grad(set_to_none=True)\n",
        "            loss = torch.multiply((absolute_error)**2,self.preprocess_state(ws))\n",
        "            loss=loss.mean()\n",
        "            loss.backward()\n",
        "            self.opt_in.step()\n",
        "            self.opt_var.step()\n",
        "            self.opt_out.step()\n",
        "          # Regular optimization\n",
        "          else:\n",
        "            self.opt.zero_grad(set_to_none=True)\n",
        "            loss = torch.multiply((absolute_error)**2,self.preprocess_state(ws))\n",
        "            loss=loss.mean()\n",
        "            loss.backward()\n",
        "            self.opt.step()\n",
        "        # ER\n",
        "        else:\n",
        "          # REUPLOAD QVC\n",
        "          if self.reupload:\n",
        "            self.opt_in.zero_grad(set_to_none=True)\n",
        "            self.opt_var.zero_grad(set_to_none=True)\n",
        "            self.opt_out.zero_grad(set_to_none=True)\n",
        "            loss = self.loss_fn(Q,y)\n",
        "            loss.backward()\n",
        "            self.opt_in.step()\n",
        "            self.opt_var.step()\n",
        "            self.opt_out.step()\n",
        "          # Regular optimization\n",
        "          else:\n",
        "            self.opt.zero_grad(set_to_none=True)\n",
        "            loss = self.loss_fn(Q,y)\n",
        "            loss.backward()\n",
        "            self.opt.step()\n",
        "        return float(loss), float(Q.mean().detach())\n",
        "\n",
        "    def train_episode(self):\n",
        "        start_time = time.time()\n",
        "        s1 = self.env.reset()\n",
        "        steps = 0\n",
        "        done = False\n",
        "        total_reward = 0\n",
        "        total_loss = 0 \n",
        "        total_q = 0\n",
        "        while not done:\n",
        "            # self.env.render()\n",
        "            action = self.get_action(s1)\n",
        "            s2, reward, done, _ = self.env.step(action)\n",
        "            total_reward+=reward\n",
        "            self.remember(s1,action,reward,s2,done)\n",
        "            if done:\n",
        "                episode_time = time.time() - start_time\n",
        "                # Store Trackable Stats\n",
        "                self.rewards.append(total_reward),\n",
        "                avg = np.mean(self.rewards[-50:])\n",
        "                self.losses.append(total_loss/steps),\n",
        "                self.avg_rewards.append(avg)\n",
        "                self.q_values.append(total_q/steps)\n",
        "                print(\"\\rEpisode {c_ep}/{n_ep} [{t} sec.]|| 50 Running Avg {a}, Episode Reward {tr}, Loss {l}, Q {q}, eps {eps}\".format(\n",
        "                      c_ep=self.current_episode+1,\n",
        "                      n_ep=self.episodes,\n",
        "                      t= np.round(episode_time, 3),\n",
        "                      a=np.round(avg, 3),\n",
        "                      tr=np.round(total_reward, 3),\n",
        "                      l=np.round(self.losses[self.current_episode], 3),\n",
        "                      q=np.round(self.q_values[self.current_episode],3),\n",
        "                      eps=np.round(self.epsilon, 3)\n",
        "                  ),flush=True, end=\"\")\n",
        "                self.save_path = \"{}/{}_ep_{}.pt\".format(self.path,self.name,self.current_episode+1)\n",
        "                torch.save(self.q_network.state_dict(), self.save_path)\n",
        "                self.current_episode+=1\n",
        "                break\n",
        "            s1 = s2\n",
        "            if steps%self.update_model==0:\n",
        "              loss, q = self.learn()\n",
        "              if loss != None:\n",
        "                  total_loss += loss\n",
        "                  total_q += q\n",
        "            if steps %self.update_target==0:\n",
        "                self.sync_weights()\n",
        "            steps+=1\n",
        "            \n"
      ]
    },
    {
      "cell_type": "code",
      "execution_count": null,
      "metadata": {
        "colab": {
          "base_uri": "https://localhost:8080/",
          "height": 778,
          "referenced_widgets": [
            "2aa6302fac914da786f62088565953ae",
            "ecb335dee801417b8d008239307cea51",
            "8db72988b50d4938b28340a892586348",
            "aa9feb59e2bd43c5a38dd7a349d5c89d",
            "d46a8d6dc47b4f5c85076e825d812c5c",
            "762113faa8b44827b2a0bfdc485e94de",
            "b084370ef31e42b981947ef7deaf65ed",
            "83e68e1464b84a65ad85aef31597d973"
          ]
        },
        "id": "kJePRgDBcUmz",
        "outputId": "15834811-3f7a-438a-8981-d4cbbdd549c6"
      },
      "outputs": [
        {
          "name": "stdout",
          "output_type": "stream",
          "text": [
            "State Space: 4\n",
            "Action Space: 2\n",
            "{'learning_rate': 0.001, 'n_episodes': 200, 'batch_size': 16, 'gamma': 0.95, 'epsilon': 1.0, 'epsilon_decay': 0.99, 'epsilon_min': 0.01, 'buffer_size': 10000, 'update_target': 10, 'update_model': 1, 'train_start': 1, 'is_DDQN': False, 'use_PER': False, 'is_Reupload': False, 'n_layers': 3}\n"
          ]
        },
        {
          "data": {
            "text/html": [
              "Tracking run with wandb version 0.12.16"
            ],
            "text/plain": [
              "<IPython.core.display.HTML object>"
            ]
          },
          "metadata": {},
          "output_type": "display_data"
        },
        {
          "data": {
            "text/html": [
              "Run data is saved locally in <code>/content/wandb/run-20220508_022939-3t9u1r2k</code>"
            ],
            "text/plain": [
              "<IPython.core.display.HTML object>"
            ]
          },
          "metadata": {},
          "output_type": "display_data"
        },
        {
          "data": {
            "text/html": [
              "Syncing run <strong><a href=\"https://wandb.ai/luthier-man/quantum_research/runs/3t9u1r2k\" target=\"_blank\">DQN Classical ER</a></strong> to <a href=\"https://wandb.ai/luthier-man/quantum_research\" target=\"_blank\">Weights & Biases</a> (<a href=\"https://wandb.me/run\" target=\"_blank\">docs</a>)<br/>"
            ],
            "text/plain": [
              "<IPython.core.display.HTML object>"
            ]
          },
          "metadata": {},
          "output_type": "display_data"
        },
        {
          "name": "stderr",
          "output_type": "stream",
          "text": [
            "\u001b[34m\u001b[1mwandb\u001b[0m: logging graph, to disable use `wandb.watch(log_graph=False)`\n"
          ]
        },
        {
          "name": "stdout",
          "output_type": "stream",
          "text": [
            "DQN_2022-05-08 02:29:39.733807\n",
            "\rEpisode 1/200 [0.1 sec.]|| 50 Running Avg 12.0, Episode Reward 12.0, Loss 0.761, Q 0.126, eps 1.0"
          ]
        },
        {
          "name": "stderr",
          "output_type": "stream",
          "text": [
            "\u001b[34m\u001b[1mwandb\u001b[0m: \u001b[33mWARNING\u001b[0m Symlinked 1 file into the W&B run directory, call wandb.save again to sync new files.\n"
          ]
        },
        {
          "name": "stdout",
          "output_type": "stream",
          "text": [
            "Episode 200/200 [1.834 sec.]|| 50 Running Avg 167.28, Episode Reward 155.0, Loss 0.172, Q 17.615, eps 0.01"
          ]
        },
        {
          "data": {
            "text/html": [
              "Waiting for W&B process to finish... <strong style=\"color:green\">(success).</strong>"
            ],
            "text/plain": [
              "<IPython.core.display.HTML object>"
            ]
          },
          "metadata": {},
          "output_type": "display_data"
        },
        {
          "data": {
            "application/vnd.jupyter.widget-view+json": {
              "model_id": "2aa6302fac914da786f62088565953ae",
              "version_major": 2,
              "version_minor": 0
            },
            "text/plain": [
              "VBox(children=(Label(value='4.062 MB of 4.062 MB uploaded (0.000 MB deduped)\\r'), FloatProgress(value=1.0, max…"
            ]
          },
          "metadata": {},
          "output_type": "display_data"
        },
        {
          "data": {
            "text/html": [
              "<style>\n",
              "    table.wandb td:nth-child(1) { padding: 0 10px; text-align: left ; width: auto;} td:nth-child(2) {text-align: left ; width: 100%}\n",
              "    .wandb-row { display: flex; flex-direction: row; flex-wrap: wrap; justify-content: flex-start; width: 100% }\n",
              "    .wandb-col { display: flex; flex-direction: column; flex-basis: 100%; flex: 1; padding: 10px; }\n",
              "    </style>\n",
              "<div class=\"wandb-row\"><div class=\"wandb-col\"><h3>Run history:</h3><br/><table class=\"wandb\"><tr><td>Q-value</td><td>▁▂▃▄▅▅▆▆▆▆▆▇▇█▇██████▇▇▇▇▇▇▇▇▇▇▇▇▇▇▇▇▇▇▇</td></tr><tr><td>avg_reward</td><td>▁▁▁▁▁▁▁▂▂▂▂▃▃▄▄▅▆▆▇▇▇███████▇▇▇▇▇▇▇▇▇▇▇▇</td></tr><tr><td>loss</td><td>▂▃▄▄▆█▄▆▃▃▃▃▂▁▂▂▂▂▃▂▂▂▁▂▂▁▁▂▁▁▁▁▁▁▁▁▁▁▁▁</td></tr><tr><td>rewards</td><td>▂▁▁▂▁▂▃▃▃▃▄▆▅█████████▇████▇▇▇▆▇▇▇▆▆██▇▆</td></tr></table><br/></div><div class=\"wandb-col\"><h3>Run summary:</h3><br/><table class=\"wandb\"><tr><td>Q-value</td><td>17.61482</td></tr><tr><td>avg_reward</td><td>167.28</td></tr><tr><td>loss</td><td>0.17199</td></tr><tr><td>rewards</td><td>155.0</td></tr></table><br/></div></div>"
            ],
            "text/plain": [
              "<IPython.core.display.HTML object>"
            ]
          },
          "metadata": {},
          "output_type": "display_data"
        },
        {
          "data": {
            "text/html": [
              "Synced <strong style=\"color:#cdcd00\">DQN Classical ER</strong>: <a href=\"https://wandb.ai/luthier-man/quantum_research/runs/3t9u1r2k\" target=\"_blank\">https://wandb.ai/luthier-man/quantum_research/runs/3t9u1r2k</a><br/>Synced 5 W&B file(s), 1 media file(s), 2 artifact file(s) and 201 other file(s)"
            ],
            "text/plain": [
              "<IPython.core.display.HTML object>"
            ]
          },
          "metadata": {},
          "output_type": "display_data"
        },
        {
          "data": {
            "text/html": [
              "Find logs at: <code>./wandb/run-20220508_022939-3t9u1r2k/logs</code>"
            ],
            "text/plain": [
              "<IPython.core.display.HTML object>"
            ]
          },
          "metadata": {},
          "output_type": "display_data"
        },
        {
          "ename": "Exception",
          "evalue": "ignored",
          "output_type": "error",
          "traceback": [
            "\u001b[0;31m---------------------------------------------------------------------------\u001b[0m",
            "\u001b[0;31mException\u001b[0m                                 Traceback (most recent call last)",
            "\u001b[0;32m<ipython-input-36-63c7f7441b0f>\u001b[0m in \u001b[0;36m<module>\u001b[0;34m()\u001b[0m\n\u001b[1;32m     46\u001b[0m \u001b[0mrun1\u001b[0m\u001b[0;34m.\u001b[0m\u001b[0mfinish\u001b[0m\u001b[0;34m(\u001b[0m\u001b[0;34m)\u001b[0m\u001b[0;34m\u001b[0m\u001b[0;34m\u001b[0m\u001b[0m\n\u001b[1;32m     47\u001b[0m wandb.alert(title=\"Finished\", \n\u001b[0;32m---> 48\u001b[0;31m     text=\"{} Run is finished\".format(\"DQN Classical ER\"))\n\u001b[0m",
            "\u001b[0;32m/usr/local/lib/python3.7/dist-packages/wandb/sdk/wandb_run.py\u001b[0m in \u001b[0;36mwrapper\u001b[0;34m(self, *args, **kwargs)\u001b[0m\n\u001b[1;32m    220\u001b[0m                     \u001b[0;32mraise\u001b[0m \u001b[0me\u001b[0m\u001b[0;34m\u001b[0m\u001b[0;34m\u001b[0m\u001b[0m\n\u001b[1;32m    221\u001b[0m                 \u001b[0mcls\u001b[0m\u001b[0;34m.\u001b[0m\u001b[0m_is_attaching\u001b[0m \u001b[0;34m=\u001b[0m \u001b[0;34m\"\"\u001b[0m\u001b[0;34m\u001b[0m\u001b[0;34m\u001b[0m\u001b[0m\n\u001b[0;32m--> 222\u001b[0;31m             \u001b[0;32mreturn\u001b[0m \u001b[0mfunc\u001b[0m\u001b[0;34m(\u001b[0m\u001b[0mself\u001b[0m\u001b[0;34m,\u001b[0m \u001b[0;34m*\u001b[0m\u001b[0margs\u001b[0m\u001b[0;34m,\u001b[0m \u001b[0;34m**\u001b[0m\u001b[0mkwargs\u001b[0m\u001b[0;34m)\u001b[0m\u001b[0;34m\u001b[0m\u001b[0;34m\u001b[0m\u001b[0m\n\u001b[0m\u001b[1;32m    223\u001b[0m \u001b[0;34m\u001b[0m\u001b[0m\n\u001b[1;32m    224\u001b[0m         \u001b[0;32mreturn\u001b[0m \u001b[0mwrapper\u001b[0m\u001b[0;34m\u001b[0m\u001b[0;34m\u001b[0m\u001b[0m\n",
            "\u001b[0;32m/usr/local/lib/python3.7/dist-packages/wandb/sdk/wandb_run.py\u001b[0m in \u001b[0;36malert\u001b[0;34m(self, title, text, level, wait_duration)\u001b[0m\n\u001b[1;32m   2672\u001b[0m \u001b[0;34m\u001b[0m\u001b[0m\n\u001b[1;32m   2673\u001b[0m         \u001b[0;32mif\u001b[0m \u001b[0mself\u001b[0m\u001b[0;34m.\u001b[0m\u001b[0m_backend\u001b[0m \u001b[0;32mand\u001b[0m \u001b[0mself\u001b[0m\u001b[0;34m.\u001b[0m\u001b[0m_backend\u001b[0m\u001b[0;34m.\u001b[0m\u001b[0minterface\u001b[0m\u001b[0;34m:\u001b[0m\u001b[0;34m\u001b[0m\u001b[0;34m\u001b[0m\u001b[0m\n\u001b[0;32m-> 2674\u001b[0;31m             \u001b[0mself\u001b[0m\u001b[0;34m.\u001b[0m\u001b[0m_backend\u001b[0m\u001b[0;34m.\u001b[0m\u001b[0minterface\u001b[0m\u001b[0;34m.\u001b[0m\u001b[0mpublish_alert\u001b[0m\u001b[0;34m(\u001b[0m\u001b[0mtitle\u001b[0m\u001b[0;34m,\u001b[0m \u001b[0mtext\u001b[0m\u001b[0;34m,\u001b[0m \u001b[0mlevel_str\u001b[0m\u001b[0;34m,\u001b[0m \u001b[0mwait_duration\u001b[0m\u001b[0;34m)\u001b[0m\u001b[0;34m\u001b[0m\u001b[0;34m\u001b[0m\u001b[0m\n\u001b[0m\u001b[1;32m   2675\u001b[0m \u001b[0;34m\u001b[0m\u001b[0m\n\u001b[1;32m   2676\u001b[0m     \u001b[0;32mdef\u001b[0m \u001b[0m__enter__\u001b[0m\u001b[0;34m(\u001b[0m\u001b[0mself\u001b[0m\u001b[0;34m)\u001b[0m \u001b[0;34m->\u001b[0m \u001b[0;34m\"Run\"\u001b[0m\u001b[0;34m:\u001b[0m\u001b[0;34m\u001b[0m\u001b[0;34m\u001b[0m\u001b[0m\n",
            "\u001b[0;32m/usr/local/lib/python3.7/dist-packages/wandb/sdk/interface/interface.py\u001b[0m in \u001b[0;36mpublish_alert\u001b[0;34m(self, title, text, level, wait_duration)\u001b[0m\n\u001b[1;32m    629\u001b[0m         \u001b[0mproto_alert\u001b[0m\u001b[0;34m.\u001b[0m\u001b[0mlevel\u001b[0m \u001b[0;34m=\u001b[0m \u001b[0mlevel\u001b[0m\u001b[0;34m\u001b[0m\u001b[0;34m\u001b[0m\u001b[0m\n\u001b[1;32m    630\u001b[0m         \u001b[0mproto_alert\u001b[0m\u001b[0;34m.\u001b[0m\u001b[0mwait_duration\u001b[0m \u001b[0;34m=\u001b[0m \u001b[0mwait_duration\u001b[0m\u001b[0;34m\u001b[0m\u001b[0;34m\u001b[0m\u001b[0m\n\u001b[0;32m--> 631\u001b[0;31m         \u001b[0mself\u001b[0m\u001b[0;34m.\u001b[0m\u001b[0m_publish_alert\u001b[0m\u001b[0;34m(\u001b[0m\u001b[0mproto_alert\u001b[0m\u001b[0;34m)\u001b[0m\u001b[0;34m\u001b[0m\u001b[0;34m\u001b[0m\u001b[0m\n\u001b[0m\u001b[1;32m    632\u001b[0m \u001b[0;34m\u001b[0m\u001b[0m\n\u001b[1;32m    633\u001b[0m     \u001b[0;34m@\u001b[0m\u001b[0mabstractmethod\u001b[0m\u001b[0;34m\u001b[0m\u001b[0;34m\u001b[0m\u001b[0m\n",
            "\u001b[0;32m/usr/local/lib/python3.7/dist-packages/wandb/sdk/interface/interface_shared.py\u001b[0m in \u001b[0;36m_publish_alert\u001b[0;34m(self, proto_alert)\u001b[0m\n\u001b[1;32m    377\u001b[0m     \u001b[0;32mdef\u001b[0m \u001b[0m_publish_alert\u001b[0m\u001b[0;34m(\u001b[0m\u001b[0mself\u001b[0m\u001b[0;34m,\u001b[0m \u001b[0mproto_alert\u001b[0m\u001b[0;34m:\u001b[0m \u001b[0mpb\u001b[0m\u001b[0;34m.\u001b[0m\u001b[0mAlertRecord\u001b[0m\u001b[0;34m)\u001b[0m \u001b[0;34m->\u001b[0m \u001b[0;32mNone\u001b[0m\u001b[0;34m:\u001b[0m\u001b[0;34m\u001b[0m\u001b[0;34m\u001b[0m\u001b[0m\n\u001b[1;32m    378\u001b[0m         \u001b[0mrec\u001b[0m \u001b[0;34m=\u001b[0m \u001b[0mself\u001b[0m\u001b[0;34m.\u001b[0m\u001b[0m_make_record\u001b[0m\u001b[0;34m(\u001b[0m\u001b[0malert\u001b[0m\u001b[0;34m=\u001b[0m\u001b[0mproto_alert\u001b[0m\u001b[0;34m)\u001b[0m\u001b[0;34m\u001b[0m\u001b[0;34m\u001b[0m\u001b[0m\n\u001b[0;32m--> 379\u001b[0;31m         \u001b[0mself\u001b[0m\u001b[0;34m.\u001b[0m\u001b[0m_publish\u001b[0m\u001b[0;34m(\u001b[0m\u001b[0mrec\u001b[0m\u001b[0;34m)\u001b[0m\u001b[0;34m\u001b[0m\u001b[0;34m\u001b[0m\u001b[0m\n\u001b[0m\u001b[1;32m    380\u001b[0m \u001b[0;34m\u001b[0m\u001b[0m\n\u001b[1;32m    381\u001b[0m     def _communicate_status(\n",
            "\u001b[0;32m/usr/local/lib/python3.7/dist-packages/wandb/sdk/interface/interface_queue.py\u001b[0m in \u001b[0;36m_publish\u001b[0;34m(self, record, local)\u001b[0m\n\u001b[1;32m     47\u001b[0m     \u001b[0;32mdef\u001b[0m \u001b[0m_publish\u001b[0m\u001b[0;34m(\u001b[0m\u001b[0mself\u001b[0m\u001b[0;34m,\u001b[0m \u001b[0mrecord\u001b[0m\u001b[0;34m:\u001b[0m \u001b[0;34m\"pb.Record\"\u001b[0m\u001b[0;34m,\u001b[0m \u001b[0mlocal\u001b[0m\u001b[0;34m:\u001b[0m \u001b[0mbool\u001b[0m \u001b[0;34m=\u001b[0m \u001b[0;32mNone\u001b[0m\u001b[0;34m)\u001b[0m \u001b[0;34m->\u001b[0m \u001b[0;32mNone\u001b[0m\u001b[0;34m:\u001b[0m\u001b[0;34m\u001b[0m\u001b[0;34m\u001b[0m\u001b[0m\n\u001b[1;32m     48\u001b[0m         \u001b[0;32mif\u001b[0m \u001b[0mself\u001b[0m\u001b[0;34m.\u001b[0m\u001b[0m_process_check\u001b[0m \u001b[0;32mand\u001b[0m \u001b[0mself\u001b[0m\u001b[0;34m.\u001b[0m\u001b[0m_process\u001b[0m \u001b[0;32mand\u001b[0m \u001b[0;32mnot\u001b[0m \u001b[0mself\u001b[0m\u001b[0;34m.\u001b[0m\u001b[0m_process\u001b[0m\u001b[0;34m.\u001b[0m\u001b[0mis_alive\u001b[0m\u001b[0;34m(\u001b[0m\u001b[0;34m)\u001b[0m\u001b[0;34m:\u001b[0m\u001b[0;34m\u001b[0m\u001b[0;34m\u001b[0m\u001b[0m\n\u001b[0;32m---> 49\u001b[0;31m             \u001b[0;32mraise\u001b[0m \u001b[0mException\u001b[0m\u001b[0;34m(\u001b[0m\u001b[0;34m\"The wandb backend process has shutdown\"\u001b[0m\u001b[0;34m)\u001b[0m\u001b[0;34m\u001b[0m\u001b[0;34m\u001b[0m\u001b[0m\n\u001b[0m\u001b[1;32m     50\u001b[0m         \u001b[0;32mif\u001b[0m \u001b[0mlocal\u001b[0m\u001b[0;34m:\u001b[0m\u001b[0;34m\u001b[0m\u001b[0;34m\u001b[0m\u001b[0m\n\u001b[1;32m     51\u001b[0m             \u001b[0mrecord\u001b[0m\u001b[0;34m.\u001b[0m\u001b[0mcontrol\u001b[0m\u001b[0;34m.\u001b[0m\u001b[0mlocal\u001b[0m \u001b[0;34m=\u001b[0m \u001b[0mlocal\u001b[0m\u001b[0;34m\u001b[0m\u001b[0;34m\u001b[0m\u001b[0m\n",
            "\u001b[0;31mException\u001b[0m: The wandb backend process has shutdown"
          ]
        }
      ],
      "source": [
        "## DQN CLASSICAL ER\n",
        "torch.cuda.empty_cache()\n",
        "# import wandb\n",
        "config1 = {\n",
        "  \"learning_rate\": LR,\n",
        "  \"n_episodes\": N_EPISODES,\n",
        "  \"batch_size\": BATCH_SIZE,\n",
        "  \"gamma\": GAMMA,\n",
        "  \"epsilon\": EPSILON,\n",
        "  \"epsilon_decay\": EPSILON_DECAY,\n",
        "  \"epsilon_min\": EPSILON_MIN,\n",
        "  \"buffer_size\": BUFFER_SIZE,\n",
        "  \"update_target\": UPDATE_TARGET,\n",
        "  \"update_model\": UPDATE_MODEL,\n",
        "  \"train_start\": TRAIN_START,\n",
        "  \"is_DDQN\": False,\n",
        "  \"use_PER\": False,\n",
        "  \"is_Reupload\":False,\n",
        "  \"n_layers\":3\n",
        "}\n",
        "\n",
        "agent1 = DQN(Dense_Net, config1)\n",
        "run1 = wandb.init(project=\"quantum_research\", \n",
        "                 entity=\"luthier-man\",\n",
        "                 name=\"DQN Classical ER\",\n",
        "                 config=config1,\n",
        "                 monitor_gym=True,\n",
        "                 save_code=True)\n",
        "run1.log_code(\".\")\n",
        "run1.watch(agent1.q_network, log=\"all\",log_freq=1,\n",
        "          criterion=agent1.loss_fn, log_graph=True)\n",
        "print(agent1.name)\n",
        "alert = True\n",
        "for i in range(agent1.episodes):\n",
        "    agent1.train_episode()\n",
        "\n",
        "    run1.log({\"rewards\":agent1.rewards[i],\n",
        "             \"loss\": agent1.losses[i],\n",
        "             \"avg_reward\": agent1.avg_rewards[i],\n",
        "             \"Q-value\": agent1.q_values[i]})\n",
        "    run1.save(\"{}/*pt\".format(agent1.path))\n",
        "    if agent1.rewards[i]==200 and alert:\n",
        "        wandb.alert(title=\"Reached 200\", \n",
        "                text=\"{} Agent has reached 200 points!!!\".format(\"DQN Classical ER\"))\n",
        "        alert= False\n",
        "\n",
        "run1.finish()\n"
      ]
    },
    {
      "cell_type": "code",
      "execution_count": null,
      "metadata": {
        "colab": {
          "base_uri": "https://localhost:8080/",
          "height": 454,
          "referenced_widgets": [
            "2f618081bf724a3a9992272a9d17a951",
            "793b90c48ace41b2ba73b3f396341e4c",
            "ba4475da94094a9fbdd000150f2e009d",
            "7719389e6acd4b7586d75f76dc095251",
            "fc656eae5cc34855a1c4521b1cf9f71e",
            "e5fac8865c964e8291b70a2210b801d0",
            "c4e0180cc84c4a7bba95d32d269e0b48",
            "97b7cd89efc14576a4ccc9b2f1f4b523"
          ]
        },
        "id": "Rksz2H3vbsfI",
        "outputId": "9e905bb6-2114-4311-d938-f2212055db30"
      },
      "outputs": [
        {
          "name": "stdout",
          "output_type": "stream",
          "text": [
            "State Space: 4\n",
            "Action Space: 2\n",
            "{'learning_rate': 0.001, 'n_episodes': 200, 'batch_size': 16, 'gamma': 0.95, 'epsilon': 1.0, 'epsilon_decay': 0.99, 'epsilon_min': 0.01, 'buffer_size': 10000, 'update_target': 10, 'update_model': 1, 'train_start': 1, 'is_DDQN': True, 'use_PER': False, 'is_Reupload': False, 'n_layers': 3}\n"
          ]
        },
        {
          "data": {
            "text/html": [
              "Tracking run with wandb version 0.12.16"
            ],
            "text/plain": [
              "<IPython.core.display.HTML object>"
            ]
          },
          "metadata": {},
          "output_type": "display_data"
        },
        {
          "data": {
            "text/html": [
              "Run data is saved locally in <code>/content/wandb/run-20220508_023715-5z6vz03z</code>"
            ],
            "text/plain": [
              "<IPython.core.display.HTML object>"
            ]
          },
          "metadata": {},
          "output_type": "display_data"
        },
        {
          "data": {
            "text/html": [
              "Syncing run <strong><a href=\"https://wandb.ai/luthier-man/quantum_research/runs/5z6vz03z\" target=\"_blank\">DDQN Classical ER</a></strong> to <a href=\"https://wandb.ai/luthier-man/quantum_research\" target=\"_blank\">Weights & Biases</a> (<a href=\"https://wandb.me/run\" target=\"_blank\">docs</a>)<br/>"
            ],
            "text/plain": [
              "<IPython.core.display.HTML object>"
            ]
          },
          "metadata": {},
          "output_type": "display_data"
        },
        {
          "name": "stderr",
          "output_type": "stream",
          "text": [
            "\u001b[34m\u001b[1mwandb\u001b[0m: logging graph, to disable use `wandb.watch(log_graph=False)`\n"
          ]
        },
        {
          "name": "stdout",
          "output_type": "stream",
          "text": [
            "DQN_2022-05-08 02:37:15.839876\n",
            "\rEpisode 1/200 [0.11 sec.]|| 50 Running Avg 11.0, Episode Reward 11.0, Loss 0.874, Q 0.188, eps 1.0"
          ]
        },
        {
          "name": "stderr",
          "output_type": "stream",
          "text": [
            "\u001b[34m\u001b[1mwandb\u001b[0m: \u001b[33mWARNING\u001b[0m Symlinked 1 file into the W&B run directory, call wandb.save again to sync new files.\n"
          ]
        },
        {
          "name": "stdout",
          "output_type": "stream",
          "text": [
            "Episode 200/200 [2.313 sec.]|| 50 Running Avg 194.32, Episode Reward 200.0, Loss 0.555, Q 18.346, eps 0.01"
          ]
        },
        {
          "data": {
            "text/html": [
              "Waiting for W&B process to finish... <strong style=\"color:green\">(success).</strong>"
            ],
            "text/plain": [
              "<IPython.core.display.HTML object>"
            ]
          },
          "metadata": {},
          "output_type": "display_data"
        },
        {
          "data": {
            "application/vnd.jupyter.widget-view+json": {
              "model_id": "2f618081bf724a3a9992272a9d17a951",
              "version_major": 2,
              "version_minor": 0
            },
            "text/plain": [
              "VBox(children=(Label(value='3.875 MB of 3.875 MB uploaded (0.000 MB deduped)\\r'), FloatProgress(value=1.0, max…"
            ]
          },
          "metadata": {},
          "output_type": "display_data"
        },
        {
          "data": {
            "text/html": [
              "<style>\n",
              "    table.wandb td:nth-child(1) { padding: 0 10px; text-align: left ; width: auto;} td:nth-child(2) {text-align: left ; width: 100%}\n",
              "    .wandb-row { display: flex; flex-direction: row; flex-wrap: wrap; justify-content: flex-start; width: 100% }\n",
              "    .wandb-col { display: flex; flex-direction: column; flex-basis: 100%; flex: 1; padding: 10px; }\n",
              "    </style>\n",
              "<div class=\"wandb-row\"><div class=\"wandb-col\"><h3>Run history:</h3><br/><table class=\"wandb\"><tr><td>Q-value</td><td>▁▃▄▄▆▅▆▆▆▆▇██████████▇▇▇▇▇▇▇▇▇▇▇▇▇▇▇▇▇▇▇</td></tr><tr><td>avg_reward</td><td>▁▁▁▁▁▁▁▂▂▂▂▃▄▅▅▆▆▇▇█████████████████████</td></tr><tr><td>loss</td><td>▂▂▇▄█▆▄▃▃▂▂▂▂▂▂▂▂▂▂▂▁▁▁▁▁▁▁▁▁▁▁▁▁▁▁▁▁▁▁▁</td></tr><tr><td>rewards</td><td>▂▁▁▁▁▄▃▃▇▄█████▇▇█▇██▇▇▇█████▇████████▇█</td></tr></table><br/></div><div class=\"wandb-col\"><h3>Run summary:</h3><br/><table class=\"wandb\"><tr><td>Q-value</td><td>18.34574</td></tr><tr><td>avg_reward</td><td>194.32</td></tr><tr><td>loss</td><td>0.55543</td></tr><tr><td>rewards</td><td>200.0</td></tr></table><br/></div></div>"
            ],
            "text/plain": [
              "<IPython.core.display.HTML object>"
            ]
          },
          "metadata": {},
          "output_type": "display_data"
        },
        {
          "data": {
            "text/html": [
              "Synced <strong style=\"color:#cdcd00\">DDQN Classical ER</strong>: <a href=\"https://wandb.ai/luthier-man/quantum_research/runs/5z6vz03z\" target=\"_blank\">https://wandb.ai/luthier-man/quantum_research/runs/5z6vz03z</a><br/>Synced 5 W&B file(s), 1 media file(s), 0 artifact file(s) and 201 other file(s)"
            ],
            "text/plain": [
              "<IPython.core.display.HTML object>"
            ]
          },
          "metadata": {},
          "output_type": "display_data"
        },
        {
          "data": {
            "text/html": [
              "Find logs at: <code>./wandb/run-20220508_023715-5z6vz03z/logs</code>"
            ],
            "text/plain": [
              "<IPython.core.display.HTML object>"
            ]
          },
          "metadata": {},
          "output_type": "display_data"
        }
      ],
      "source": [
        "## DDQN CLASSICAL ER\n",
        "torch.cuda.empty_cache()\n",
        "config2 = {\n",
        "  \"learning_rate\": LR,\n",
        "  \"n_episodes\": N_EPISODES,\n",
        "  \"batch_size\": BATCH_SIZE,\n",
        "  \"gamma\": GAMMA,\n",
        "  \"epsilon\": EPSILON,\n",
        "  \"epsilon_decay\": EPSILON_DECAY,\n",
        "  \"epsilon_min\": EPSILON_MIN,\n",
        "  \"buffer_size\": BUFFER_SIZE,\n",
        "  \"update_target\": UPDATE_TARGET,\n",
        "  \"update_model\": UPDATE_MODEL,\n",
        "  \"train_start\": TRAIN_START,\n",
        "  \"is_DDQN\": True,\n",
        "  \"use_PER\": False,\n",
        "  \"is_Reupload\":False,\n",
        "  \"n_layers\":3\n",
        "}\n",
        "\n",
        "agent2 = DQN(Dense_Net, config2)\n",
        "run2 = wandb.init(project=\"quantum_research\", \n",
        "                 entity=\"luthier-man\",\n",
        "                 name=\"DDQN Classical ER\",\n",
        "                 config=config2,\n",
        "                 monitor_gym=True,\n",
        "                 save_code=True)\n",
        "run2.log_code(\".\")\n",
        "run2.watch(agent2.q_network, log=\"all\",log_freq=1,\n",
        "          criterion=agent2.loss_fn, log_graph=True)\n",
        "print(agent2.name)\n",
        "alert = True\n",
        "\n",
        "for i in range(agent2.episodes):\n",
        "    agent2.train_episode()\n",
        "\n",
        "    run2.log({\"rewards\":agent2.rewards[i],\n",
        "             \"loss\": agent2.losses[i],\n",
        "             \"avg_reward\": agent2.avg_rewards[i],\n",
        "             \"Q-value\": agent2.q_values[i]})\n",
        "    run2.save(\"{}/*pt\".format(agent2.path))\n",
        "    if agent2.rewards[i]==200 and alert:\n",
        "        wandb.alert(title=\"Reached 200\", \n",
        "                text=\"{} Agent has reached 200 points!!!\".format(\"DDQN Classical ER\"))\n",
        "        alert=False\n",
        "wandb.alert(title=\"Finished\", \n",
        "    text=\"{} Run is finished\".format(\"DDQN Classical ER\"))\n",
        "run2.finish()\n"
      ]
    },
    {
      "cell_type": "code",
      "execution_count": null,
      "metadata": {
        "colab": {
          "base_uri": "https://localhost:8080/",
          "height": 454,
          "referenced_widgets": [
            "30509e6948fc4e899bef574cd3430220",
            "6fe222dd3f5442959fcb1abc152f1d0e",
            "3bf827a8683d4e49be64f5243f115241",
            "26d5ae8ac335412486a9afe8d1ee03fd",
            "b6fe83e882044f1abb33c2a85a3c4fe2",
            "c4ee54315cbb46bc9d2d2684c72137da",
            "43325a475f814dee94172fe1b0a9e822",
            "a85cdd8e23814646924854003560f39d"
          ]
        },
        "id": "Meh3AnzVdvb6",
        "outputId": "53c6659c-b26c-4dc2-8c7d-a5541d4368bb"
      },
      "outputs": [
        {
          "name": "stdout",
          "output_type": "stream",
          "text": [
            "State Space: 4\n",
            "Action Space: 2\n",
            "{'learning_rate': 0.001, 'n_episodes': 200, 'batch_size': 16, 'gamma': 0.95, 'epsilon': 1.0, 'epsilon_decay': 0.99, 'epsilon_min': 0.01, 'buffer_size': 10000, 'update_target': 10, 'update_model': 1, 'train_start': 1, 'is_DDQN': False, 'use_PER': True, 'is_Reupload': False, 'n_layers': 3}\n"
          ]
        },
        {
          "data": {
            "text/html": [
              "Tracking run with wandb version 0.12.16"
            ],
            "text/plain": [
              "<IPython.core.display.HTML object>"
            ]
          },
          "metadata": {},
          "output_type": "display_data"
        },
        {
          "data": {
            "text/html": [
              "Run data is saved locally in <code>/content/wandb/run-20220508_024418-3c36qr8j</code>"
            ],
            "text/plain": [
              "<IPython.core.display.HTML object>"
            ]
          },
          "metadata": {},
          "output_type": "display_data"
        },
        {
          "data": {
            "text/html": [
              "Syncing run <strong><a href=\"https://wandb.ai/luthier-man/quantum_research/runs/3c36qr8j\" target=\"_blank\">DQN Classical PER</a></strong> to <a href=\"https://wandb.ai/luthier-man/quantum_research\" target=\"_blank\">Weights & Biases</a> (<a href=\"https://wandb.me/run\" target=\"_blank\">docs</a>)<br/>"
            ],
            "text/plain": [
              "<IPython.core.display.HTML object>"
            ]
          },
          "metadata": {},
          "output_type": "display_data"
        },
        {
          "name": "stderr",
          "output_type": "stream",
          "text": [
            "\u001b[34m\u001b[1mwandb\u001b[0m: logging graph, to disable use `wandb.watch(log_graph=False)`\n"
          ]
        },
        {
          "name": "stdout",
          "output_type": "stream",
          "text": [
            "DQN_2022-05-08 02:44:18.125028\n",
            "Episode 1/200 [0.713 sec.]|| 50 Running Avg 86.0, Episode Reward 86.0, Loss 0.662, Q 1.776, eps 0.5"
          ]
        },
        {
          "name": "stderr",
          "output_type": "stream",
          "text": [
            "\u001b[34m\u001b[1mwandb\u001b[0m: \u001b[33mWARNING\u001b[0m Symlinked 1 file into the W&B run directory, call wandb.save again to sync new files.\n"
          ]
        },
        {
          "name": "stdout",
          "output_type": "stream",
          "text": [
            "Episode 200/200 [2.0 sec.]|| 50 Running Avg 184.36, Episode Reward 165.0, Loss 0.407, Q 17.997, eps 0.01"
          ]
        },
        {
          "data": {
            "text/html": [
              "Waiting for W&B process to finish... <strong style=\"color:green\">(success).</strong>"
            ],
            "text/plain": [
              "<IPython.core.display.HTML object>"
            ]
          },
          "metadata": {},
          "output_type": "display_data"
        },
        {
          "data": {
            "application/vnd.jupyter.widget-view+json": {
              "model_id": "30509e6948fc4e899bef574cd3430220",
              "version_major": 2,
              "version_minor": 0
            },
            "text/plain": [
              "VBox(children=(Label(value='4.096 MB of 4.096 MB uploaded (0.000 MB deduped)\\r'), FloatProgress(value=1.0, max…"
            ]
          },
          "metadata": {},
          "output_type": "display_data"
        },
        {
          "data": {
            "text/html": [
              "<style>\n",
              "    table.wandb td:nth-child(1) { padding: 0 10px; text-align: left ; width: auto;} td:nth-child(2) {text-align: left ; width: 100%}\n",
              "    .wandb-row { display: flex; flex-direction: row; flex-wrap: wrap; justify-content: flex-start; width: 100% }\n",
              "    .wandb-col { display: flex; flex-direction: column; flex-basis: 100%; flex: 1; padding: 10px; }\n",
              "    </style>\n",
              "<div class=\"wandb-row\"><div class=\"wandb-col\"><h3>Run history:</h3><br/><table class=\"wandb\"><tr><td>Q-value</td><td>▁▃▃▄▄▄▅▅▆▇█████████▇▇▇▇▇▇▇▇▇▇▇▇▇▇▇▇▇▇▇▇▇</td></tr><tr><td>avg_reward</td><td>▂▁▁▁▁▁▁▂▂▃▃▄▅▆▆▇▇████████▇▇▇▇▇▇▇▇▇▇▇████</td></tr><tr><td>loss</td><td>▂█▃█▄▃▄▄▃▃▃▃▂▂▂▂▂▂▂▂▂▂▁▁▁▁▁▁▁▁▁▁▁▁▁▁▁▁▁▁</td></tr><tr><td>rewards</td><td>▁▁▁▁▁▃▃▂█████▇▇▇▇██▇▆█▇▇▇▇▆▆▇▇▇▇█▇███▇▇▇</td></tr></table><br/></div><div class=\"wandb-col\"><h3>Run summary:</h3><br/><table class=\"wandb\"><tr><td>Q-value</td><td>17.99691</td></tr><tr><td>avg_reward</td><td>184.36</td></tr><tr><td>loss</td><td>0.40668</td></tr><tr><td>rewards</td><td>165.0</td></tr></table><br/></div></div>"
            ],
            "text/plain": [
              "<IPython.core.display.HTML object>"
            ]
          },
          "metadata": {},
          "output_type": "display_data"
        },
        {
          "data": {
            "text/html": [
              "Synced <strong style=\"color:#cdcd00\">DQN Classical PER</strong>: <a href=\"https://wandb.ai/luthier-man/quantum_research/runs/3c36qr8j\" target=\"_blank\">https://wandb.ai/luthier-man/quantum_research/runs/3c36qr8j</a><br/>Synced 5 W&B file(s), 1 media file(s), 2 artifact file(s) and 201 other file(s)"
            ],
            "text/plain": [
              "<IPython.core.display.HTML object>"
            ]
          },
          "metadata": {},
          "output_type": "display_data"
        },
        {
          "data": {
            "text/html": [
              "Find logs at: <code>./wandb/run-20220508_024418-3c36qr8j/logs</code>"
            ],
            "text/plain": [
              "<IPython.core.display.HTML object>"
            ]
          },
          "metadata": {},
          "output_type": "display_data"
        }
      ],
      "source": [
        "## DQN CLASSICAL PER\n",
        "torch.cuda.empty_cache()\n",
        "config3 = {\n",
        "  \"learning_rate\": LR,\n",
        "  \"n_episodes\": N_EPISODES,\n",
        "  \"batch_size\": BATCH_SIZE,\n",
        "  \"gamma\": GAMMA,\n",
        "  \"epsilon\": EPSILON,\n",
        "  \"epsilon_decay\": EPSILON_DECAY,\n",
        "  \"epsilon_min\": EPSILON_MIN,\n",
        "  \"buffer_size\": BUFFER_SIZE,\n",
        "  \"update_target\": UPDATE_TARGET,\n",
        "  \"update_model\": UPDATE_MODEL,\n",
        "  \"train_start\": TRAIN_START,\n",
        "  \"is_DDQN\": False,\n",
        "  \"use_PER\": True,\n",
        "  \"is_Reupload\":False,\n",
        "  \"n_layers\":3\n",
        "}\n",
        "\n",
        "agent3 = DQN(Dense_Net, config3)\n",
        "run3 = wandb.init(project=\"quantum_research\", \n",
        "                 entity=\"luthier-man\",\n",
        "                 name=\"DQN Classical PER\",\n",
        "                 config=config3,\n",
        "                 monitor_gym=True,\n",
        "                 save_code=True)\n",
        "run3.log_code(\".\")\n",
        "run3.watch(agent3.q_network, log=\"all\",log_freq=1,\n",
        "          criterion=agent3.loss_fn, log_graph=True)\n",
        "\n",
        "print(agent3.name)\n",
        "alert = True\n",
        "for i in range(agent3.episodes):\n",
        "    agent3.train_episode()\n",
        "\n",
        "    run3.log({\"rewards\":agent3.rewards[i],\n",
        "             \"loss\": agent3.losses[i],\n",
        "             \"avg_reward\": agent3.avg_rewards[i],\n",
        "             \"Q-value\": agent3.q_values[i]})\n",
        "    run3.save(\"{}/*pt\".format(agent3.path))\n",
        "    if agent3.rewards[i]==200 and alert:\n",
        "        wandb.alert(title=\"Reached 200\", \n",
        "                text=\"{} Agent has reached 200 points!!!\".format(\"DQN Classical PER\"))\n",
        "        alert=False\n",
        "wandb.alert(title=\"Finished\", \n",
        "    text=\"{} Run is finished\".format(\"DQN Classical PER\"))\n",
        "run3.finish()\n"
      ]
    },
    {
      "cell_type": "code",
      "execution_count": null,
      "metadata": {
        "colab": {
          "base_uri": "https://localhost:8080/",
          "height": 454,
          "referenced_widgets": [
            "c4eec2f4eb844ba79e783242edeec606",
            "b52f6e7c29cf4194b17065413ce87b0a",
            "36f8292fbeeb40258f06556e539be6e6",
            "c96ad8db1dbc428394e8721f0c4c576a",
            "83ec4ad843f8467ebb43d3703976b109",
            "920b243bd3f0409289c59ac9ed86bf5c",
            "5e13921e47654b788c4fe5be76a6ca20",
            "f7612632c5504cb194b88a0bf2f97b45"
          ]
        },
        "id": "72Rnq1exeAxO",
        "outputId": "cc5a1d14-febb-4c0d-d783-5f9fc0cb63bd"
      },
      "outputs": [
        {
          "name": "stdout",
          "output_type": "stream",
          "text": [
            "State Space: 4\n",
            "Action Space: 2\n",
            "{'learning_rate': 0.001, 'n_episodes': 200, 'batch_size': 16, 'gamma': 0.95, 'epsilon': 1.0, 'epsilon_decay': 0.99, 'epsilon_min': 0.01, 'buffer_size': 10000, 'update_target': 10, 'update_model': 1, 'train_start': 1, 'is_DDQN': True, 'use_PER': True, 'is_Reupload': False, 'n_layers': 3}\n"
          ]
        },
        {
          "data": {
            "text/html": [
              "Tracking run with wandb version 0.12.16"
            ],
            "text/plain": [
              "<IPython.core.display.HTML object>"
            ]
          },
          "metadata": {},
          "output_type": "display_data"
        },
        {
          "data": {
            "text/html": [
              "Run data is saved locally in <code>/content/wandb/run-20220508_025101-1yhaqn89</code>"
            ],
            "text/plain": [
              "<IPython.core.display.HTML object>"
            ]
          },
          "metadata": {},
          "output_type": "display_data"
        },
        {
          "data": {
            "text/html": [
              "Syncing run <strong><a href=\"https://wandb.ai/luthier-man/quantum_research/runs/1yhaqn89\" target=\"_blank\">DDQN Classical PER</a></strong> to <a href=\"https://wandb.ai/luthier-man/quantum_research\" target=\"_blank\">Weights & Biases</a> (<a href=\"https://wandb.me/run\" target=\"_blank\">docs</a>)<br/>"
            ],
            "text/plain": [
              "<IPython.core.display.HTML object>"
            ]
          },
          "metadata": {},
          "output_type": "display_data"
        },
        {
          "name": "stderr",
          "output_type": "stream",
          "text": [
            "\u001b[34m\u001b[1mwandb\u001b[0m: logging graph, to disable use `wandb.watch(log_graph=False)`\n"
          ]
        },
        {
          "name": "stdout",
          "output_type": "stream",
          "text": [
            "DQN_2022-05-08 02:51:01.366213\n",
            "\rEpisode 1/200 [0.108 sec.]|| 50 Running Avg 12.0, Episode Reward 12.0, Loss 0.794, Q 0.092, eps 1.0"
          ]
        },
        {
          "name": "stderr",
          "output_type": "stream",
          "text": [
            "\u001b[34m\u001b[1mwandb\u001b[0m: \u001b[33mWARNING\u001b[0m Symlinked 1 file into the W&B run directory, call wandb.save again to sync new files.\n"
          ]
        },
        {
          "name": "stdout",
          "output_type": "stream",
          "text": [
            "Episode 200/200 [2.515 sec.]|| 50 Running Avg 196.64, Episode Reward 200.0, Loss 1.33, Q 18.005, eps 0.01"
          ]
        },
        {
          "data": {
            "text/html": [
              "Waiting for W&B process to finish... <strong style=\"color:green\">(success).</strong>"
            ],
            "text/plain": [
              "<IPython.core.display.HTML object>"
            ]
          },
          "metadata": {},
          "output_type": "display_data"
        },
        {
          "data": {
            "application/vnd.jupyter.widget-view+json": {
              "model_id": "c4eec2f4eb844ba79e783242edeec606",
              "version_major": 2,
              "version_minor": 0
            },
            "text/plain": [
              "VBox(children=(Label(value='3.875 MB of 3.875 MB uploaded (0.000 MB deduped)\\r'), FloatProgress(value=1.0, max…"
            ]
          },
          "metadata": {},
          "output_type": "display_data"
        },
        {
          "data": {
            "text/html": [
              "<style>\n",
              "    table.wandb td:nth-child(1) { padding: 0 10px; text-align: left ; width: auto;} td:nth-child(2) {text-align: left ; width: 100%}\n",
              "    .wandb-row { display: flex; flex-direction: row; flex-wrap: wrap; justify-content: flex-start; width: 100% }\n",
              "    .wandb-col { display: flex; flex-direction: column; flex-basis: 100%; flex: 1; padding: 10px; }\n",
              "    </style>\n",
              "<div class=\"wandb-row\"><div class=\"wandb-col\"><h3>Run history:</h3><br/><table class=\"wandb\"><tr><td>Q-value</td><td>▁▂▄▄▄▅▅▅▆▆▇████████████████████▇████▇▇▇▇</td></tr><tr><td>avg_reward</td><td>▁▁▁▁▁▁▁▁▁▂▂▃▄▅▅▆▆▇▇█████████████████████</td></tr><tr><td>loss</td><td>▁▁▄█▅▆▆▆█▅▃▂▂▂▁▂▂▂▂▂▂▁▂▂▂▂▂▂▂▂▂▁▂▂▂▁▂▂▂▂</td></tr><tr><td>rewards</td><td>▁▁▁▁▂▂▂▂▄▆███████████████████████▇██████</td></tr></table><br/></div><div class=\"wandb-col\"><h3>Run summary:</h3><br/><table class=\"wandb\"><tr><td>Q-value</td><td>18.00476</td></tr><tr><td>avg_reward</td><td>196.64</td></tr><tr><td>loss</td><td>1.32955</td></tr><tr><td>rewards</td><td>200.0</td></tr></table><br/></div></div>"
            ],
            "text/plain": [
              "<IPython.core.display.HTML object>"
            ]
          },
          "metadata": {},
          "output_type": "display_data"
        },
        {
          "data": {
            "text/html": [
              "Synced <strong style=\"color:#cdcd00\">DDQN Classical PER</strong>: <a href=\"https://wandb.ai/luthier-man/quantum_research/runs/1yhaqn89\" target=\"_blank\">https://wandb.ai/luthier-man/quantum_research/runs/1yhaqn89</a><br/>Synced 5 W&B file(s), 1 media file(s), 0 artifact file(s) and 201 other file(s)"
            ],
            "text/plain": [
              "<IPython.core.display.HTML object>"
            ]
          },
          "metadata": {},
          "output_type": "display_data"
        },
        {
          "data": {
            "text/html": [
              "Find logs at: <code>./wandb/run-20220508_025101-1yhaqn89/logs</code>"
            ],
            "text/plain": [
              "<IPython.core.display.HTML object>"
            ]
          },
          "metadata": {},
          "output_type": "display_data"
        }
      ],
      "source": [
        "## DDQN CLASSICAL PER\n",
        "torch.cuda.empty_cache()\n",
        "config4 = {\n",
        "  \"learning_rate\": LR,\n",
        "  \"n_episodes\": N_EPISODES,\n",
        "  \"batch_size\": BATCH_SIZE,\n",
        "  \"gamma\": GAMMA,\n",
        "  \"epsilon\": EPSILON,\n",
        "  \"epsilon_decay\": EPSILON_DECAY,\n",
        "  \"epsilon_min\": EPSILON_MIN,\n",
        "  \"buffer_size\": BUFFER_SIZE,\n",
        "  \"update_target\": UPDATE_TARGET,\n",
        "  \"update_model\": UPDATE_MODEL,\n",
        "  \"train_start\": TRAIN_START,\n",
        "  \"is_DDQN\": True,\n",
        "  \"use_PER\": True,\n",
        "  \"is_Reupload\":False,\n",
        "  \"n_layers\":3\n",
        "}\n",
        "\n",
        "agent4 = DQN(Dense_Net, config4)\n",
        "run4 = wandb.init(project=\"quantum_research\", \n",
        "                 entity=\"luthier-man\",\n",
        "                 name=\"DDQN Classical PER\",\n",
        "                 config=config4,\n",
        "                 monitor_gym=True,\n",
        "                 save_code=True)\n",
        "run4.log_code(\".\")\n",
        "run4.watch(agent4.q_network, log=\"all\",log_freq=1,\n",
        "          criterion=agent4.loss_fn, log_graph=True)\n",
        "print(agent4.name)\n",
        "alert = True\n",
        "\n",
        "for i in range(agent4.episodes):\n",
        "    agent4.train_episode()\n",
        "\n",
        "    run4.log({\"rewards\":agent4.rewards[i],\n",
        "             \"loss\": agent4.losses[i],\n",
        "             \"avg_reward\": agent4.avg_rewards[i],\n",
        "             \"Q-value\": agent4.q_values[i]})\n",
        "    run4.save(\"{}/*pt\".format(agent4.path))\n",
        "    if agent4.rewards[i]==200 and alert:\n",
        "        wandb.alert(title=\"Reached 200\", \n",
        "                text=\"{} Agent has reached 200 points!!!\".format(\"DDQN Classical PER\"))\n",
        "        alert = False\n",
        "wandb.alert(title=\"Finished\", \n",
        "    text=\"{} Run is finished\".format(\"DDQN Classical PER\"))\n",
        "run4.finish()\n"
      ]
    },
    {
      "cell_type": "code",
      "execution_count": null,
      "metadata": {
        "colab": {
          "background_save": true,
          "base_uri": "https://localhost:8080/",
          "height": 207
        },
        "id": "tdNHIQuXeQXC",
        "outputId": "f073877e-6f99-4b84-c659-e377d5bd99aa"
      },
      "outputs": [
        {
          "name": "stdout",
          "output_type": "stream",
          "text": [
            "State Space: 4\n",
            "Action Space: 2\n",
            "{'learning_rate': 0.001, 'n_episodes': 200, 'batch_size': 16, 'gamma': 0.95, 'epsilon': 1.0, 'epsilon_decay': 0.99, 'epsilon_min': 0.01, 'buffer_size': 10000, 'update_target': 10, 'update_model': 1, 'train_start': 1, 'is_DDQN': False, 'use_PER': False, 'is_Reupload': True, 'n_layers': 3}\n"
          ]
        },
        {
          "data": {
            "text/html": [
              "Tracking run with wandb version 0.12.16"
            ],
            "text/plain": [
              "<IPython.core.display.HTML object>"
            ]
          },
          "metadata": {},
          "output_type": "display_data"
        },
        {
          "data": {
            "text/html": [
              "Run data is saved locally in <code>/content/wandb/run-20220508_030227-3ia0gsol</code>"
            ],
            "text/plain": [
              "<IPython.core.display.HTML object>"
            ]
          },
          "metadata": {},
          "output_type": "display_data"
        },
        {
          "data": {
            "text/html": [
              "Syncing run <strong><a href=\"https://wandb.ai/luthier-man/quantum_research/runs/3ia0gsol\" target=\"_blank\">DQN Quantum Reupload ER</a></strong> to <a href=\"https://wandb.ai/luthier-man/quantum_research\" target=\"_blank\">Weights & Biases</a> (<a href=\"https://wandb.me/run\" target=\"_blank\">docs</a>)<br/>"
            ],
            "text/plain": [
              "<IPython.core.display.HTML object>"
            ]
          },
          "metadata": {},
          "output_type": "display_data"
        },
        {
          "name": "stderr",
          "output_type": "stream",
          "text": [
            "\u001b[34m\u001b[1mwandb\u001b[0m: logging graph, to disable use `wandb.watch(log_graph=False)`\n"
          ]
        },
        {
          "name": "stdout",
          "output_type": "stream",
          "text": [
            "DQN_2022-05-08 03:02:27.412978\n",
            "Episode 1/200 [18.927 sec.]|| 50 Running Avg 19.0, Episode Reward 19.0, Loss 0.557, Q 1.345, eps 0.98"
          ]
        },
        {
          "name": "stderr",
          "output_type": "stream",
          "text": [
            "\u001b[34m\u001b[1mwandb\u001b[0m: \u001b[33mWARNING\u001b[0m Symlinked 1 file into the W&B run directory, call wandb.save again to sync new files.\n"
          ]
        },
        {
          "name": "stdout",
          "output_type": "stream",
          "text": [
            "Episode 157/200 [107.828 sec.]|| 50 Running Avg 79.12, Episode Reward 90.0, Loss 1.322, Q 19.628, eps 0.01"
          ]
        }
      ],
      "source": [
        "# DQN Quantum ER\n",
        "torch.cuda.empty_cache()\n",
        "config5 = {\n",
        "  \"learning_rate\": LR,\n",
        "  \"n_episodes\": N_EPISODES,\n",
        "  \"batch_size\": BATCH_SIZE,\n",
        "  \"gamma\": GAMMA,\n",
        "  \"epsilon\": EPSILON,\n",
        "  \"epsilon_decay\": EPSILON_DECAY,\n",
        "  \"epsilon_min\": EPSILON_MIN,\n",
        "  \"buffer_size\": BUFFER_SIZE,\n",
        "  \"update_target\": UPDATE_TARGET,\n",
        "  \"update_model\": UPDATE_MODEL,\n",
        "  \"train_start\": TRAIN_START,\n",
        "  \"is_DDQN\": False,\n",
        "  \"use_PER\": False,\n",
        "  \"is_Reupload\":True,\n",
        "  \"n_layers\":3\n",
        "}\n",
        "\n",
        "agent5 = DQN(Reupload_Net, config5)\n",
        "run5 = wandb.init(project=\"quantum_research\", \n",
        "                 entity=\"luthier-man\",\n",
        "                 name=\"DQN Quantum Reupload ER\",\n",
        "                 config=config5,\n",
        "                 monitor_gym=True,\n",
        "                 save_code=True)\n",
        "run5.log_code(\".\")\n",
        "run5.watch(agent5.q_network, log=\"all\",log_freq=1,\n",
        "          criterion=agent5.loss_fn, log_graph=True)\n",
        "print(agent5.name)\n",
        "alert = True\n",
        "\n",
        "for i in range(agent5.episodes):\n",
        "    agent5.train_episode()\n",
        "\n",
        "    run5.log({\"rewards\":agent5.rewards[i],\n",
        "             \"loss\": agent5.losses[i],\n",
        "             \"avg_reward\": agent5.avg_rewards[i],\n",
        "             \"Q-value\": agent5.q_values[i]})\n",
        "    run5.save(\"{}/*pt\".format(agent5.path))\n",
        "    if agent5.rewards[i]==200 and alert:\n",
        "        wandb.alert(title=\"Reached 200\", \n",
        "                text=\"{} Agent has reached 200 points!!!\".format(\"DQN Quantum Reupload ER\"))\n",
        "        alert=False\n",
        "wandb.alert(title=\"Finished\", \n",
        "    text=\"{} Run is finished\".format(\"DQN Quantum Reupload ER\"))\n",
        "run5.finish()\n"
      ]
    },
    {
      "cell_type": "code",
      "execution_count": null,
      "metadata": {
        "id": "HLqjR6QCnFt2"
      },
      "outputs": [],
      "source": [
        "# DDQN Quantum ER\n",
        "torch.cuda.empty_cache()\n",
        "config6 = {\n",
        "  \"learning_rate\": LR,\n",
        "  \"n_episodes\": N_EPISODES,\n",
        "  \"batch_size\": BATCH_SIZE,\n",
        "  \"gamma\": GAMMA,\n",
        "  \"epsilon\": EPSILON,\n",
        "  \"epsilon_decay\": EPSILON_DECAY,\n",
        "  \"epsilon_min\": EPSILON_MIN,\n",
        "  \"buffer_size\": BUFFER_SIZE,\n",
        "  \"update_target\": UPDATE_TARGET,\n",
        "  \"update_model\": UPDATE_MODEL,\n",
        "  \"train_start\": TRAIN_START,\n",
        "  \"is_DDQN\": True,\n",
        "  \"use_PER\": False,\n",
        "  \"is_Reupload\":True,\n",
        "  \"n_layers\":3\n",
        "}\n",
        "\n",
        "agent6 = DQN(Reupload_Net, config6)\n",
        "run6 = wandb.init(project=\"quantum_research\", \n",
        "                 entity=\"luthier-man\",\n",
        "                 name=\"DDQN Quantum Reupload ER\",\n",
        "                 config=config6,\n",
        "                 monitor_gym=True,\n",
        "                 save_code=True)\n",
        "run6.log_code(\".\")\n",
        "run6.watch(agent6.q_network, log=\"all\",log_freq=1,\n",
        "          criterion=agent6.loss_fn, log_graph=True)\n",
        "print(agent6.name)\n",
        "alert = True\n",
        "for i in range(agent6.episodes):\n",
        "    agent6.train_episode()\n",
        "\n",
        "    run6.log({\"rewards\":agent6.rewards[i],\n",
        "             \"loss\": agent6.losses[i],\n",
        "             \"avg_reward\": agent6.avg_rewards[i],\n",
        "             \"Q-value\": agent6.q_values[i]})\n",
        "    run6.save(\"{}/*pt\".format(agent6.path))\n",
        "    if agent6.rewards[i]==200 and alert:\n",
        "        wandb.alert(title=\"Reached 200\", \n",
        "                text=\"{} Agent has reached 200 points!!!\".format(\"DDQN Quantum Reupload ER\"))\n",
        "        alert = False\n",
        "wandb.alert(title=\"Finished\", \n",
        "    text=\"{} Run is finished\".format(\"DDQN Quantum Reupload ER\"))\n",
        "run6.finish()"
      ]
    },
    {
      "cell_type": "code",
      "execution_count": null,
      "metadata": {
        "id": "v2GJ1iUSn3gq"
      },
      "outputs": [],
      "source": [
        "# DQN Quantum PER\n",
        "torch.cuda.empty_cache()\n",
        "config7 = {\n",
        "  \"learning_rate\": LR,\n",
        "  \"n_episodes\": N_EPISODES,\n",
        "  \"batch_size\": BATCH_SIZE,\n",
        "  \"gamma\": GAMMA,\n",
        "  \"epsilon\": EPSILON,\n",
        "  \"epsilon_decay\": EPSILON_DECAY,\n",
        "  \"epsilon_min\": EPSILON_MIN,\n",
        "  \"buffer_size\": BUFFER_SIZE,\n",
        "  \"update_target\": UPDATE_TARGET,\n",
        "  \"update_model\": UPDATE_MODEL,\n",
        "  \"train_start\": TRAIN_START,\n",
        "  \"is_DDQN\": False,\n",
        "  \"use_PER\": True,\n",
        "  \"is_Reupload\":True,\n",
        "  \"n_layers\":3\n",
        "}\n",
        "\n",
        "agent7 = DQN(Reupload_Net, config7)\n",
        "run7 = wandb.init(project=\"quantum_research\", \n",
        "                 entity=\"luthier-man\",\n",
        "                 name=\"DQN Quantum Reupload PER\",\n",
        "                 config=config7,\n",
        "                 monitor_gym=True,\n",
        "                 save_code=True)\n",
        "run7.log_code(\".\")\n",
        "run7.watch(agent7.q_network, log=\"all\",log_freq=1,\n",
        "          criterion=agent7.loss_fn, log_graph=True)\n",
        "print(agent7.name)\n",
        "alert = True\n",
        "for i in range(agent7.episodes):\n",
        "    agent7.train_episode()\n",
        "    run7.log({\"rewards\":agent7.rewards[i],\n",
        "             \"loss\": agent7.losses[i],\n",
        "             \"avg_reward\": agent7.avg_rewards[i],\n",
        "             \"Q-value\": agent7.q_values[i]})\n",
        "    run7.save(\"{}/*pt\".format(agent7.path))\n",
        "    if agent7.rewards[i]==200 and alert:\n",
        "        wandb.alert(title=\"Reached 200\", \n",
        "                text=\"{} Agent has reached 200 points!!!\".format(\"DQN Quantum Reupload PER\"))\n",
        "        alert = False\n",
        "wandb.alert(title=\"Finished\", \n",
        "    text=\"{} Run is finished\".format(\"DQN Quantum Reupload PER\"))\n",
        "run7.finish()"
      ]
    },
    {
      "cell_type": "code",
      "execution_count": null,
      "metadata": {
        "id": "1hF_Po9QoNTc"
      },
      "outputs": [],
      "source": [
        "# DDQN Quantum PER\n",
        "torch.cuda.empty_cache()\n",
        "config8 = {\n",
        "  \"learning_rate\": LR,\n",
        "  \"n_episodes\": N_EPISODES,\n",
        "  \"batch_size\": BATCH_SIZE,\n",
        "  \"gamma\": GAMMA,\n",
        "  \"epsilon\": EPSILON,\n",
        "  \"epsilon_decay\": EPSILON_DECAY,\n",
        "  \"epsilon_min\": EPSILON_MIN,\n",
        "  \"buffer_size\": BUFFER_SIZE,\n",
        "  \"update_target\": UPDATE_TARGET,\n",
        "  \"update_model\": UPDATE_MODEL,\n",
        "  \"train_start\": TRAIN_START,\n",
        "  \"is_DDQN\": True,\n",
        "  \"use_PER\": True,\n",
        "  \"is_Reupload\":True,\n",
        "  \"n_layers\":3\n",
        "}\n",
        "\n",
        "agent8 = DQN(Reupload_Net, config8)\n",
        "run8 = wandb.init(project=\"quantum_research\", \n",
        "                 entity=\"luthier-man\",\n",
        "                 name=\"DDQN Quantum Reupload PER\",\n",
        "                 config=config8,\n",
        "                 monitor_gym=True,\n",
        "                 save_code=True)\n",
        "run8.log_code(\".\")\n",
        "run8.watch(agent8.q_network, log=\"all\",log_freq=1,\n",
        "          criterion=agent8.loss_fn, log_graph=True)\n",
        "print(agent8.name)\n",
        "alert = True\n",
        "for i in range(agent8.episodes):\n",
        "    agent8.train_episode()\n",
        "    run8.log({\"rewards\":agent8.rewards[i],\n",
        "             \"loss\": agent8.losses[i],\n",
        "             \"avg_reward\": agent8.avg_rewards[i],\n",
        "             \"Q-value\": agent8.q_values[i]})\n",
        "    run8.save(\"{}/*pt\".format(agent8.path))\n",
        "    if agent8.rewards[i]==200 and alert:\n",
        "        wandb.alert(title=\"Reached 200\", \n",
        "                text=\"{} Agent has reached 200 points!!!\".format(\"DDQN Quantum Reupload PER\"))\n",
        "        alert = False\n",
        "wandb.alert(title=\"Finished\", \n",
        "    text=\"{} Run is finished\".format(\"DQN Quantum Reupload PER\"))\n",
        "run8.finish()"
      ]
    },
    {
      "cell_type": "code",
      "execution_count": null,
      "metadata": {
        "colab": {
          "base_uri": "https://localhost:8080/",
          "height": 282
        },
        "id": "mmstLY5ju13U",
        "outputId": "151bd85e-bb97-41ba-eea6-16041748c8de"
      },
      "outputs": [
        {
          "data": {
            "text/plain": [
              "[<matplotlib.lines.Line2D at 0x7f77e9d4eb90>]"
            ]
          },
          "execution_count": 156,
          "metadata": {},
          "output_type": "execute_result"
        },
        {
          "data": {
            "image/png": "[encoded data removed]",
            "text/plain": [
              "<Figure size 432x288 with 1 Axes>"
            ]
          },
          "metadata": {},
          "output_type": "display_data"
        }
      ],
      "source": [
        "plt.plot(agent_dqn.rewards, color='blue', alpha=0.2, label='Reward')"
      ]
    },
    {
      "cell_type": "code",
      "execution_count": null,
      "metadata": {
        "colab": {
          "base_uri": "https://localhost:8080/",
          "height": 282
        },
        "id": "o-HlSkuW5g-0",
        "outputId": "da7c3d39-bac7-48f6-fab8-3917fb87cd63"
      },
      "outputs": [
        {
          "data": {
            "text/plain": [
              "[<matplotlib.lines.Line2D at 0x7f77fa82f950>]"
            ]
          },
          "execution_count": 115,
          "metadata": {},
          "output_type": "execute_result"
        },
        {
          "data": {
            "image/png": "[encoded data removed]",
            "text/plain": [
              "<Figure size 432x288 with 1 Axes>"
            ]
          },
          "metadata": {},
          "output_type": "display_data"
        }
      ],
      "source": [
        "plt.plot(agent_dqn.rewards, color='blue', alpha=0.2, label='Reward')\n"
      ]
    },
    {
      "cell_type": "code",
      "execution_count": null,
      "metadata": {
        "id": "2hUWxJsH5R5f"
      },
      "outputs": [],
      "source": [
        "plt.plot(agent_dqn.rewards, color='blue', alpha=0.2, label='Reward')"
      ]
    }
  ],
  "metadata": {
    "colab": {
      "collapsed_sections": [],
      "name": "DQN_torch_ultimate.ipynb",
      "provenance": [],
      "authorship_tag": "ABX9TyM0LbKCMZEbNjEAMRwOxkiS",
      "include_colab_link": true
    },
    "kernelspec": {
      "display_name": "Python 3",
      "name": "python3"
    },
    "language_info": {
      "name": "python"
    },
    "widgets": {
      "application/vnd.jupyter.widget-state+json": {
        "26d5ae8ac335412486a9afe8d1ee03fd": {
          "model_module": "@jupyter-widgets/base",
          "model_module_version": "1.2.0",
          "model_name": "LayoutModel",
          "state": {
            "_model_module": "@jupyter-widgets/base",
            "_model_module_version": "1.2.0",
            "_model_name": "LayoutModel",
            "_view_count": null,
            "_view_module": "@jupyter-widgets/base",
            "_view_module_version": "1.2.0",
            "_view_name": "LayoutView",
            "align_content": null,
            "align_items": null,
            "align_self": null,
            "border": null,
            "bottom": null,
            "display": null,
            "flex": null,
            "flex_flow": null,
            "grid_area": null,
            "grid_auto_columns": null,
            "grid_auto_flow": null,
            "grid_auto_rows": null,
            "grid_column": null,
            "grid_gap": null,
            "grid_row": null,
            "grid_template_areas": null,
            "grid_template_columns": null,
            "grid_template_rows": null,
            "height": null,
            "justify_content": null,
            "justify_items": null,
            "left": null,
            "margin": null,
            "max_height": null,
            "max_width": null,
            "min_height": null,
            "min_width": null,
            "object_fit": null,
            "object_position": null,
            "order": null,
            "overflow": null,
            "overflow_x": null,
            "overflow_y": null,
            "padding": null,
            "right": null,
            "top": null,
            "visibility": null,
            "width": null
          }
        },
        "2aa6302fac914da786f62088565953ae": {
          "model_module": "@jupyter-widgets/controls",
          "model_module_version": "1.5.0",
          "model_name": "VBoxModel",
          "state": {
            "_dom_classes": [],
            "_model_module": "@jupyter-widgets/controls",
            "_model_module_version": "1.5.0",
            "_model_name": "VBoxModel",
            "_view_count": null,
            "_view_module": "@jupyter-widgets/controls",
            "_view_module_version": "1.5.0",
            "_view_name": "VBoxView",
            "box_style": "",
            "children": [
              "IPY_MODEL_ecb335dee801417b8d008239307cea51",
              "IPY_MODEL_8db72988b50d4938b28340a892586348"
            ],
            "layout": "IPY_MODEL_aa9feb59e2bd43c5a38dd7a349d5c89d"
          }
        },
        "2f618081bf724a3a9992272a9d17a951": {
          "model_module": "@jupyter-widgets/controls",
          "model_module_version": "1.5.0",
          "model_name": "VBoxModel",
          "state": {
            "_dom_classes": [],
            "_model_module": "@jupyter-widgets/controls",
            "_model_module_version": "1.5.0",
            "_model_name": "VBoxModel",
            "_view_count": null,
            "_view_module": "@jupyter-widgets/controls",
            "_view_module_version": "1.5.0",
            "_view_name": "VBoxView",
            "box_style": "",
            "children": [
              "IPY_MODEL_793b90c48ace41b2ba73b3f396341e4c",
              "IPY_MODEL_ba4475da94094a9fbdd000150f2e009d"
            ],
            "layout": "IPY_MODEL_7719389e6acd4b7586d75f76dc095251"
          }
        },
        "30509e6948fc4e899bef574cd3430220": {
          "model_module": "@jupyter-widgets/controls",
          "model_module_version": "1.5.0",
          "model_name": "VBoxModel",
          "state": {
            "_dom_classes": [],
            "_model_module": "@jupyter-widgets/controls",
            "_model_module_version": "1.5.0",
            "_model_name": "VBoxModel",
            "_view_count": null,
            "_view_module": "@jupyter-widgets/controls",
            "_view_module_version": "1.5.0",
            "_view_name": "VBoxView",
            "box_style": "",
            "children": [
              "IPY_MODEL_6fe222dd3f5442959fcb1abc152f1d0e",
              "IPY_MODEL_3bf827a8683d4e49be64f5243f115241"
            ],
            "layout": "IPY_MODEL_26d5ae8ac335412486a9afe8d1ee03fd"
          }
        },
        "36f8292fbeeb40258f06556e539be6e6": {
          "model_module": "@jupyter-widgets/controls",
          "model_module_version": "1.5.0",
          "model_name": "FloatProgressModel",
          "state": {
            "_dom_classes": [],
            "_model_module": "@jupyter-widgets/controls",
            "_model_module_version": "1.5.0",
            "_model_name": "FloatProgressModel",
            "_view_count": null,
            "_view_module": "@jupyter-widgets/controls",
            "_view_module_version": "1.5.0",
            "_view_name": "ProgressView",
            "bar_style": "",
            "description": "",
            "description_tooltip": null,
            "layout": "IPY_MODEL_5e13921e47654b788c4fe5be76a6ca20",
            "max": 1,
            "min": 0,
            "orientation": "horizontal",
            "style": "IPY_MODEL_f7612632c5504cb194b88a0bf2f97b45",
            "value": 1
          }
        },
        "3bf827a8683d4e49be64f5243f115241": {
          "model_module": "@jupyter-widgets/controls",
          "model_module_version": "1.5.0",
          "model_name": "FloatProgressModel",
          "state": {
            "_dom_classes": [],
            "_model_module": "@jupyter-widgets/controls",
            "_model_module_version": "1.5.0",
            "_model_name": "FloatProgressModel",
            "_view_count": null,
            "_view_module": "@jupyter-widgets/controls",
            "_view_module_version": "1.5.0",
            "_view_name": "ProgressView",
            "bar_style": "",
            "description": "",
            "description_tooltip": null,
            "layout": "IPY_MODEL_43325a475f814dee94172fe1b0a9e822",
            "max": 1,
            "min": 0,
            "orientation": "horizontal",
            "style": "IPY_MODEL_a85cdd8e23814646924854003560f39d",
            "value": 1
          }
        },
        "43325a475f814dee94172fe1b0a9e822": {
          "model_module": "@jupyter-widgets/base",
          "model_module_version": "1.2.0",
          "model_name": "LayoutModel",
          "state": {
            "_model_module": "@jupyter-widgets/base",
            "_model_module_version": "1.2.0",
            "_model_name": "LayoutModel",
            "_view_count": null,
            "_view_module": "@jupyter-widgets/base",
            "_view_module_version": "1.2.0",
            "_view_name": "LayoutView",
            "align_content": null,
            "align_items": null,
            "align_self": null,
            "border": null,
            "bottom": null,
            "display": null,
            "flex": null,
            "flex_flow": null,
            "grid_area": null,
            "grid_auto_columns": null,
            "grid_auto_flow": null,
            "grid_auto_rows": null,
            "grid_column": null,
            "grid_gap": null,
            "grid_row": null,
            "grid_template_areas": null,
            "grid_template_columns": null,
            "grid_template_rows": null,
            "height": null,
            "justify_content": null,
            "justify_items": null,
            "left": null,
            "margin": null,
            "max_height": null,
            "max_width": null,
            "min_height": null,
            "min_width": null,
            "object_fit": null,
            "object_position": null,
            "order": null,
            "overflow": null,
            "overflow_x": null,
            "overflow_y": null,
            "padding": null,
            "right": null,
            "top": null,
            "visibility": null,
            "width": null
          }
        },
        "5e13921e47654b788c4fe5be76a6ca20": {
          "model_module": "@jupyter-widgets/base",
          "model_module_version": "1.2.0",
          "model_name": "LayoutModel",
          "state": {
            "_model_module": "@jupyter-widgets/base",
            "_model_module_version": "1.2.0",
            "_model_name": "LayoutModel",
            "_view_count": null,
            "_view_module": "@jupyter-widgets/base",
            "_view_module_version": "1.2.0",
            "_view_name": "LayoutView",
            "align_content": null,
            "align_items": null,
            "align_self": null,
            "border": null,
            "bottom": null,
            "display": null,
            "flex": null,
            "flex_flow": null,
            "grid_area": null,
            "grid_auto_columns": null,
            "grid_auto_flow": null,
            "grid_auto_rows": null,
            "grid_column": null,
            "grid_gap": null,
            "grid_row": null,
            "grid_template_areas": null,
            "grid_template_columns": null,
            "grid_template_rows": null,
            "height": null,
            "justify_content": null,
            "justify_items": null,
            "left": null,
            "margin": null,
            "max_height": null,
            "max_width": null,
            "min_height": null,
            "min_width": null,
            "object_fit": null,
            "object_position": null,
            "order": null,
            "overflow": null,
            "overflow_x": null,
            "overflow_y": null,
            "padding": null,
            "right": null,
            "top": null,
            "visibility": null,
            "width": null
          }
        },
        "6fe222dd3f5442959fcb1abc152f1d0e": {
          "model_module": "@jupyter-widgets/controls",
          "model_module_version": "1.5.0",
          "model_name": "LabelModel",
          "state": {
            "_dom_classes": [],
            "_model_module": "@jupyter-widgets/controls",
            "_model_module_version": "1.5.0",
            "_model_name": "LabelModel",
            "_view_count": null,
            "_view_module": "@jupyter-widgets/controls",
            "_view_module_version": "1.5.0",
            "_view_name": "LabelView",
            "description": "",
            "description_tooltip": null,
            "layout": "IPY_MODEL_b6fe83e882044f1abb33c2a85a3c4fe2",
            "placeholder": "​",
            "style": "IPY_MODEL_c4ee54315cbb46bc9d2d2684c72137da",
            "value": "4.243 MB of 4.243 MB uploaded (0.000 MB deduped)\r"
          }
        },
        "762113faa8b44827b2a0bfdc485e94de": {
          "model_module": "@jupyter-widgets/controls",
          "model_module_version": "1.5.0",
          "model_name": "DescriptionStyleModel",
          "state": {
            "_model_module": "@jupyter-widgets/controls",
            "_model_module_version": "1.5.0",
            "_model_name": "DescriptionStyleModel",
            "_view_count": null,
            "_view_module": "@jupyter-widgets/base",
            "_view_module_version": "1.2.0",
            "_view_name": "StyleView",
            "description_width": ""
          }
        },
        "7719389e6acd4b7586d75f76dc095251": {
          "model_module": "@jupyter-widgets/base",
          "model_module_version": "1.2.0",
          "model_name": "LayoutModel",
          "state": {
            "_model_module": "@jupyter-widgets/base",
            "_model_module_version": "1.2.0",
            "_model_name": "LayoutModel",
            "_view_count": null,
            "_view_module": "@jupyter-widgets/base",
            "_view_module_version": "1.2.0",
            "_view_name": "LayoutView",
            "align_content": null,
            "align_items": null,
            "align_self": null,
            "border": null,
            "bottom": null,
            "display": null,
            "flex": null,
            "flex_flow": null,
            "grid_area": null,
            "grid_auto_columns": null,
            "grid_auto_flow": null,
            "grid_auto_rows": null,
            "grid_column": null,
            "grid_gap": null,
            "grid_row": null,
            "grid_template_areas": null,
            "grid_template_columns": null,
            "grid_template_rows": null,
            "height": null,
            "justify_content": null,
            "justify_items": null,
            "left": null,
            "margin": null,
            "max_height": null,
            "max_width": null,
            "min_height": null,
            "min_width": null,
            "object_fit": null,
            "object_position": null,
            "order": null,
            "overflow": null,
            "overflow_x": null,
            "overflow_y": null,
            "padding": null,
            "right": null,
            "top": null,
            "visibility": null,
            "width": null
          }
        },
        "793b90c48ace41b2ba73b3f396341e4c": {
          "model_module": "@jupyter-widgets/controls",
          "model_module_version": "1.5.0",
          "model_name": "LabelModel",
          "state": {
            "_dom_classes": [],
            "_model_module": "@jupyter-widgets/controls",
            "_model_module_version": "1.5.0",
            "_model_name": "LabelModel",
            "_view_count": null,
            "_view_module": "@jupyter-widgets/controls",
            "_view_module_version": "1.5.0",
            "_view_name": "LabelView",
            "description": "",
            "description_tooltip": null,
            "layout": "IPY_MODEL_fc656eae5cc34855a1c4521b1cf9f71e",
            "placeholder": "​",
            "style": "IPY_MODEL_e5fac8865c964e8291b70a2210b801d0",
            "value": "4.021 MB of 4.021 MB uploaded (0.000 MB deduped)\r"
          }
        },
        "83e68e1464b84a65ad85aef31597d973": {
          "model_module": "@jupyter-widgets/controls",
          "model_module_version": "1.5.0",
          "model_name": "ProgressStyleModel",
          "state": {
            "_model_module": "@jupyter-widgets/controls",
            "_model_module_version": "1.5.0",
            "_model_name": "ProgressStyleModel",
            "_view_count": null,
            "_view_module": "@jupyter-widgets/base",
            "_view_module_version": "1.2.0",
            "_view_name": "StyleView",
            "bar_color": null,
            "description_width": ""
          }
        },
        "83ec4ad843f8467ebb43d3703976b109": {
          "model_module": "@jupyter-widgets/base",
          "model_module_version": "1.2.0",
          "model_name": "LayoutModel",
          "state": {
            "_model_module": "@jupyter-widgets/base",
            "_model_module_version": "1.2.0",
            "_model_name": "LayoutModel",
            "_view_count": null,
            "_view_module": "@jupyter-widgets/base",
            "_view_module_version": "1.2.0",
            "_view_name": "LayoutView",
            "align_content": null,
            "align_items": null,
            "align_self": null,
            "border": null,
            "bottom": null,
            "display": null,
            "flex": null,
            "flex_flow": null,
            "grid_area": null,
            "grid_auto_columns": null,
            "grid_auto_flow": null,
            "grid_auto_rows": null,
            "grid_column": null,
            "grid_gap": null,
            "grid_row": null,
            "grid_template_areas": null,
            "grid_template_columns": null,
            "grid_template_rows": null,
            "height": null,
            "justify_content": null,
            "justify_items": null,
            "left": null,
            "margin": null,
            "max_height": null,
            "max_width": null,
            "min_height": null,
            "min_width": null,
            "object_fit": null,
            "object_position": null,
            "order": null,
            "overflow": null,
            "overflow_x": null,
            "overflow_y": null,
            "padding": null,
            "right": null,
            "top": null,
            "visibility": null,
            "width": null
          }
        },
        "8db72988b50d4938b28340a892586348": {
          "model_module": "@jupyter-widgets/controls",
          "model_module_version": "1.5.0",
          "model_name": "FloatProgressModel",
          "state": {
            "_dom_classes": [],
            "_model_module": "@jupyter-widgets/controls",
            "_model_module_version": "1.5.0",
            "_model_name": "FloatProgressModel",
            "_view_count": null,
            "_view_module": "@jupyter-widgets/controls",
            "_view_module_version": "1.5.0",
            "_view_name": "ProgressView",
            "bar_style": "",
            "description": "",
            "description_tooltip": null,
            "layout": "IPY_MODEL_b084370ef31e42b981947ef7deaf65ed",
            "max": 1,
            "min": 0,
            "orientation": "horizontal",
            "style": "IPY_MODEL_83e68e1464b84a65ad85aef31597d973",
            "value": 1
          }
        },
        "920b243bd3f0409289c59ac9ed86bf5c": {
          "model_module": "@jupyter-widgets/controls",
          "model_module_version": "1.5.0",
          "model_name": "DescriptionStyleModel",
          "state": {
            "_model_module": "@jupyter-widgets/controls",
            "_model_module_version": "1.5.0",
            "_model_name": "DescriptionStyleModel",
            "_view_count": null,
            "_view_module": "@jupyter-widgets/base",
            "_view_module_version": "1.2.0",
            "_view_name": "StyleView",
            "description_width": ""
          }
        },
        "97b7cd89efc14576a4ccc9b2f1f4b523": {
          "model_module": "@jupyter-widgets/controls",
          "model_module_version": "1.5.0",
          "model_name": "ProgressStyleModel",
          "state": {
            "_model_module": "@jupyter-widgets/controls",
            "_model_module_version": "1.5.0",
            "_model_name": "ProgressStyleModel",
            "_view_count": null,
            "_view_module": "@jupyter-widgets/base",
            "_view_module_version": "1.2.0",
            "_view_name": "StyleView",
            "bar_color": null,
            "description_width": ""
          }
        },
        "a85cdd8e23814646924854003560f39d": {
          "model_module": "@jupyter-widgets/controls",
          "model_module_version": "1.5.0",
          "model_name": "ProgressStyleModel",
          "state": {
            "_model_module": "@jupyter-widgets/controls",
            "_model_module_version": "1.5.0",
            "_model_name": "ProgressStyleModel",
            "_view_count": null,
            "_view_module": "@jupyter-widgets/base",
            "_view_module_version": "1.2.0",
            "_view_name": "StyleView",
            "bar_color": null,
            "description_width": ""
          }
        },
        "aa9feb59e2bd43c5a38dd7a349d5c89d": {
          "model_module": "@jupyter-widgets/base",
          "model_module_version": "1.2.0",
          "model_name": "LayoutModel",
          "state": {
            "_model_module": "@jupyter-widgets/base",
            "_model_module_version": "1.2.0",
            "_model_name": "LayoutModel",
            "_view_count": null,
            "_view_module": "@jupyter-widgets/base",
            "_view_module_version": "1.2.0",
            "_view_name": "LayoutView",
            "align_content": null,
            "align_items": null,
            "align_self": null,
            "border": null,
            "bottom": null,
            "display": null,
            "flex": null,
            "flex_flow": null,
            "grid_area": null,
            "grid_auto_columns": null,
            "grid_auto_flow": null,
            "grid_auto_rows": null,
            "grid_column": null,
            "grid_gap": null,
            "grid_row": null,
            "grid_template_areas": null,
            "grid_template_columns": null,
            "grid_template_rows": null,
            "height": null,
            "justify_content": null,
            "justify_items": null,
            "left": null,
            "margin": null,
            "max_height": null,
            "max_width": null,
            "min_height": null,
            "min_width": null,
            "object_fit": null,
            "object_position": null,
            "order": null,
            "overflow": null,
            "overflow_x": null,
            "overflow_y": null,
            "padding": null,
            "right": null,
            "top": null,
            "visibility": null,
            "width": null
          }
        },
        "b084370ef31e42b981947ef7deaf65ed": {
          "model_module": "@jupyter-widgets/base",
          "model_module_version": "1.2.0",
          "model_name": "LayoutModel",
          "state": {
            "_model_module": "@jupyter-widgets/base",
            "_model_module_version": "1.2.0",
            "_model_name": "LayoutModel",
            "_view_count": null,
            "_view_module": "@jupyter-widgets/base",
            "_view_module_version": "1.2.0",
            "_view_name": "LayoutView",
            "align_content": null,
            "align_items": null,
            "align_self": null,
            "border": null,
            "bottom": null,
            "display": null,
            "flex": null,
            "flex_flow": null,
            "grid_area": null,
            "grid_auto_columns": null,
            "grid_auto_flow": null,
            "grid_auto_rows": null,
            "grid_column": null,
            "grid_gap": null,
            "grid_row": null,
            "grid_template_areas": null,
            "grid_template_columns": null,
            "grid_template_rows": null,
            "height": null,
            "justify_content": null,
            "justify_items": null,
            "left": null,
            "margin": null,
            "max_height": null,
            "max_width": null,
            "min_height": null,
            "min_width": null,
            "object_fit": null,
            "object_position": null,
            "order": null,
            "overflow": null,
            "overflow_x": null,
            "overflow_y": null,
            "padding": null,
            "right": null,
            "top": null,
            "visibility": null,
            "width": null
          }
        },
        "b52f6e7c29cf4194b17065413ce87b0a": {
          "model_module": "@jupyter-widgets/controls",
          "model_module_version": "1.5.0",
          "model_name": "LabelModel",
          "state": {
            "_dom_classes": [],
            "_model_module": "@jupyter-widgets/controls",
            "_model_module_version": "1.5.0",
            "_model_name": "LabelModel",
            "_view_count": null,
            "_view_module": "@jupyter-widgets/controls",
            "_view_module_version": "1.5.0",
            "_view_name": "LabelView",
            "description": "",
            "description_tooltip": null,
            "layout": "IPY_MODEL_83ec4ad843f8467ebb43d3703976b109",
            "placeholder": "​",
            "style": "IPY_MODEL_920b243bd3f0409289c59ac9ed86bf5c",
            "value": "4.025 MB of 4.025 MB uploaded (0.000 MB deduped)\r"
          }
        },
        "b6fe83e882044f1abb33c2a85a3c4fe2": {
          "model_module": "@jupyter-widgets/base",
          "model_module_version": "1.2.0",
          "model_name": "LayoutModel",
          "state": {
            "_model_module": "@jupyter-widgets/base",
            "_model_module_version": "1.2.0",
            "_model_name": "LayoutModel",
            "_view_count": null,
            "_view_module": "@jupyter-widgets/base",
            "_view_module_version": "1.2.0",
            "_view_name": "LayoutView",
            "align_content": null,
            "align_items": null,
            "align_self": null,
            "border": null,
            "bottom": null,
            "display": null,
            "flex": null,
            "flex_flow": null,
            "grid_area": null,
            "grid_auto_columns": null,
            "grid_auto_flow": null,
            "grid_auto_rows": null,
            "grid_column": null,
            "grid_gap": null,
            "grid_row": null,
            "grid_template_areas": null,
            "grid_template_columns": null,
            "grid_template_rows": null,
            "height": null,
            "justify_content": null,
            "justify_items": null,
            "left": null,
            "margin": null,
            "max_height": null,
            "max_width": null,
            "min_height": null,
            "min_width": null,
            "object_fit": null,
            "object_position": null,
            "order": null,
            "overflow": null,
            "overflow_x": null,
            "overflow_y": null,
            "padding": null,
            "right": null,
            "top": null,
            "visibility": null,
            "width": null
          }
        },
        "ba4475da94094a9fbdd000150f2e009d": {
          "model_module": "@jupyter-widgets/controls",
          "model_module_version": "1.5.0",
          "model_name": "FloatProgressModel",
          "state": {
            "_dom_classes": [],
            "_model_module": "@jupyter-widgets/controls",
            "_model_module_version": "1.5.0",
            "_model_name": "FloatProgressModel",
            "_view_count": null,
            "_view_module": "@jupyter-widgets/controls",
            "_view_module_version": "1.5.0",
            "_view_name": "ProgressView",
            "bar_style": "",
            "description": "",
            "description_tooltip": null,
            "layout": "IPY_MODEL_c4e0180cc84c4a7bba95d32d269e0b48",
            "max": 1,
            "min": 0,
            "orientation": "horizontal",
            "style": "IPY_MODEL_97b7cd89efc14576a4ccc9b2f1f4b523",
            "value": 1
          }
        },
        "c4e0180cc84c4a7bba95d32d269e0b48": {
          "model_module": "@jupyter-widgets/base",
          "model_module_version": "1.2.0",
          "model_name": "LayoutModel",
          "state": {
            "_model_module": "@jupyter-widgets/base",
            "_model_module_version": "1.2.0",
            "_model_name": "LayoutModel",
            "_view_count": null,
            "_view_module": "@jupyter-widgets/base",
            "_view_module_version": "1.2.0",
            "_view_name": "LayoutView",
            "align_content": null,
            "align_items": null,
            "align_self": null,
            "border": null,
            "bottom": null,
            "display": null,
            "flex": null,
            "flex_flow": null,
            "grid_area": null,
            "grid_auto_columns": null,
            "grid_auto_flow": null,
            "grid_auto_rows": null,
            "grid_column": null,
            "grid_gap": null,
            "grid_row": null,
            "grid_template_areas": null,
            "grid_template_columns": null,
            "grid_template_rows": null,
            "height": null,
            "justify_content": null,
            "justify_items": null,
            "left": null,
            "margin": null,
            "max_height": null,
            "max_width": null,
            "min_height": null,
            "min_width": null,
            "object_fit": null,
            "object_position": null,
            "order": null,
            "overflow": null,
            "overflow_x": null,
            "overflow_y": null,
            "padding": null,
            "right": null,
            "top": null,
            "visibility": null,
            "width": null
          }
        },
        "c4ee54315cbb46bc9d2d2684c72137da": {
          "model_module": "@jupyter-widgets/controls",
          "model_module_version": "1.5.0",
          "model_name": "DescriptionStyleModel",
          "state": {
            "_model_module": "@jupyter-widgets/controls",
            "_model_module_version": "1.5.0",
            "_model_name": "DescriptionStyleModel",
            "_view_count": null,
            "_view_module": "@jupyter-widgets/base",
            "_view_module_version": "1.2.0",
            "_view_name": "StyleView",
            "description_width": ""
          }
        },
        "c4eec2f4eb844ba79e783242edeec606": {
          "model_module": "@jupyter-widgets/controls",
          "model_module_version": "1.5.0",
          "model_name": "VBoxModel",
          "state": {
            "_dom_classes": [],
            "_model_module": "@jupyter-widgets/controls",
            "_model_module_version": "1.5.0",
            "_model_name": "VBoxModel",
            "_view_count": null,
            "_view_module": "@jupyter-widgets/controls",
            "_view_module_version": "1.5.0",
            "_view_name": "VBoxView",
            "box_style": "",
            "children": [
              "IPY_MODEL_b52f6e7c29cf4194b17065413ce87b0a",
              "IPY_MODEL_36f8292fbeeb40258f06556e539be6e6"
            ],
            "layout": "IPY_MODEL_c96ad8db1dbc428394e8721f0c4c576a"
          }
        },
        "c96ad8db1dbc428394e8721f0c4c576a": {
          "model_module": "@jupyter-widgets/base",
          "model_module_version": "1.2.0",
          "model_name": "LayoutModel",
          "state": {
            "_model_module": "@jupyter-widgets/base",
            "_model_module_version": "1.2.0",
            "_model_name": "LayoutModel",
            "_view_count": null,
            "_view_module": "@jupyter-widgets/base",
            "_view_module_version": "1.2.0",
            "_view_name": "LayoutView",
            "align_content": null,
            "align_items": null,
            "align_self": null,
            "border": null,
            "bottom": null,
            "display": null,
            "flex": null,
            "flex_flow": null,
            "grid_area": null,
            "grid_auto_columns": null,
            "grid_auto_flow": null,
            "grid_auto_rows": null,
            "grid_column": null,
            "grid_gap": null,
            "grid_row": null,
            "grid_template_areas": null,
            "grid_template_columns": null,
            "grid_template_rows": null,
            "height": null,
            "justify_content": null,
            "justify_items": null,
            "left": null,
            "margin": null,
            "max_height": null,
            "max_width": null,
            "min_height": null,
            "min_width": null,
            "object_fit": null,
            "object_position": null,
            "order": null,
            "overflow": null,
            "overflow_x": null,
            "overflow_y": null,
            "padding": null,
            "right": null,
            "top": null,
            "visibility": null,
            "width": null
          }
        },
        "d46a8d6dc47b4f5c85076e825d812c5c": {
          "model_module": "@jupyter-widgets/base",
          "model_module_version": "1.2.0",
          "model_name": "LayoutModel",
          "state": {
            "_model_module": "@jupyter-widgets/base",
            "_model_module_version": "1.2.0",
            "_model_name": "LayoutModel",
            "_view_count": null,
            "_view_module": "@jupyter-widgets/base",
            "_view_module_version": "1.2.0",
            "_view_name": "LayoutView",
            "align_content": null,
            "align_items": null,
            "align_self": null,
            "border": null,
            "bottom": null,
            "display": null,
            "flex": null,
            "flex_flow": null,
            "grid_area": null,
            "grid_auto_columns": null,
            "grid_auto_flow": null,
            "grid_auto_rows": null,
            "grid_column": null,
            "grid_gap": null,
            "grid_row": null,
            "grid_template_areas": null,
            "grid_template_columns": null,
            "grid_template_rows": null,
            "height": null,
            "justify_content": null,
            "justify_items": null,
            "left": null,
            "margin": null,
            "max_height": null,
            "max_width": null,
            "min_height": null,
            "min_width": null,
            "object_fit": null,
            "object_position": null,
            "order": null,
            "overflow": null,
            "overflow_x": null,
            "overflow_y": null,
            "padding": null,
            "right": null,
            "top": null,
            "visibility": null,
            "width": null
          }
        },
        "e5fac8865c964e8291b70a2210b801d0": {
          "model_module": "@jupyter-widgets/controls",
          "model_module_version": "1.5.0",
          "model_name": "DescriptionStyleModel",
          "state": {
            "_model_module": "@jupyter-widgets/controls",
            "_model_module_version": "1.5.0",
            "_model_name": "DescriptionStyleModel",
            "_view_count": null,
            "_view_module": "@jupyter-widgets/base",
            "_view_module_version": "1.2.0",
            "_view_name": "StyleView",
            "description_width": ""
          }
        },
        "ecb335dee801417b8d008239307cea51": {
          "model_module": "@jupyter-widgets/controls",
          "model_module_version": "1.5.0",
          "model_name": "LabelModel",
          "state": {
            "_dom_classes": [],
            "_model_module": "@jupyter-widgets/controls",
            "_model_module_version": "1.5.0",
            "_model_name": "LabelModel",
            "_view_count": null,
            "_view_module": "@jupyter-widgets/controls",
            "_view_module_version": "1.5.0",
            "_view_name": "LabelView",
            "description": "",
            "description_tooltip": null,
            "layout": "IPY_MODEL_d46a8d6dc47b4f5c85076e825d812c5c",
            "placeholder": "​",
            "style": "IPY_MODEL_762113faa8b44827b2a0bfdc485e94de",
            "value": "4.206 MB of 4.206 MB uploaded (0.000 MB deduped)\r"
          }
        },
        "f7612632c5504cb194b88a0bf2f97b45": {
          "model_module": "@jupyter-widgets/controls",
          "model_module_version": "1.5.0",
          "model_name": "ProgressStyleModel",
          "state": {
            "_model_module": "@jupyter-widgets/controls",
            "_model_module_version": "1.5.0",
            "_model_name": "ProgressStyleModel",
            "_view_count": null,
            "_view_module": "@jupyter-widgets/base",
            "_view_module_version": "1.2.0",
            "_view_name": "StyleView",
            "bar_color": null,
            "description_width": ""
          }
        },
        "fc656eae5cc34855a1c4521b1cf9f71e": {
          "model_module": "@jupyter-widgets/base",
          "model_module_version": "1.2.0",
          "model_name": "LayoutModel",
          "state": {
            "_model_module": "@jupyter-widgets/base",
            "_model_module_version": "1.2.0",
            "_model_name": "LayoutModel",
            "_view_count": null,
            "_view_module": "@jupyter-widgets/base",
            "_view_module_version": "1.2.0",
            "_view_name": "LayoutView",
            "align_content": null,
            "align_items": null,
            "align_self": null,
            "border": null,
            "bottom": null,
            "display": null,
            "flex": null,
            "flex_flow": null,
            "grid_area": null,
            "grid_auto_columns": null,
            "grid_auto_flow": null,
            "grid_auto_rows": null,
            "grid_column": null,
            "grid_gap": null,
            "grid_row": null,
            "grid_template_areas": null,
            "grid_template_columns": null,
            "grid_template_rows": null,
            "height": null,
            "justify_content": null,
            "justify_items": null,
            "left": null,
            "margin": null,
            "max_height": null,
            "max_width": null,
            "min_height": null,
            "min_width": null,
            "object_fit": null,
            "object_position": null,
            "order": null,
            "overflow": null,
            "overflow_x": null,
            "overflow_y": null,
            "padding": null,
            "right": null,
            "top": null,
            "visibility": null,
            "width": null
          }
        }
      }
    }
  },
  "nbformat": 4,
  "nbformat_minor": 0
}