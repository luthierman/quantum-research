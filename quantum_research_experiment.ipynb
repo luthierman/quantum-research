{
  "nbformat": 4,
  "nbformat_minor": 0,
  "metadata": {
    "colab": {
      "name": "quantum_research_experiment.ipynb",
      "provenance": [],
      "collapsed_sections": [],
      "mount_file_id": "1aschvI__vMKEcAHsLFeBqWgDShE1Ou5O",
      "authorship_tag": "ABX9TyOgo5VZB8E7K0lZH9Bmbzpt",
      "include_colab_link": true
    },
    "kernelspec": {
      "display_name": "Python 3",
      "name": "python3"
    },
    "language_info": {
      "name": "python"
    }
  },
  "cells": [
    {
      "cell_type": "markdown",
      "metadata": {
        "id": "view-in-github",
        "colab_type": "text"
      },
      "source": [
        "<a href=\"https://colab.research.google.com/github/luthierman/quantum-research/blob/main/quantum_research_experiment.ipynb\" target=\"_parent\"><img src=\"https://colab.research.google.com/assets/colab-badge.svg\" alt=\"Open In Colab\"/></a>"
      ]
    },
    {
      "cell_type": "markdown",
      "metadata": {
        "id": "Wrku4dHIEAv8"
      },
      "source": [
        "DEPENDENCY INSTALLATIONS (mostly for colab)"
      ]
    },
    {
      "cell_type": "code",
      "metadata": {
        "colab": {
          "base_uri": "https://localhost:8080/"
        },
        "id": "tWpVu0H28IXQ",
        "outputId": "69822ab7-a85f-4b12-ee62-6eaf917f0414"
      },
      "source": [
        "# !pip install tensorflow-gpu==2.3.1\n",
        "# !pip install tensorflow-quantum\n",
        "# !pip install gym\n",
        "# !pip tensorboard_plugin_profile==2.3.0\n",
        "# https://github.com/qulacs/cirq-qulacs.git for gpu\n",
        "\n",
        "%%bash\n",
        "# install required system dependencies\n",
        "apt-get install -y xvfb x11-utils\n",
        "# install required python dependencies\n",
        "pip install gym[box2d]==0.17.* \\\n",
        "            pyvirtualdisplay==0.2.* \\\n",
        "            PyOpenGL==3.1.* \\\n",
        "            PyOpenGL-accelerate==3.1.* \\\n",
        "            tensorflow-quantum \\\n",
        "            tensorflow-gpu==2.3.1 \\\n",
        "            imageio==2.4.0 \\\n",
        "            PILLOW \\\n",
        "            pyglet==1.3.2\n"
      ],
      "execution_count": null,
      "outputs": [
        {
          "output_type": "stream",
          "text": [
            "Reading package lists...\n",
            "Building dependency tree...\n",
            "Reading state information...\n",
            "x11-utils is already the newest version (7.7+3build1).\n",
            "xvfb is already the newest version (2:1.19.6-1ubuntu4.8).\n",
            "0 upgraded, 0 newly installed, 0 to remove and 30 not upgraded.\n",
            "Processing /root/.cache/pip/wheels/05/31/54/501ff9f64e6084bbcb75e600f257f3c628b19f0eaadc37162d/gym-0.17.3-cp37-none-any.whl\n",
            "Requirement already satisfied: pyvirtualdisplay==0.2.* in /usr/local/lib/python3.7/dist-packages (0.2.5)\n",
            "Requirement already satisfied: PyOpenGL==3.1.* in /usr/local/lib/python3.7/dist-packages (3.1.5)\n",
            "Requirement already satisfied: PyOpenGL-accelerate==3.1.* in /usr/local/lib/python3.7/dist-packages (3.1.5)\n",
            "Requirement already satisfied: tensorflow-quantum in /usr/local/lib/python3.7/dist-packages (0.4.0)\n",
            "Requirement already satisfied: tensorflow-gpu==2.3.1 in /usr/local/lib/python3.7/dist-packages (2.3.1)\n",
            "Requirement already satisfied: imageio==2.4.0 in /usr/local/lib/python3.7/dist-packages (2.4.0)\n",
            "Requirement already satisfied: PILLOW in /usr/local/lib/python3.7/dist-packages (7.1.2)\n",
            "Requirement already satisfied: pyglet==1.3.2 in /usr/local/lib/python3.7/dist-packages (1.3.2)\n",
            "Requirement already satisfied: numpy>=1.10.4 in /usr/local/lib/python3.7/dist-packages (from gym[box2d]==0.17.*) (1.19.5)\n",
            "Requirement already satisfied: scipy in /usr/local/lib/python3.7/dist-packages (from gym[box2d]==0.17.*) (1.4.1)\n",
            "Requirement already satisfied: cloudpickle<1.7.0,>=1.2.0 in /usr/local/lib/python3.7/dist-packages (from gym[box2d]==0.17.*) (1.3.0)\n",
            "Requirement already satisfied: box2d-py~=2.3.5; extra == \"box2d\" in /usr/local/lib/python3.7/dist-packages (from gym[box2d]==0.17.*) (2.3.8)\n",
            "Requirement already satisfied: EasyProcess in /usr/local/lib/python3.7/dist-packages (from pyvirtualdisplay==0.2.*) (0.3)\n",
            "Requirement already satisfied: cirq==0.9.1 in /usr/local/lib/python3.7/dist-packages (from tensorflow-quantum) (0.9.1)\n",
            "Requirement already satisfied: sympy==1.5 in /usr/local/lib/python3.7/dist-packages (from tensorflow-quantum) (1.5)\n",
            "Requirement already satisfied: tensorflow-estimator<2.4.0,>=2.3.0 in /usr/local/lib/python3.7/dist-packages (from tensorflow-gpu==2.3.1) (2.3.0)\n",
            "Requirement already satisfied: wheel>=0.26 in /usr/local/lib/python3.7/dist-packages (from tensorflow-gpu==2.3.1) (0.36.2)\n",
            "Requirement already satisfied: gast==0.3.3 in /usr/local/lib/python3.7/dist-packages (from tensorflow-gpu==2.3.1) (0.3.3)\n",
            "Requirement already satisfied: google-pasta>=0.1.8 in /usr/local/lib/python3.7/dist-packages (from tensorflow-gpu==2.3.1) (0.2.0)\n",
            "Requirement already satisfied: wrapt>=1.11.1 in /usr/local/lib/python3.7/dist-packages (from tensorflow-gpu==2.3.1) (1.12.1)\n",
            "Requirement already satisfied: protobuf>=3.9.2 in /usr/local/lib/python3.7/dist-packages (from tensorflow-gpu==2.3.1) (3.12.4)\n",
            "Requirement already satisfied: tensorboard<3,>=2.3.0 in /usr/local/lib/python3.7/dist-packages (from tensorflow-gpu==2.3.1) (2.4.1)\n",
            "Requirement already satisfied: keras-preprocessing<1.2,>=1.1.1 in /usr/local/lib/python3.7/dist-packages (from tensorflow-gpu==2.3.1) (1.1.2)\n",
            "Requirement already satisfied: grpcio>=1.8.6 in /usr/local/lib/python3.7/dist-packages (from tensorflow-gpu==2.3.1) (1.32.0)\n",
            "Requirement already satisfied: absl-py>=0.7.0 in /usr/local/lib/python3.7/dist-packages (from tensorflow-gpu==2.3.1) (0.12.0)\n",
            "Requirement already satisfied: six>=1.12.0 in /usr/local/lib/python3.7/dist-packages (from tensorflow-gpu==2.3.1) (1.15.0)\n",
            "Requirement already satisfied: termcolor>=1.1.0 in /usr/local/lib/python3.7/dist-packages (from tensorflow-gpu==2.3.1) (1.1.0)\n",
            "Requirement already satisfied: opt-einsum>=2.3.2 in /usr/local/lib/python3.7/dist-packages (from tensorflow-gpu==2.3.1) (3.3.0)\n",
            "Requirement already satisfied: astunparse==1.6.3 in /usr/local/lib/python3.7/dist-packages (from tensorflow-gpu==2.3.1) (1.6.3)\n",
            "Requirement already satisfied: h5py<2.11.0,>=2.10.0 in /usr/local/lib/python3.7/dist-packages (from tensorflow-gpu==2.3.1) (2.10.0)\n",
            "Requirement already satisfied: future in /usr/local/lib/python3.7/dist-packages (from pyglet==1.3.2) (0.16.0)\n",
            "Requirement already satisfied: matplotlib~=3.0 in /usr/local/lib/python3.7/dist-packages (from cirq==0.9.1->tensorflow-quantum) (3.2.2)\n",
            "Requirement already satisfied: google-api-core[grpc]<2.0.0dev,>=1.14.0 in /usr/local/lib/python3.7/dist-packages (from cirq==0.9.1->tensorflow-quantum) (1.26.2)\n",
            "Requirement already satisfied: freezegun~=0.3.15 in /usr/local/lib/python3.7/dist-packages (from cirq==0.9.1->tensorflow-quantum) (0.3.15)\n",
            "Requirement already satisfied: pandas in /usr/local/lib/python3.7/dist-packages (from cirq==0.9.1->tensorflow-quantum) (1.1.5)\n",
            "Requirement already satisfied: networkx~=2.4 in /usr/local/lib/python3.7/dist-packages (from cirq==0.9.1->tensorflow-quantum) (2.5)\n",
            "Requirement already satisfied: typing-extensions in /usr/local/lib/python3.7/dist-packages (from cirq==0.9.1->tensorflow-quantum) (3.7.4.3)\n",
            "Requirement already satisfied: requests~=2.18 in /usr/local/lib/python3.7/dist-packages (from cirq==0.9.1->tensorflow-quantum) (2.23.0)\n",
            "Requirement already satisfied: sortedcontainers~=2.0 in /usr/local/lib/python3.7/dist-packages (from cirq==0.9.1->tensorflow-quantum) (2.3.0)\n",
            "Requirement already satisfied: mpmath>=0.19 in /usr/local/lib/python3.7/dist-packages (from sympy==1.5->tensorflow-quantum) (1.2.1)\n",
            "Requirement already satisfied: setuptools in /usr/local/lib/python3.7/dist-packages (from protobuf>=3.9.2->tensorflow-gpu==2.3.1) (54.2.0)\n",
            "Requirement already satisfied: markdown>=2.6.8 in /usr/local/lib/python3.7/dist-packages (from tensorboard<3,>=2.3.0->tensorflow-gpu==2.3.1) (3.3.4)\n",
            "Requirement already satisfied: tensorboard-plugin-wit>=1.6.0 in /usr/local/lib/python3.7/dist-packages (from tensorboard<3,>=2.3.0->tensorflow-gpu==2.3.1) (1.8.0)\n",
            "Requirement already satisfied: google-auth-oauthlib<0.5,>=0.4.1 in /usr/local/lib/python3.7/dist-packages (from tensorboard<3,>=2.3.0->tensorflow-gpu==2.3.1) (0.4.3)\n",
            "Requirement already satisfied: google-auth<2,>=1.6.3 in /usr/local/lib/python3.7/dist-packages (from tensorboard<3,>=2.3.0->tensorflow-gpu==2.3.1) (1.28.0)\n",
            "Requirement already satisfied: werkzeug>=0.11.15 in /usr/local/lib/python3.7/dist-packages (from tensorboard<3,>=2.3.0->tensorflow-gpu==2.3.1) (1.0.1)\n",
            "Requirement already satisfied: pyparsing!=2.0.4,!=2.1.2,!=2.1.6,>=2.0.1 in /usr/local/lib/python3.7/dist-packages (from matplotlib~=3.0->cirq==0.9.1->tensorflow-quantum) (2.4.7)\n",
            "Requirement already satisfied: python-dateutil>=2.1 in /usr/local/lib/python3.7/dist-packages (from matplotlib~=3.0->cirq==0.9.1->tensorflow-quantum) (2.8.1)\n",
            "Requirement already satisfied: cycler>=0.10 in /usr/local/lib/python3.7/dist-packages (from matplotlib~=3.0->cirq==0.9.1->tensorflow-quantum) (0.10.0)\n",
            "Requirement already satisfied: kiwisolver>=1.0.1 in /usr/local/lib/python3.7/dist-packages (from matplotlib~=3.0->cirq==0.9.1->tensorflow-quantum) (1.3.1)\n",
            "Requirement already satisfied: googleapis-common-protos<2.0dev,>=1.6.0 in /usr/local/lib/python3.7/dist-packages (from google-api-core[grpc]<2.0.0dev,>=1.14.0->cirq==0.9.1->tensorflow-quantum) (1.53.0)\n",
            "Requirement already satisfied: packaging>=14.3 in /usr/local/lib/python3.7/dist-packages (from google-api-core[grpc]<2.0.0dev,>=1.14.0->cirq==0.9.1->tensorflow-quantum) (20.9)\n",
            "Requirement already satisfied: pytz in /usr/local/lib/python3.7/dist-packages (from google-api-core[grpc]<2.0.0dev,>=1.14.0->cirq==0.9.1->tensorflow-quantum) (2018.9)\n",
            "Requirement already satisfied: decorator>=4.3.0 in /usr/local/lib/python3.7/dist-packages (from networkx~=2.4->cirq==0.9.1->tensorflow-quantum) (4.4.2)\n",
            "Requirement already satisfied: idna<3,>=2.5 in /usr/local/lib/python3.7/dist-packages (from requests~=2.18->cirq==0.9.1->tensorflow-quantum) (2.10)\n",
            "Requirement already satisfied: chardet<4,>=3.0.2 in /usr/local/lib/python3.7/dist-packages (from requests~=2.18->cirq==0.9.1->tensorflow-quantum) (3.0.4)\n",
            "Requirement already satisfied: certifi>=2017.4.17 in /usr/local/lib/python3.7/dist-packages (from requests~=2.18->cirq==0.9.1->tensorflow-quantum) (2020.12.5)\n",
            "Requirement already satisfied: urllib3!=1.25.0,!=1.25.1,<1.26,>=1.21.1 in /usr/local/lib/python3.7/dist-packages (from requests~=2.18->cirq==0.9.1->tensorflow-quantum) (1.24.3)\n",
            "Requirement already satisfied: importlib-metadata; python_version < \"3.8\" in /usr/local/lib/python3.7/dist-packages (from markdown>=2.6.8->tensorboard<3,>=2.3.0->tensorflow-gpu==2.3.1) (3.8.1)\n",
            "Requirement already satisfied: requests-oauthlib>=0.7.0 in /usr/local/lib/python3.7/dist-packages (from google-auth-oauthlib<0.5,>=0.4.1->tensorboard<3,>=2.3.0->tensorflow-gpu==2.3.1) (1.3.0)\n",
            "Requirement already satisfied: cachetools<5.0,>=2.0.0 in /usr/local/lib/python3.7/dist-packages (from google-auth<2,>=1.6.3->tensorboard<3,>=2.3.0->tensorflow-gpu==2.3.1) (4.2.1)\n",
            "Requirement already satisfied: rsa<5,>=3.1.4; python_version >= \"3.6\" in /usr/local/lib/python3.7/dist-packages (from google-auth<2,>=1.6.3->tensorboard<3,>=2.3.0->tensorflow-gpu==2.3.1) (4.7.2)\n",
            "Requirement already satisfied: pyasn1-modules>=0.2.1 in /usr/local/lib/python3.7/dist-packages (from google-auth<2,>=1.6.3->tensorboard<3,>=2.3.0->tensorflow-gpu==2.3.1) (0.2.8)\n",
            "Requirement already satisfied: zipp>=0.5 in /usr/local/lib/python3.7/dist-packages (from importlib-metadata; python_version < \"3.8\"->markdown>=2.6.8->tensorboard<3,>=2.3.0->tensorflow-gpu==2.3.1) (3.4.1)\n",
            "Requirement already satisfied: oauthlib>=3.0.0 in /usr/local/lib/python3.7/dist-packages (from requests-oauthlib>=0.7.0->google-auth-oauthlib<0.5,>=0.4.1->tensorboard<3,>=2.3.0->tensorflow-gpu==2.3.1) (3.1.0)\n",
            "Requirement already satisfied: pyasn1>=0.1.3 in /usr/local/lib/python3.7/dist-packages (from rsa<5,>=3.1.4; python_version >= \"3.6\"->google-auth<2,>=1.6.3->tensorboard<3,>=2.3.0->tensorflow-gpu==2.3.1) (0.4.8)\n",
            "Installing collected packages: gym\n",
            "  Found existing installation: gym 0.10.11\n",
            "    Uninstalling gym-0.10.11:\n",
            "      Successfully uninstalled gym-0.10.11\n",
            "Successfully installed gym-0.17.3\n"
          ],
          "name": "stdout"
        },
        {
          "output_type": "stream",
          "text": [
            "ERROR: gym 0.17.3 has requirement pyglet<=1.5.0,>=1.4.0, but you'll have pyglet 1.3.2 which is incompatible.\n"
          ],
          "name": "stderr"
        }
      ]
    },
    {
      "cell_type": "code",
      "metadata": {
        "colab": {
          "base_uri": "https://localhost:8080/"
        },
        "id": "pPvgMLQhpnGK",
        "outputId": "578321b3-2baf-409a-a59e-9ab8fc4a6ff4"
      },
      "source": [
        "!sudo apt-get install -y xvfb ffmpeg x11-utils\n",
        "!pip install -q 'gym==0.10.11'\n",
        "!pip install -q 'imageio==2.4.0'\n",
        "!pip install -q PILLOW\n",
        "!pip install -q 'pyglet==1.3.2'\n",
        "!pip install -q pyvirtualdisplay"
      ],
      "execution_count": null,
      "outputs": [
        {
          "output_type": "stream",
          "text": [
            "Reading package lists... Done\n",
            "Building dependency tree       \n",
            "Reading state information... Done\n",
            "x11-utils is already the newest version (7.7+3build1).\n",
            "ffmpeg is already the newest version (7:3.4.8-0ubuntu0.2).\n",
            "xvfb is already the newest version (2:1.19.6-1ubuntu4.8).\n",
            "0 upgraded, 0 newly installed, 0 to remove and 30 not upgraded.\n"
          ],
          "name": "stdout"
        }
      ]
    },
    {
      "cell_type": "code",
      "metadata": {
        "colab": {
          "base_uri": "https://localhost:8080/"
        },
        "id": "4uXQzqdvD97s",
        "outputId": "7a35dfb2-ee5f-4239-a213-aa3aeb54ee1b"
      },
      "source": [
        "from google.colab import drive\n",
        "drive.mount('/content/drive')"
      ],
      "execution_count": null,
      "outputs": [
        {
          "output_type": "stream",
          "text": [
            "Drive already mounted at /content/drive; to attempt to forcibly remount, call drive.mount(\"/content/drive\", force_remount=True).\n"
          ],
          "name": "stdout"
        }
      ]
    },
    {
      "cell_type": "markdown",
      "metadata": {
        "id": "r55MYL_TEJSN"
      },
      "source": [
        "FOR EMBEDDING VIDEO IN CELL"
      ]
    },
    {
      "cell_type": "code",
      "metadata": {
        "id": "sx7wisft_uiF"
      },
      "source": [
        "import base64\n",
        "import imageio\n",
        "import IPython\n",
        "import matplotlib\n",
        "import matplotlib.pyplot as plt\n",
        "import numpy as np\n",
        "import PIL.Image\n",
        "import pyvirtualdisplay\n",
        "\n",
        "\n",
        "_display = pyvirtualdisplay.Display(visible=False,  # use False with Xvfb\n",
        "                                    size=(1400, 900))\n",
        "_ = _display.start()\n",
        "def embed_mp4(filename):\n",
        "  \"\"\"Embeds an mp4 file in the notebook.\"\"\"\n",
        "  video = open(filename,'rb').read()\n",
        "  b64 = base64.b64encode(video)\n",
        "  tag = '''\n",
        "  <video width=\"640\" height=\"480\" controls>\n",
        "    <source src=\"data:video/mp4;base64,{0}\" type=\"video/mp4\">\n",
        "  Your browser does not support the video tag.\n",
        "  </video>'''.format(b64.decode())\n",
        "\n",
        "  return IPython.display.HTML(tag)"
      ],
      "execution_count": null,
      "outputs": []
    },
    {
      "cell_type": "markdown",
      "metadata": {
        "id": "0eAEIQfdEOhB"
      },
      "source": [
        "FOR RECORDING SCORES OF MODELS"
      ]
    },
    {
      "cell_type": "code",
      "metadata": {
        "id": "vwzy52Xe8GA8"
      },
      "source": [
        "from statistics import mean\n",
        "import matplotlib\n",
        "matplotlib.use('Agg')\n",
        "import matplotlib.pyplot as plt\n",
        "from collections import deque\n",
        "import os\n",
        "import csv\n",
        "import numpy as np\n",
        "\n",
        "\n",
        "class ScoreLogger:\n",
        "    def __init__(self, path, env_name):\n",
        "        \n",
        "        self.env_name = env_name\n",
        "        self.path = path\n",
        "        self.SCORES_CSV_PATH = \"{}/scores.csv\".format(self.path)\n",
        "        self.SCORES_PNG_PATH = \"{}/scores.png\".format(self.path)\n",
        "        self.SOLVED_CSV_PATH = \"{}/solved.csv\".format(self.path)\n",
        "        self.SOLVED_PNG_PATH = \"{}/solved.csv\".format(self.path)\n",
        "        self.AVERAGE_SCORE_TO_SOLVE = 195\n",
        "        self.CONSECUTIVE_RUNS_TO_SOLVE = 100\n",
        "        self.scores = deque(maxlen=self.CONSECUTIVE_RUNS_TO_SOLVE)\n",
        "        if os.path.exists(self.SCORES_PNG_PATH):\n",
        "            os.remove(self.SCORES_PNG_PATH)\n",
        "        if os.path.exists(self.SCORES_CSV_PATH):\n",
        "            os.remove(self.SCORES_CSV_PATH)\n",
        "\n",
        "    def add_score(self, score, run):\n",
        "        self._save_csv(self.SCORES_CSV_PATH, score)\n",
        "        self._save_png(input_path=self.SCORES_CSV_PATH,\n",
        "                       output_path=self.SCORES_PNG_PATH,\n",
        "                       x_label=\"runs\",\n",
        "                       y_label=\"scores\",\n",
        "                       average_of_n_last=self.CONSECUTIVE_RUNS_TO_SOLVE,\n",
        "                       show_goal=True,\n",
        "                       show_trend=True,\n",
        "                       show_legend=True)\n",
        "        self.scores.append(score)\n",
        "        mean_score = mean(self.scores)\n",
        "        print (\"Scores: (min: \" + str(min(self.scores)) + \", avg: \" + str(mean_score) + \", max: \" + str(max(self.scores)) + \")\\n\")\n",
        "        if mean_score >= self.AVERAGE_SCORE_TO_SOLVE and len(self.scores) >= self.CONSECUTIVE_RUNS_TO_SOLVE:\n",
        "            solve_score = run-self.CONSECUTIVE_RUNS_TO_SOLVE\n",
        "            print (\"Solved in \" + str(solve_score) + \" runs, \" + str(run) + \" total runs.\")\n",
        "            self._save_csv(self.SOLVED_CSV_PATH, solve_score)\n",
        "            self._save_png(input_path=self.SOLVED_CSV_PATH,\n",
        "                           output_path=self.SOLVED_PNG_PATH,\n",
        "                           x_label=\"trials\",\n",
        "                           y_label=\"steps before solve\",\n",
        "                           average_of_n_last=None,\n",
        "                           show_goal=False,\n",
        "                           show_trend=False,\n",
        "                           show_legend=False)\n",
        "            exit()\n",
        "\n",
        "    def _save_png(self, input_path, output_path, x_label, y_label, average_of_n_last, show_goal, show_trend, show_legend):\n",
        "        x = []\n",
        "        y = []\n",
        "        with open(input_path, \"r\") as scores:\n",
        "            reader = csv.reader(scores)\n",
        "            data = list(reader)\n",
        "            for i in range(0, len(data)):\n",
        "                x.append(int(i))\n",
        "                y.append(int(data[i][0]))\n",
        "\n",
        "        plt.subplots()\n",
        "        plt.plot(x, y, label=\"score per run\")\n",
        "\n",
        "        average_range = average_of_n_last if average_of_n_last is not None else len(x)\n",
        "        plt.plot(x[-average_range:], [np.mean(y[-average_range:])] * len(y[-average_range:]), linestyle=\"--\", label=\"last \" + str(average_range) + \" runs average\")\n",
        "\n",
        "        if show_goal:\n",
        "            plt.plot(x, [self.AVERAGE_SCORE_TO_SOLVE] * len(x), linestyle=\":\", label=str(self.AVERAGE_SCORE_TO_SOLVE) + \" score average goal\")\n",
        "\n",
        "        if show_trend and len(x) > 1:\n",
        "            trend_x = x[1:]\n",
        "            z = np.polyfit(np.array(trend_x), np.array(y[1:]), 1)\n",
        "            p = np.poly1d(z)\n",
        "            plt.plot(trend_x, p(trend_x), linestyle=\"-.\",  label=\"trend\")\n",
        "\n",
        "        plt.title(self.env_name)\n",
        "        plt.xlabel(x_label)\n",
        "        plt.ylabel(y_label)\n",
        "\n",
        "        if show_legend:\n",
        "            plt.legend(loc=\"upper left\")\n",
        "\n",
        "        plt.savefig(output_path, bbox_inches=\"tight\")\n",
        "        plt.close()\n",
        "\n",
        "    def _save_csv(self, path, score):\n",
        "        if not os.path.exists(path):\n",
        "            with open(path, \"w\"):\n",
        "                pass\n",
        "        scores_file = open(path, \"a\")\n",
        "        with scores_file:\n",
        "            writer = csv.writer(scores_file)\n",
        "            writer.writerow([score])"
      ],
      "execution_count": null,
      "outputs": []
    },
    {
      "cell_type": "code",
      "metadata": {
        "id": "nwNAQ5wFM1fQ"
      },
      "source": [
        ""
      ],
      "execution_count": null,
      "outputs": []
    },
    {
      "cell_type": "code",
      "metadata": {
        "id": "SHz7vIeN8Eat",
        "colab": {
          "base_uri": "https://localhost:8080/"
        },
        "outputId": "8b86980b-1009-46e7-a951-caae5cd7ae88"
      },
      "source": [
        "\n",
        "import gym\n",
        "import numpy as np\n",
        "import random\n",
        "import matplotlib.pyplot as plt\n",
        "import math\n",
        "from collections import deque\n",
        "import tensorflow as tf\n",
        "import datetime\n",
        "import time\n",
        "from tensorflow.keras.callbacks import TensorBoard\n",
        "from tensorflow.keras.layers import Layer\n",
        "from tensorflow.keras.models import Model\n",
        "class CDQN(object):\n",
        "    def __init__(self, action_size, state_size, batch_size):\n",
        "        self.action_space = action_size\n",
        "        self.learning_rate = .01\n",
        "        \n",
        "        self.opt= tf.keras.optimizers.Adam(self.learning_rate)\n",
        "        \n",
        "        self.memory = deque(maxlen=20000)\n",
        "        self.batch = batch_size\n",
        "        # Q Learning Parameters\n",
        "        self.gamma = 0.95\n",
        "        self.epsilon = 1.0\n",
        "        self.epsilon_decay = 0.9\n",
        "        self.epsilon_min = 0.01\n",
        "        self.date = datetime.datetime.now().strftime(\"%Y-%m-%d_%H-%M-%S\")\n",
        "        self.step = 0\n",
        "        self.q_network = self.make_net(state_size)\n",
        "        self.model_name = \"CDQN-{date}_{p}_ADAM_lr{lr}_g{g}_eps{ep}_epsmin{epmin}_epsd{epd}\".format(\n",
        "            date=self.date,\n",
        "            g=self.gamma, \n",
        "            lr=self.learning_rate,\n",
        "            p = self.q_network.count_params(),\n",
        "            ep=self.epsilon,\n",
        "            epmin=self.epsilon_min,\n",
        "            epd=self.epsilon_decay)\n",
        "        self.path = \"/content/drive/MyDrive/quantum_research/classical_models/\"+self.model_name+\"/\"\n",
        "    def make_net(self, state):\n",
        "        inputs = tf.keras.layers.Input(shape=(state))\n",
        "        x = tf.keras.layers.Dense(8, activation='relu', name='dense1')(inputs)\n",
        "        # x = tf.keras.layers.Dense(4*8, activation='relu', name='dense2')(inputs)\n",
        "        # x = tf.keras.layers.Dense(4*8, activation='relu', name='dense3')(x)\n",
        "        x = tf.keras.layers.Dense(self.action_space, name='output')(x)\n",
        "        model = tf.keras.models.Model(inputs=inputs, outputs=x)\n",
        "        model.compile(optimizer=self.opt, loss='mse', metrics=['mae', \"accuracy\", \"mse\"])\n",
        "        return model\n",
        "\n",
        "    def remember(self, state, action, reward, next_state, done):\n",
        "        self.memory.append((state, action, reward, next_state, done))\n",
        "\n",
        "    def get_action(self, obs):\n",
        "        if random.random() < self.epsilon: \n",
        "            return np.random.choice(self.action_space)\n",
        "        else:\n",
        "            return np.argmax(self.q_network.predict(np.array([obs,]))[0])\n",
        "\n",
        "    def train(self):\n",
        "        minibatch = random.sample(self.memory, self.batch)\n",
        "      \n",
        "        for state, action, reward, next_state, done in minibatch:\n",
        "            state = np.array([state,])\n",
        "            next_state = np.array([next_state,])\n",
        "            target_f = self.q_network.predict(state)[0]\n",
        "            if done:\n",
        "                target_f[action] = reward\n",
        "            else:\n",
        "                q_pred = np.amax(self.q_network.predict(next_state)[0])\n",
        "                target_f[action] = reward + self.gamma*q_pred\n",
        "            target_f = np.array([target_f,])\n",
        "            history = self.q_network.fit(state, target_f, epochs=1, verbose=0,shuffle=False)\n",
        "                         \n",
        "        if self.epsilon > self.epsilon_min:\n",
        "            self.epsilon *= self.epsilon_decay\n",
        "        return history\n",
        "# Hyperparameters\n",
        "import os.path\n",
        "from os import path\n",
        "def make_path(p, d):\n",
        "  print(\"Checking if {} exists...\".format(p+d))\n",
        "  if path.exists(p+d) == False:\n",
        "    print(\"making... new directory\")\n",
        "    os.mkdir(p+str(d))\n",
        "  print(\"finished!\")\n",
        "  print(p+str(d))\n",
        "  return p+str(d)\n",
        "ITERATIONS = 100\n",
        "batch_size = 32\n",
        "windows = 0\n",
        "rolling_avg = 50\n",
        "learn_delay = 1000\n",
        "import time\n",
        "# This is the standard stuff for Open AI Gym. Be sure to check out their docs if you need more help.\n",
        "env = gym.make(\"CartPole-v1\")\n",
        "'''env.observation_space.shape'''\n",
        "agent = CDQN(env.action_space.n, env.observation_space.shape, batch_size)\n",
        "\n",
        "\n",
        "\n",
        "\n",
        "# Uncomment the line before to load model\n",
        "#agent.q_network = tf.keras.models.load_model(\"weight.h5\")\n",
        "rewards = []\n",
        "LOSSES = []\n",
        "AVERAGE_LOSSES = deque(maxlen=ITERATIONS)\n",
        "cur_loss = 1\n",
        "avg_reward = deque(maxlen=ITERATIONS)\n",
        "\n",
        "best_avg_reward = avg = -math.inf\n",
        "rs = deque(maxlen=rolling_avg)\n",
        "master_path = make_path(\"/content/drive/MyDrive/quantum_research/classical_models/\", agent.model_name)\n",
        "score_logger = ScoreLogger(path=master_path, env_name=\"CartPole-v1\")\n",
        "video_filename = \"{}.mp4\".format(master_path+\"/training_video\")\n",
        "epi_times = []\n",
        "start_time = time.time()\n",
        "\n",
        "with imageio.get_writer(video_filename, fps=30) as video:\n",
        "  start_time = time.time()\n",
        "  for i in range(ITERATIONS):\n",
        "      s1 = env.reset()\n",
        "      EPISODE_LOSSES = []\n",
        "      epi_start = time.time()\n",
        "      video.append_data(env.render(mode=\"rgb_array\"))\n",
        "      total_reward = 0\n",
        "      done = False\n",
        "      step = 0\n",
        "      while not done:\n",
        "          step +=1\n",
        "          action = agent.get_action(s1)\n",
        "          s2, reward, done, info = env.step(action)\n",
        "          total_reward += reward\n",
        "          agent.remember(s1, action, reward, s2, done)\n",
        "          video.append_data(env.render(mode=\"rgb_array\"))\n",
        "          if len(agent.memory) > learn_delay and done:\n",
        "              history = agent.train()   \n",
        "              EPISODE_LOSSES.append( history.history[\"loss\"][0])\n",
        "          if done:\n",
        "              rewards.append(total_reward)\n",
        "              rs.append(total_reward)\n",
        "              score_logger.add_score(step, i)\n",
        "          else:\n",
        "              s1 = s2\n",
        "      \n",
        "      avg = np.mean(rs)\n",
        "      avg_reward.append(avg)\n",
        "      if len(EPISODE_LOSSES)>0:\n",
        "        EPISODE_LOSSES= np.asarray(EPISODE_LOSSES)\n",
        "        AVERAGE_EPISODE_LOSS = np.mean(EPISODE_LOSSES)\n",
        "        LOSSES.append(AVERAGE_EPISODE_LOSS)\n",
        "        cur_loss = AVERAGE_EPISODE_LOSS\n",
        "      else:\n",
        "        LOSSES.append(cur_loss)\n",
        "      if avg > best_avg_reward:\n",
        "          best_avg_reward = avg\n",
        "          \n",
        "          weight_name = \"{h}/model.h5\".format(h = master_path)\n",
        "          \n",
        "          agent.q_network.save(weight_name)\n",
        "      # else: \n",
        "      #     avg_reward.append(0)\n",
        "      epi_end = time.time() -epi_start\n",
        "      epi_times.append(epi_end)\n",
        "      print(\"\\rEpisode {}/{} || Best average reward {}, Current Iteration Reward {}, Current Runtime {}\".format(i, ITERATIONS, best_avg_reward, total_reward, epi_end) , end='', flush=True)\n",
        "  print(\"total runtime:\", time.time()-start_time)\n",
        "  reward_file = \"{h}/rewards\".format(h = master_path)\n",
        "  average_file = \"{h}/averages\".format(h=master_path)\n",
        "  times_file = \"{h}/times\".format(h=master_path)\n",
        "  loss_file = \"{h}/loss\".format(h=master_path)\n",
        "  np.save(reward_file , np.asarray(rewards))\n",
        "  np.save(average_file , np.asarray(avg_reward))\n",
        "  np.save(times_file , np.asarray(epi_times))\n",
        "  np.save(loss_file , np.asarray(LOSSES))\n",
        "  \n"
      ],
      "execution_count": null,
      "outputs": [
        {
          "output_type": "stream",
          "text": [
            "WARNING:root:IMAGEIO FFMPEG_WRITER WARNING: input image is not divisible by macro_block_size=16, resizing from (400, 600) to (400, 608) to ensure video compatibility with most codecs and players. To prevent resizing, make your input image divisible by the macro_block_size or set the macro_block_size to None (risking incompatibility). You may also see a FFMPEG warning concerning speedloss due to data not being aligned.\n"
          ],
          "name": "stderr"
        },
        {
          "output_type": "stream",
          "text": [
            "Checking if /content/drive/MyDrive/quantum_research/classical_models/CDQN-2021-03-30_20-11-12_58_ADAM_lr0.01_g0.95_eps1.0_epsmin0.01_epsd0.9 exists...\n",
            "making... new directory\n",
            "finished!\n",
            "/content/drive/MyDrive/quantum_research/classical_models/CDQN-2021-03-30_20-11-12_58_ADAM_lr0.01_g0.95_eps1.0_epsmin0.01_epsd0.9\n",
            "Scores: (min: 18, avg: 18, max: 18)\n",
            "\n",
            "Episode 0/100 || Best average reward 18.0, Current Iteration Reward 18.0, Current Runtime 0.7316668033599854"
          ],
          "name": "stdout"
        },
        {
          "output_type": "stream",
          "text": [
            "/usr/local/lib/python3.7/dist-packages/ipykernel_launcher.py:37: RankWarning: Polyfit may be poorly conditioned\n"
          ],
          "name": "stderr"
        },
        {
          "output_type": "stream",
          "text": [
            "Scores: (min: 18, avg: 28.5, max: 39)\n",
            "\n",
            "Episode 1/100 || Best average reward 28.5, Current Iteration Reward 39.0, Current Runtime 0.7750844955444336Scores: (min: 18, avg: 27.333333333333332, max: 39)\n",
            "\n",
            "Episode 2/100 || Best average reward 28.5, Current Iteration Reward 25.0, Current Runtime 0.6103861331939697Scores: (min: 18, avg: 28.5, max: 39)\n",
            "\n",
            "Episode 3/100 || Best average reward 28.5, Current Iteration Reward 32.0, Current Runtime 0.6512999534606934Scores: (min: 18, avg: 28.8, max: 39)\n",
            "\n",
            "Episode 4/100 || Best average reward 28.8, Current Iteration Reward 30.0, Current Runtime 0.6742379665374756Scores: (min: 18, avg: 27.5, max: 39)\n",
            "\n",
            "Episode 5/100 || Best average reward 28.8, Current Iteration Reward 21.0, Current Runtime 0.5502405166625977Scores: (min: 17, avg: 26, max: 39)\n",
            "\n",
            "Episode 6/100 || Best average reward 28.8, Current Iteration Reward 17.0, Current Runtime 0.4719529151916504Scores: (min: 10, avg: 24, max: 39)\n",
            "\n",
            "Episode 7/100 || Best average reward 28.8, Current Iteration Reward 10.0, Current Runtime 0.4503593444824219Scores: (min: 10, avg: 23.22222222222222, max: 39)\n",
            "\n",
            "Episode 8/100 || Best average reward 28.8, Current Iteration Reward 17.0, Current Runtime 0.49590015411376953Scores: (min: 10, avg: 22.7, max: 39)\n",
            "\n",
            "Episode 9/100 || Best average reward 28.8, Current Iteration Reward 18.0, Current Runtime 0.5156710147857666Scores: (min: 10, avg: 22.454545454545453, max: 39)\n",
            "\n",
            "Episode 10/100 || Best average reward 28.8, Current Iteration Reward 20.0, Current Runtime 0.5122354030609131Scores: (min: 10, avg: 21.666666666666668, max: 39)\n",
            "\n",
            "Episode 11/100 || Best average reward 28.8, Current Iteration Reward 13.0, Current Runtime 0.4269747734069824Scores: (min: 9, avg: 20.692307692307693, max: 39)\n",
            "\n",
            "Episode 12/100 || Best average reward 28.8, Current Iteration Reward 9.0, Current Runtime 0.396618127822876Scores: (min: 9, avg: 20.642857142857142, max: 39)\n",
            "\n",
            "Episode 13/100 || Best average reward 28.8, Current Iteration Reward 20.0, Current Runtime 0.5266060829162598Scores: (min: 9, avg: 22.066666666666666, max: 42)\n",
            "\n",
            "Episode 14/100 || Best average reward 28.8, Current Iteration Reward 42.0, Current Runtime 0.7843899726867676Scores: (min: 9, avg: 22.3125, max: 42)\n",
            "\n",
            "Episode 15/100 || Best average reward 28.8, Current Iteration Reward 26.0, Current Runtime 0.6471924781799316Scores: (min: 9, avg: 22.529411764705884, max: 42)\n",
            "\n",
            "Episode 16/100 || Best average reward 28.8, Current Iteration Reward 26.0, Current Runtime 0.6550064086914062Scores: (min: 9, avg: 22.72222222222222, max: 42)\n",
            "\n",
            "Episode 17/100 || Best average reward 28.8, Current Iteration Reward 26.0, Current Runtime 0.6803097724914551Scores: (min: 9, avg: 22.210526315789473, max: 42)\n",
            "\n",
            "Episode 18/100 || Best average reward 28.8, Current Iteration Reward 13.0, Current Runtime 0.49040865898132324Scores: (min: 9, avg: 21.75, max: 42)\n",
            "\n",
            "Episode 19/100 || Best average reward 28.8, Current Iteration Reward 13.0, Current Runtime 0.5284421443939209Scores: (min: 9, avg: 21.523809523809526, max: 42)\n",
            "\n",
            "Episode 20/100 || Best average reward 28.8, Current Iteration Reward 17.0, Current Runtime 0.5503501892089844Scores: (min: 9, avg: 22.59090909090909, max: 45)\n",
            "\n",
            "Episode 21/100 || Best average reward 28.8, Current Iteration Reward 45.0, Current Runtime 0.8810911178588867Scores: (min: 9, avg: 22.652173913043477, max: 45)\n",
            "\n",
            "Episode 22/100 || Best average reward 28.8, Current Iteration Reward 24.0, Current Runtime 0.6001741886138916Scores: (min: 9, avg: 22.75, max: 45)\n",
            "\n",
            "Episode 23/100 || Best average reward 28.8, Current Iteration Reward 25.0, Current Runtime 0.6318113803863525Scores: (min: 9, avg: 22.68, max: 45)\n",
            "\n",
            "Episode 24/100 || Best average reward 28.8, Current Iteration Reward 21.0, Current Runtime 0.5992803573608398Scores: (min: 9, avg: 22.923076923076923, max: 45)\n",
            "\n",
            "Episode 25/100 || Best average reward 28.8, Current Iteration Reward 29.0, Current Runtime 0.6387419700622559Scores: (min: 9, avg: 22.62962962962963, max: 45)\n",
            "\n",
            "Episode 26/100 || Best average reward 28.8, Current Iteration Reward 15.0, Current Runtime 0.4641125202178955Scores: (min: 9, avg: 22.821428571428573, max: 45)\n",
            "\n",
            "Episode 27/100 || Best average reward 28.8, Current Iteration Reward 28.0, Current Runtime 0.6053981781005859Scores: (min: 9, avg: 22.379310344827587, max: 45)\n",
            "\n",
            "Episode 28/100 || Best average reward 28.8, Current Iteration Reward 10.0, Current Runtime 0.4119117259979248Scores: (min: 9, avg: 22.133333333333333, max: 45)\n",
            "\n",
            "Episode 29/100 || Best average reward 28.8, Current Iteration Reward 15.0, Current Runtime 0.49365782737731934Scores: (min: 9, avg: 22.387096774193548, max: 45)\n",
            "\n",
            "Episode 30/100 || Best average reward 28.8, Current Iteration Reward 30.0, Current Runtime 0.6407499313354492Scores: (min: 9, avg: 22.53125, max: 45)\n",
            "\n",
            "Episode 31/100 || Best average reward 28.8, Current Iteration Reward 27.0, Current Runtime 1.1975538730621338Scores: (min: 9, avg: 22.242424242424242, max: 45)\n",
            "\n",
            "Episode 32/100 || Best average reward 28.8, Current Iteration Reward 13.0, Current Runtime 0.444385290145874Scores: (min: 9, avg: 22.352941176470587, max: 45)\n",
            "\n",
            "Episode 33/100 || Best average reward 28.8, Current Iteration Reward 26.0, Current Runtime 0.6205029487609863Scores: (min: 9, avg: 22.514285714285716, max: 45)\n",
            "\n",
            "Episode 34/100 || Best average reward 28.8, Current Iteration Reward 28.0, Current Runtime 0.6334793567657471Scores: (min: 9, avg: 22.416666666666668, max: 45)\n",
            "\n",
            "Episode 35/100 || Best average reward 28.8, Current Iteration Reward 19.0, Current Runtime 0.563931941986084Scores: (min: 9, avg: 22.486486486486488, max: 45)\n",
            "\n",
            "Episode 36/100 || Best average reward 28.8, Current Iteration Reward 25.0, Current Runtime 0.5873477458953857Scores: (min: 9, avg: 22.44736842105263, max: 45)\n",
            "\n",
            "Episode 37/100 || Best average reward 28.8, Current Iteration Reward 21.0, Current Runtime 0.5434632301330566Scores: (min: 9, avg: 22.256410256410255, max: 45)\n",
            "\n",
            "Episode 38/100 || Best average reward 28.8, Current Iteration Reward 15.0, Current Runtime 0.4745185375213623Scores: (min: 9, avg: 22.8, max: 45)\n",
            "\n",
            "Episode 39/100 || Best average reward 28.8, Current Iteration Reward 44.0, Current Runtime 0.8232131004333496Scores: (min: 9, avg: 22.536585365853657, max: 45)\n",
            "\n",
            "Episode 40/100 || Best average reward 28.8, Current Iteration Reward 12.0, Current Runtime 0.4455888271331787Scores: (min: 9, avg: 23.023809523809526, max: 45)\n",
            "\n",
            "Episode 41/100 || Best average reward 28.8, Current Iteration Reward 43.0, Current Runtime 0.7729365825653076Scores: (min: 9, avg: 22.953488372093023, max: 45)\n",
            "\n",
            "Episode 42/100 || Best average reward 28.8, Current Iteration Reward 20.0, Current Runtime 0.5113258361816406Scores: (min: 9, avg: 22.90909090909091, max: 45)\n",
            "\n",
            "Episode 43/100 || Best average reward 28.8, Current Iteration Reward 21.0, Current Runtime 1.0095181465148926Scores: (min: 9, avg: 22.8, max: 45)\n",
            "\n",
            "Episode 44/100 || Best average reward 28.8, Current Iteration Reward 18.0, Current Runtime 0.7199959754943848Scores: (min: 9, avg: 22.58695652173913, max: 45)\n",
            "\n",
            "Episode 45/100 || Best average reward 28.8, Current Iteration Reward 13.0, Current Runtime 0.687720537185669Scores: (min: 9, avg: 22.340425531914892, max: 45)\n",
            "\n",
            "Episode 46/100 || Best average reward 28.8, Current Iteration Reward 11.0, Current Runtime 0.6625103950500488Scores: (min: 9, avg: 22.166666666666668, max: 45)\n",
            "\n",
            "Episode 47/100 || Best average reward 28.8, Current Iteration Reward 14.0, Current Runtime 0.7009038925170898Scores: (min: 9, avg: 22.040816326530614, max: 45)\n",
            "\n",
            "Episode 48/100 || Best average reward 28.8, Current Iteration Reward 16.0, Current Runtime 0.7458608150482178Scores: (min: 9, avg: 22.34, max: 45)\n",
            "\n",
            "Episode 49/100 || Best average reward 28.8, Current Iteration Reward 37.0, Current Runtime 1.0295956134796143Scores: (min: 9, avg: 22.235294117647058, max: 45)\n",
            "\n",
            "Episode 50/100 || Best average reward 28.8, Current Iteration Reward 17.0, Current Runtime 0.8070259094238281Scores: (min: 9, avg: 22.076923076923077, max: 45)\n",
            "\n",
            "Episode 51/100 || Best average reward 28.8, Current Iteration Reward 14.0, Current Runtime 0.8061747550964355Scores: (min: 9, avg: 21.943396226415093, max: 45)\n",
            "\n",
            "Episode 52/100 || Best average reward 28.8, Current Iteration Reward 15.0, Current Runtime 0.8769271373748779Scores: (min: 9, avg: 21.75925925925926, max: 45)\n",
            "\n",
            "Episode 53/100 || Best average reward 28.8, Current Iteration Reward 12.0, Current Runtime 0.8313343524932861Scores: (min: 9, avg: 21.545454545454547, max: 45)\n",
            "\n",
            "Episode 54/100 || Best average reward 28.8, Current Iteration Reward 10.0, Current Runtime 0.7998170852661133Scores: (min: 9, avg: 21.357142857142858, max: 45)\n",
            "\n",
            "Episode 55/100 || Best average reward 28.8, Current Iteration Reward 11.0, Current Runtime 0.8173019886016846Scores: (min: 9, avg: 21.385964912280702, max: 45)\n",
            "\n",
            "Episode 56/100 || Best average reward 28.8, Current Iteration Reward 23.0, Current Runtime 0.9873495101928711Scores: (min: 9, avg: 21.224137931034484, max: 45)\n",
            "\n",
            "Episode 57/100 || Best average reward 28.8, Current Iteration Reward 12.0, Current Runtime 0.7600648403167725Scores: (min: 8, avg: 21, max: 45)\n",
            "\n",
            "Episode 58/100 || Best average reward 28.8, Current Iteration Reward 8.0, Current Runtime 0.7087268829345703Scores: (min: 8, avg: 20.816666666666666, max: 45)\n",
            "\n",
            "Episode 59/100 || Best average reward 28.8, Current Iteration Reward 10.0, Current Runtime 0.7523837089538574Scores: (min: 8, avg: 20.639344262295083, max: 45)\n",
            "\n",
            "Episode 60/100 || Best average reward 28.8, Current Iteration Reward 10.0, Current Runtime 0.7664244174957275Scores: (min: 8, avg: 20.467741935483872, max: 45)\n",
            "\n",
            "Episode 61/100 || Best average reward 28.8, Current Iteration Reward 10.0, Current Runtime 0.9695098400115967Scores: (min: 8, avg: 20.285714285714285, max: 45)\n",
            "\n",
            "Episode 62/100 || Best average reward 28.8, Current Iteration Reward 9.0, Current Runtime 0.6618003845214844Scores: (min: 8, avg: 20.125, max: 45)\n",
            "\n",
            "Episode 63/100 || Best average reward 28.8, Current Iteration Reward 10.0, Current Runtime 0.6864492893218994Scores: (min: 8, avg: 19.984615384615385, max: 45)\n",
            "\n",
            "Episode 64/100 || Best average reward 28.8, Current Iteration Reward 11.0, Current Runtime 0.6841459274291992Scores: (min: 8, avg: 19.848484848484848, max: 45)\n",
            "\n",
            "Episode 65/100 || Best average reward 28.8, Current Iteration Reward 11.0, Current Runtime 0.7184162139892578Scores: (min: 8, avg: 19.70149253731343, max: 45)\n",
            "\n",
            "Episode 66/100 || Best average reward 28.8, Current Iteration Reward 10.0, Current Runtime 0.6952805519104004Scores: (min: 8, avg: 19.544117647058822, max: 45)\n",
            "\n",
            "Episode 67/100 || Best average reward 28.8, Current Iteration Reward 9.0, Current Runtime 0.713284969329834Scores: (min: 8, avg: 19.3768115942029, max: 45)\n",
            "\n",
            "Episode 68/100 || Best average reward 28.8, Current Iteration Reward 8.0, Current Runtime 0.6804714202880859Scores: (min: 8, avg: 19.242857142857144, max: 45)\n",
            "\n",
            "Episode 69/100 || Best average reward 28.8, Current Iteration Reward 10.0, Current Runtime 0.6512773036956787Scores: (min: 8, avg: 19.098591549295776, max: 45)\n",
            "\n",
            "Episode 70/100 || Best average reward 28.8, Current Iteration Reward 9.0, Current Runtime 0.6886851787567139Scores: (min: 8, avg: 18.97222222222222, max: 45)\n",
            "\n",
            "Episode 71/100 || Best average reward 28.8, Current Iteration Reward 10.0, Current Runtime 0.6833851337432861Scores: (min: 8, avg: 18.82191780821918, max: 45)\n",
            "\n",
            "Episode 72/100 || Best average reward 28.8, Current Iteration Reward 8.0, Current Runtime 0.6442768573760986Scores: (min: 8, avg: 18.743243243243242, max: 45)\n",
            "\n",
            "Episode 73/100 || Best average reward 28.8, Current Iteration Reward 13.0, Current Runtime 0.7163329124450684Scores: (min: 8, avg: 18.64, max: 45)\n",
            "\n",
            "Episode 74/100 || Best average reward 28.8, Current Iteration Reward 11.0, Current Runtime 0.7049450874328613Scores: (min: 8, avg: 18.81578947368421, max: 45)\n",
            "\n",
            "Episode 75/100 || Best average reward 28.8, Current Iteration Reward 32.0, Current Runtime 0.9693107604980469Scores: (min: 8, avg: 18.935064935064936, max: 45)\n",
            "\n",
            "Episode 76/100 || Best average reward 28.8, Current Iteration Reward 28.0, Current Runtime 0.9117155075073242Scores: (min: 8, avg: 18.846153846153847, max: 45)\n",
            "\n",
            "Episode 77/100 || Best average reward 28.8, Current Iteration Reward 12.0, Current Runtime 0.7137546539306641Scores: (min: 8, avg: 19.10126582278481, max: 45)\n",
            "\n",
            "Episode 78/100 || Best average reward 28.8, Current Iteration Reward 39.0, Current Runtime 1.0587899684906006Scores: (min: 8, avg: 19, max: 45)\n",
            "\n",
            "Episode 79/100 || Best average reward 28.8, Current Iteration Reward 11.0, Current Runtime 0.6884856224060059Scores: (min: 8, avg: 18.91358024691358, max: 45)\n",
            "\n",
            "Episode 80/100 || Best average reward 28.8, Current Iteration Reward 12.0, Current Runtime 0.710491418838501Scores: (min: 8, avg: 18.829268292682926, max: 45)\n",
            "\n",
            "Episode 81/100 || Best average reward 28.8, Current Iteration Reward 12.0, Current Runtime 0.7143197059631348Scores: (min: 8, avg: 18.72289156626506, max: 45)\n",
            "\n",
            "Episode 82/100 || Best average reward 28.8, Current Iteration Reward 10.0, Current Runtime 0.6528284549713135Scores: (min: 8, avg: 18.61904761904762, max: 45)\n",
            "\n",
            "Episode 83/100 || Best average reward 28.8, Current Iteration Reward 10.0, Current Runtime 0.6775960922241211Scores: (min: 8, avg: 18.705882352941178, max: 45)\n",
            "\n",
            "Episode 84/100 || Best average reward 28.8, Current Iteration Reward 26.0, Current Runtime 0.8630256652832031Scores: (min: 8, avg: 18.686046511627907, max: 45)\n",
            "\n",
            "Episode 85/100 || Best average reward 28.8, Current Iteration Reward 17.0, Current Runtime 0.7606995105743408Scores: (min: 8, avg: 18.735632183908045, max: 45)\n",
            "\n",
            "Episode 86/100 || Best average reward 28.8, Current Iteration Reward 23.0, Current Runtime 0.8017632961273193Scores: (min: 8, avg: 18.625, max: 45)\n",
            "\n",
            "Episode 87/100 || Best average reward 28.8, Current Iteration Reward 9.0, Current Runtime 0.6450192928314209Scores: (min: 8, avg: 18.51685393258427, max: 45)\n",
            "\n",
            "Episode 88/100 || Best average reward 28.8, Current Iteration Reward 9.0, Current Runtime 0.643378734588623Scores: (min: 8, avg: 18.42222222222222, max: 45)\n",
            "\n",
            "Episode 89/100 || Best average reward 28.8, Current Iteration Reward 10.0, Current Runtime 0.654822826385498Scores: (min: 8, avg: 18.384615384615383, max: 45)\n",
            "\n",
            "Episode 90/100 || Best average reward 28.8, Current Iteration Reward 15.0, Current Runtime 0.7177879810333252Scores: (min: 8, avg: 18.51086956521739, max: 45)\n",
            "\n",
            "Episode 91/100 || Best average reward 28.8, Current Iteration Reward 30.0, Current Runtime 0.9187061786651611Scores: (min: 8, avg: 18.408602150537636, max: 45)\n",
            "\n",
            "Episode 92/100 || Best average reward 28.8, Current Iteration Reward 9.0, Current Runtime 0.6425447463989258Scores: (min: 8, avg: 18.319148936170212, max: 45)\n",
            "\n",
            "Episode 93/100 || Best average reward 28.8, Current Iteration Reward 10.0, Current Runtime 0.6730380058288574Scores: (min: 8, avg: 18.642105263157895, max: 49)\n",
            "\n",
            "Episode 94/100 || Best average reward 28.8, Current Iteration Reward 49.0, Current Runtime 1.134824514389038Scores: (min: 8, avg: 18.635416666666668, max: 49)\n",
            "\n",
            "Episode 95/100 || Best average reward 28.8, Current Iteration Reward 18.0, Current Runtime 0.7724590301513672Scores: (min: 8, avg: 18.63917525773196, max: 49)\n",
            "\n",
            "Episode 96/100 || Best average reward 28.8, Current Iteration Reward 19.0, Current Runtime 0.7799715995788574Scores: (min: 8, avg: 18.642857142857142, max: 49)\n",
            "\n",
            "Episode 97/100 || Best average reward 28.8, Current Iteration Reward 19.0, Current Runtime 0.7992148399353027Scores: (min: 8, avg: 18.616161616161616, max: 49)\n",
            "\n",
            "Episode 98/100 || Best average reward 28.8, Current Iteration Reward 16.0, Current Runtime 1.0497291088104248Scores: (min: 8, avg: 18.54, max: 49)\n",
            "\n",
            "Episode 99/100 || Best average reward 28.8, Current Iteration Reward 11.0, Current Runtime 0.6771421432495117total runtime: 69.91176843643188\n"
          ],
          "name": "stdout"
        }
      ]
    },
    {
      "cell_type": "code",
      "metadata": {
        "id": "Nj9rxFkCv2Oi"
      },
      "source": [
        "c1_r = rewards\n",
        "c1_ar = avg_reward\n",
        "c1_t = epi_times\n",
        "c1_l = LOSSES"
      ],
      "execution_count": null,
      "outputs": []
    },
    {
      "cell_type": "code",
      "metadata": {
        "colab": {
          "base_uri": "https://localhost:8080/",
          "height": 283
        },
        "id": "10lND0KKmXVU",
        "outputId": "59bdff92-b407-41f7-f14c-2058ec25f495"
      },
      "source": [
        "import importlib\n",
        "matplotlib.use('TkAgg')\n",
        "matplotlib = importlib.reload(matplotlib)\n",
        "%matplotlib inline\n",
        "plt.ylim(0, 100)\n",
        "plt.plot(c1_l, color='red', alpha=0.2, label='Classic Reward')\n",
        "# plt.plot(c1_ar, color='red', label='Classic Average')\n",
        "# plt.plot(q_rewards, color='blue', alpha=0.2, label='Quantum Reward')\n",
        "# plt.plot(q_avg_reward, color='blue', label='Quantum Average')\n",
        "plt.legend()\n",
        "plt.ylabel('Reward')\n",
        "plt.xlabel('Iteration')\n",
        "plt.show()"
      ],
      "execution_count": null,
      "outputs": [
        {
          "output_type": "display_data",
          "data": {
            "image/png": "[encoded data removed]",
            "text/plain": [
              "<Figure size 432x288 with 1 Axes>"
            ]
          },
          "metadata": {
            "tags": [],
            "needs_background": "light"
          }
        }
      ]
    },
    {
      "cell_type": "code",
      "metadata": {
        "id": "d8qWqcGcYPJt"
      },
      "source": [
        ""
      ],
      "execution_count": null,
      "outputs": []
    },
    {
      "cell_type": "code",
      "metadata": {
        "id": "E2oHmRXdSlRa",
        "colab": {
          "base_uri": "https://localhost:8080/",
          "height": 283
        },
        "outputId": "08b859c6-d217-4a90-d1e0-25973cec39ae"
      },
      "source": [
        "plt.ylim(0, 25)\n",
        "plt.plot(c1_t, color='red', label='Classic Average')\n",
        "plt.legend()\n",
        "plt.ylabel('Time')\n",
        "plt.xlabel('Iteration')\n",
        "plt.show()"
      ],
      "execution_count": null,
      "outputs": [
        {
          "output_type": "display_data",
          "data": {
            "image/png": "[encoded data removed]",
            "text/plain": [
              "<Figure size 432x288 with 1 Axes>"
            ]
          },
          "metadata": {
            "tags": [],
            "needs_background": "light"
          }
        }
      ]
    },
    {
      "cell_type": "code",
      "metadata": {
        "id": "B1ojBWyL1_sd"
      },
      "source": [
        "plt.ylim(0, 200)\n",
        "plt.plot(c1_r, color='red', alpha=0.2, label='Classic Reward')\n",
        "plt.plot(c1_ar, color='red', label='Classic Average')\n",
        "# plt.plot(q_rewards, color='blue', alpha=0.2, label='Quantum Reward')\n",
        "# plt.plot(q_avg_reward, color='blue', label='Quantum Average')\n",
        "plt.legend()\n",
        "plt.ylabel('Reward')\n",
        "plt.xlabel('Iteration')\n",
        "plt.show()"
      ],
      "execution_count": null,
      "outputs": []
    },
    {
      "cell_type": "markdown",
      "metadata": {
        "id": "JHJFXnOoFMm6"
      },
      "source": [
        "Quantum DQN with adjustable number of qubits\n"
      ]
    },
    {
      "cell_type": "code",
      "metadata": {
        "id": "qSJ5uaUFD4T3",
        "colab": {
          "base_uri": "https://localhost:8080/",
          "height": 1000
        },
        "outputId": "56bd9e7f-1b4a-481b-acbe-baac98a61283"
      },
      "source": [
        "import gym\n",
        "import numpy as np\n",
        "import random\n",
        "import matplotlib.pyplot as plt\n",
        "import math\n",
        "from collections import deque\n",
        "import tensorflow as tf\n",
        "import tensorflow_quantum as tfq\n",
        "import cirq \n",
        "import sympy\n",
        "import time\n",
        "import datetime # https://stackoverflow.com/questions/10607688/how-to-create-a-file-name-with-the-current-date-time-in-python\n",
        "class QDQN_alt(object):\n",
        "    def __init__(self, action_space, state_space, batch, no_qubits=4) -> None:\n",
        "        super().__init__()\n",
        "        self.action_space = action_space\n",
        "        self.state_space = state_space\n",
        "        self.no_qubits = no_qubits\n",
        "        self.qubits = [cirq.GridQubit(0, i) for i in range(no_qubits)]\n",
        "        self.q_network = self.make_func_approx()\n",
        "        self.learning_rate = 0.01\n",
        "        self.opt = tf.keras.optimizers.Adam(lr=self.learning_rate)\n",
        "        self.buff = 10000\n",
        "        self.batch = batch      \n",
        "        self.states = np.zeros((self.buff, self.state_space))\n",
        "        self.actions = np.zeros((self.buff, 1))\n",
        "        self.rewards = np.zeros((self.buff, 1))\n",
        "        self.dones = np.zeros((self.buff, 1))\n",
        "        self.next_states = np.zeros((self.buff, self.state_space))\n",
        "        # Q Learning\n",
        "        self.gamma = 0.95\n",
        "        self.epsilon = 1.0\n",
        "        self.epsilon_decay = 0.9\n",
        "        self.epsilon_min = 0.01\n",
        "        self.counter = 0\n",
        "        self.model_name = \"QDQN-{date}_qbits{q}_ADAM_lr{lr}_g{g}_eps{ep}_epsmin{epmin}_epsd{epd}\".format(\n",
        "            date=datetime.datetime.now().strftime(\"%Y-%m-%d__%H-%M-%S\"),\n",
        "            q=self.no_qubits,g=self.gamma, \n",
        "            lr=self.learning_rate,\n",
        "            ep=self.epsilon,\n",
        "            epmin=self.epsilon_min,\n",
        "            epd=self.epsilon_decay)\n",
        "\n",
        "    def make_func_approx(self):\n",
        "        readout_operators = [cirq.Z(self.qubits[i]) for i in range(2,4)]\n",
        "        inputs = tf.keras.Input(shape=(), dtype=tf.dtypes.string)\n",
        "        diff = tfq.differentiators.ParameterShift()\n",
        "        init = tf.keras.initializers.Zeros\n",
        "        pqc = tfq.layers.PQC(self.make_circuit(self.qubits), readout_operators, differentiator=diff, initializer=init)(inputs)\n",
        "        model = tf.keras.Model(inputs=inputs, outputs=pqc)\n",
        "        return model\n",
        "\n",
        "    def convert_data(self, classical_data, flag=True):\n",
        "        ops = cirq.Circuit()\n",
        "        for i, ang in enumerate(classical_data):\n",
        "            ang = 0 if ang < 0 else 1\n",
        "            ops.append(cirq.rx(np.pi * ang).on(self.qubits[i]))\n",
        "            ops.append(cirq.rz(np.pi * ang).on(self.qubits[i]))\n",
        "        if flag:\n",
        "            return tfq.convert_to_tensor([ops])\n",
        "        else:\n",
        "            return ops\n",
        "\n",
        "    def one_qubit_unitary(self, bit, symbols):\n",
        "        return cirq.Circuit(\n",
        "            cirq.X(bit)**symbols[0],\n",
        "            cirq.Y(bit)**symbols[1],\n",
        "            cirq.Z(bit)**symbols[2])\n",
        "\n",
        "    def two_qubit_pool(self, source_qubit, sink_qubit, symbols):\n",
        "        pool_circuit = cirq.Circuit()\n",
        "        sink_basis_selector = self.one_qubit_unitary(sink_qubit, symbols[0:3])\n",
        "        source_basis_selector = self.one_qubit_unitary(source_qubit, symbols[3:6])\n",
        "        pool_circuit.append(sink_basis_selector)\n",
        "        pool_circuit.append(source_basis_selector)\n",
        "        pool_circuit.append(cirq.CNOT(control=source_qubit, target=sink_qubit))\n",
        "        pool_circuit.append(sink_basis_selector**-1)\n",
        "        return pool_circuit\n",
        "\n",
        "    def make_circuit(self, qubits):\n",
        "        m = cirq.Circuit()\n",
        "        no_vars = self.no_qubits*3*3 + 2*6\n",
        "        \n",
        "        no_vars_str = \"q0:\"+str(no_vars)\n",
        "        print(no_vars_str)\n",
        "        symbols = sympy.symbols(no_vars_str) # 4 qubits * 3 weights per bit * 3 layers + 2 * 6 pooling = 36 + 12 = 48\n",
        "        \n",
        "        m += self.layer(symbols[:3*self.no_qubits], qubits)\n",
        "        m += self.layer(symbols[3*self.no_qubits:2*3*self.no_qubits], qubits)\n",
        "        m += self.layer(symbols[2*3*self.no_qubits:3*3*self.no_qubits], qubits)\n",
        "        print(m)\n",
        "        m += self.two_qubit_pool(self.qubits[0], self.qubits[2], symbols[3*3*self.no_qubits:3*3*self.no_qubits+6])\n",
        "        m += self.two_qubit_pool(self.qubits[1], self.qubits[3], symbols[3*3*self.no_qubits+6:])\n",
        "        return m\n",
        "    \n",
        "    def layer(self, weights, qubits):\n",
        "        l = cirq.Circuit()\n",
        "\n",
        "        for i in range(len(qubits) - 1):\n",
        "            l.append(cirq.CNOT(qubits[i], qubits[i+1]))\n",
        "        l.append([cirq.Moment([cirq.rx(weights[j]).on(qubits[j]) for j in range(self.no_qubits)])])\n",
        "        l.append([cirq.Moment([cirq.ry(weights[j + self.no_qubits]).on(qubits[j]) for j in range(self.no_qubits)])])\n",
        "        l.append([cirq.Moment([cirq.rz(weights[j + 2*self.no_qubits]).on(qubits[j]) for j in range(self.no_qubits)])])\n",
        "        return l\n",
        "    \n",
        "    def remember(self, state, action, reward, next_state, done):\n",
        "        i = self.counter % self.buff\n",
        "        self.states[i] = state\n",
        "        self.actions[i] = action\n",
        "        self.rewards[i] = reward\n",
        "        self.next_states[i] = next_state\n",
        "        self.dones[i] = int(done)\n",
        "        self.counter += 1\n",
        "\n",
        "    def get_action(self, obs):\n",
        "        if random.random() < self.epsilon: \n",
        "            return np.random.choice(self.action_space)\n",
        "        else:\n",
        "            return np.argmax(self.q_network.predict(self.convert_data(obs)))\n",
        "    def train(self):\n",
        "        batch_indices = np.random.choice(min(self.counter, self.buff), self.batch)\n",
        "        state_batch = tfq.convert_to_tensor([self.convert_data(i, False) for i in self.states[batch_indices]])\n",
        "        action_batch = tf.convert_to_tensor(self.actions[batch_indices])\n",
        "        action_batch = [[i, action_batch[i][0]] for i in range(len(action_batch))]\n",
        "        reward_batch = tf.convert_to_tensor(self.rewards[batch_indices])\n",
        "        dones_batch = tf.convert_to_tensor(self.dones[batch_indices])\n",
        "        reward_batch = tf.cast(reward_batch, dtype=tf.float32)\n",
        "        action_batch = tf.cast(action_batch, dtype=tf.int32)\n",
        "        dones_batch = tf.cast(dones_batch, dtype=tf.float32)\n",
        "        next_state_batch = tfq.convert_to_tensor([self.convert_data(i, False) for i in self.next_states[batch_indices]])\n",
        "        # loss = None\n",
        "        with tf.GradientTape() as tape:\n",
        "            next_q = self.q_network(next_state_batch)\n",
        "            y = reward_batch + (1 - dones_batch) * self.gamma * next_q\n",
        "            q_guess = self.q_network(state_batch, training=True)\n",
        "            pred = tf.gather_nd(q_guess, action_batch)\n",
        "            pred = tf.reshape(pred, [self.batch, 1])\n",
        "            msbe = tf.math.reduce_mean(tf.math.square(y - pred))\n",
        "            # loss = msbe\n",
        "        grads = tape.gradient(msbe, self.q_network.trainable_variables)\n",
        "        self.opt.apply_gradients(zip(grads, self.q_network.trainable_variables))\n",
        "        if self.epsilon > self.epsilon_min:\n",
        "            self.epsilon *= self.epsilon_decay\n",
        "        # return loss\n",
        "import os.path\n",
        "from os import path\n",
        "def make_path(p, d):\n",
        "  print(\"Checking if {} exists...\".format(p+d))\n",
        "  if path.exists(p+d) == False:\n",
        "    print(\"making... new directory\")\n",
        "    os.mkdir(p+str(d))\n",
        "  print(\"finished!\")\n",
        "  print(p+str(d))\n",
        "  return p+str(d)\n",
        "\n",
        "iterations = 60\n",
        "rolling_avg = 50\n",
        "learn_delay=1000\n",
        "LOSSES = []\n",
        "AVERAGE_LOSSES = deque(maxlen=ITERATIONS)\n",
        "cur_loss = 1\n",
        "env = gym.make(\"CartPole-v1\")\n",
        "agent = QDQN_alt(env.action_space.n, env.observation_space.shape[0], 32, 4)\n",
        "rewards = []\n",
        "avg_reward = deque(maxlen=5*iterations)\n",
        "best_avg_reward = avg = -math.inf\n",
        "rs = deque(maxlen=rolling_avg)\n",
        "master_path = make_path(\"/content/drive/MyDrive/quantum_research/quantum_models/\", agent.model_name)\n",
        "score_logger = ScoreLogger(path=master_path, env_name=\"CartPole-v1\")\n",
        "video_filename = \"{}.mp4\".format(master_path+\"/training_video\")\n",
        "epi_times=[]\n",
        "start_time = time.time()\n",
        "\n",
        "with imageio.get_writer(video_filename , fps=30) as video:\n",
        "  for i in range(iterations):\n",
        "      s1 = env.reset()\n",
        "      epi_start = time.time()\n",
        "      EPISODE_LOSSES = []\n",
        "      video.append_data(env.render(mode=\"rgb_array\"))\n",
        "      total_reward = 0\n",
        "      done = False\n",
        "      step = 0\n",
        "      while not done:\n",
        "          step+=1\n",
        "          action = agent.get_action(s1)\n",
        "          s2, reward, done, _ = env.step(action)\n",
        "          total_reward += reward\n",
        "          agent.remember(s1, action, reward, s2, done)\n",
        "          video.append_data(env.render(mode=\"rgb_array\"))\n",
        "          if agent.counter > learn_delay and done:\n",
        "              agent.train()\n",
        "              \n",
        "          if done:\n",
        "              rewards.append(total_reward)\n",
        "              rs.append(total_reward)\n",
        "              score_logger.add_score(step, i)\n",
        "          else:\n",
        "              s1 = s2\n",
        "      avg = np.mean(rs)\n",
        "      avg_reward.append(avg)\n",
        "      if len(EPISODE_LOSSES)>0:\n",
        "          EPISODE_LOSSES= np.asarray(EPISODE_LOSSES)\n",
        "          AVERAGE_EPISODE_LOSS = np.mean(EPISODE_LOSSES)\n",
        "          LOSSES.append(AVERAGE_EPISODE_LOSS)\n",
        "          cur_loss = AVERAGE_EPISODE_LOSS\n",
        "      else:\n",
        "          LOSSES.append(cur_loss)\n",
        "      if avg > best_avg_reward:\n",
        "          best_avg_reward = avg\n",
        "      epi_end = time.time() -epi_start\n",
        "      epi_times.append(epi_end)\n",
        "      print(\"\\rEpisode {}/{} || Best average reward {}, Current Avg {}, Current Iteration Reward {}, eps {}, time {}\".format(\n",
        "            i, iterations, best_avg_reward, avg, total_reward, agent.epsilon, time.time()-epi_start), end='', flush=True)\n",
        "  final_time = time.time()-start_time\n",
        "  print(\"\")\n",
        "  print(\"\\n final time:\", final_time)\n",
        "  reward_file = \"{h}/rewards\".format(h = master_path)\n",
        "  average_file = \"{h}/averages\".format(h=master_path)\n",
        "  times_file = \"{h}/times\".format(h=master_path)\n",
        "  loss_file = \"{h}/loss\".format(h=master_path)\n",
        "  np.save(reward_file , np.asarray(rewards))\n",
        "  np.save(average_file , np.asarray(avg_reward))\n",
        "  np.save(times_file , np.asarray(epi_times))\n",
        "  np.save(loss_file , np.asarray(LOSSES))\n"
      ],
      "execution_count": null,
      "outputs": [
        {
          "output_type": "stream",
          "text": [
            "q0:48\n",
            "(0, 0): ───@───────────Rx(q0)───Ry(q4)───Rz(q8)────@───────────Rx(q12)───Ry(q16)───Rz(q20)───@───────────Rx(q24)───Ry(q28)───Rz(q32)───\n",
            "           │                                       │                                         │\n",
            "(0, 1): ───X───@───────Rx(q1)───Ry(q5)───Rz(q9)────X───@───────Rx(q13)───Ry(q17)───Rz(q21)───X───@───────Rx(q25)───Ry(q29)───Rz(q33)───\n",
            "               │                                       │                                         │\n",
            "(0, 2): ───────X───@───Rx(q2)───Ry(q6)───Rz(q10)───────X───@───Rx(q14)───Ry(q18)───Rz(q22)───────X───@───Rx(q26)───Ry(q30)───Rz(q34)───\n",
            "                   │                                       │                                         │\n",
            "(0, 3): ───────────X───Rx(q3)───Ry(q7)───Rz(q11)───────────X───Rx(q15)───Ry(q19)───Rz(q23)───────────X───Rx(q27)───Ry(q31)───Rz(q35)───\n"
          ],
          "name": "stdout"
        },
        {
          "output_type": "stream",
          "text": [
            "WARNING:root:IMAGEIO FFMPEG_WRITER WARNING: input image is not divisible by macro_block_size=16, resizing from (400, 600) to (400, 608) to ensure video compatibility with most codecs and players. To prevent resizing, make your input image divisible by the macro_block_size or set the macro_block_size to None (risking incompatibility). You may also see a FFMPEG warning concerning speedloss due to data not being aligned.\n"
          ],
          "name": "stderr"
        },
        {
          "output_type": "stream",
          "text": [
            "Checking if /content/drive/MyDrive/quantum_research/quantum_models/QDQN-2021-03-30__20-25-28_qbits4_ADAM_lr0.01_g0.95_eps1.0_epsmin0.01_epsd0.9 exists...\n",
            "making... new directory\n",
            "finished!\n",
            "/content/drive/MyDrive/quantum_research/quantum_models/QDQN-2021-03-30__20-25-28_qbits4_ADAM_lr0.01_g0.95_eps1.0_epsmin0.01_epsd0.9\n",
            "Scores: (min: 16, avg: 16, max: 16)\n",
            "\n",
            "Episode 0/60 || Best average reward 16.0, Current Avg 16.0, Current Iteration Reward 16.0, eps 1.0, time 0.5954434871673584"
          ],
          "name": "stdout"
        },
        {
          "output_type": "stream",
          "text": [
            "/usr/local/lib/python3.7/dist-packages/ipykernel_launcher.py:37: RankWarning: Polyfit may be poorly conditioned\n"
          ],
          "name": "stderr"
        },
        {
          "output_type": "stream",
          "text": [
            "Scores: (min: 13, avg: 14.5, max: 16)\n",
            "\n",
            "Episode 1/60 || Best average reward 16.0, Current Avg 14.5, Current Iteration Reward 13.0, eps 1.0, time 0.4256925582885742Scores: (min: 13, avg: 17.666666666666668, max: 24)\n",
            "\n",
            "Episode 2/60 || Best average reward 17.666666666666668, Current Avg 17.666666666666668, Current Iteration Reward 24.0, eps 1.0, time 0.5670914649963379Scores: (min: 13, avg: 17.25, max: 24)\n",
            "\n",
            "Episode 3/60 || Best average reward 17.666666666666668, Current Avg 17.25, Current Iteration Reward 16.0, eps 1.0, time 0.4950137138366699Scores: (min: 13, avg: 16.4, max: 24)\n",
            "\n",
            "Episode 4/60 || Best average reward 17.666666666666668, Current Avg 16.4, Current Iteration Reward 13.0, eps 1.0, time 0.4593801498413086Scores: (min: 13, avg: 20.666666666666668, max: 42)\n",
            "\n",
            "Episode 5/60 || Best average reward 20.666666666666668, Current Avg 20.666666666666668, Current Iteration Reward 42.0, eps 1.0, time 0.7726020812988281Scores: (min: 13, avg: 20.428571428571427, max: 42)\n",
            "\n",
            "Episode 6/60 || Best average reward 20.666666666666668, Current Avg 20.428571428571427, Current Iteration Reward 19.0, eps 1.0, time 0.5143692493438721Scores: (min: 13, avg: 24.5, max: 53)\n",
            "\n",
            "Episode 7/60 || Best average reward 24.5, Current Avg 24.5, Current Iteration Reward 53.0, eps 1.0, time 0.9020557403564453Scores: (min: 13, avg: 23.333333333333332, max: 53)\n",
            "\n",
            "Episode 8/60 || Best average reward 24.5, Current Avg 23.333333333333332, Current Iteration Reward 14.0, eps 1.0, time 0.467573881149292Scores: (min: 13, avg: 24.1, max: 53)\n",
            "\n",
            "Episode 9/60 || Best average reward 24.5, Current Avg 24.1, Current Iteration Reward 31.0, eps 1.0, time 0.6685643196105957Scores: (min: 13, avg: 25.272727272727273, max: 53)\n",
            "\n",
            "Episode 10/60 || Best average reward 25.272727272727273, Current Avg 25.272727272727273, Current Iteration Reward 37.0, eps 1.0, time 0.7126166820526123Scores: (min: 13, avg: 26, max: 53)\n",
            "\n",
            "Episode 11/60 || Best average reward 26.0, Current Avg 26.0, Current Iteration Reward 34.0, eps 1.0, time 0.7143943309783936Scores: (min: 13, avg: 25.76923076923077, max: 53)\n",
            "\n",
            "Episode 12/60 || Best average reward 26.0, Current Avg 25.76923076923077, Current Iteration Reward 23.0, eps 1.0, time 0.5467312335968018Scores: (min: 13, avg: 26.071428571428573, max: 53)\n",
            "\n",
            "Episode 13/60 || Best average reward 26.071428571428573, Current Avg 26.071428571428573, Current Iteration Reward 30.0, eps 1.0, time 0.6423625946044922Scores: (min: 13, avg: 25.266666666666666, max: 53)\n",
            "\n",
            "Episode 14/60 || Best average reward 26.071428571428573, Current Avg 25.266666666666666, Current Iteration Reward 14.0, eps 1.0, time 0.46173572540283203Scores: (min: 13, avg: 25.5, max: 53)\n",
            "\n",
            "Episode 15/60 || Best average reward 26.071428571428573, Current Avg 25.5, Current Iteration Reward 29.0, eps 1.0, time 0.6471140384674072Scores: (min: 13, avg: 25, max: 53)\n",
            "\n",
            "Episode 16/60 || Best average reward 26.071428571428573, Current Avg 25.0, Current Iteration Reward 17.0, eps 1.0, time 0.5402185916900635Scores: (min: 13, avg: 27.666666666666668, max: 73)\n",
            "\n",
            "Episode 17/60 || Best average reward 27.666666666666668, Current Avg 27.666666666666668, Current Iteration Reward 73.0, eps 1.0, time 1.1549596786499023Scores: (min: 13, avg: 27.105263157894736, max: 73)\n",
            "\n",
            "Episode 18/60 || Best average reward 27.666666666666668, Current Avg 27.105263157894736, Current Iteration Reward 17.0, eps 1.0, time 0.5114884376525879Scores: (min: 13, avg: 27.7, max: 73)\n",
            "\n",
            "Episode 19/60 || Best average reward 27.7, Current Avg 27.7, Current Iteration Reward 39.0, eps 1.0, time 0.7501442432403564Scores: (min: 11, avg: 26.904761904761905, max: 73)\n",
            "\n",
            "Episode 20/60 || Best average reward 27.7, Current Avg 26.904761904761905, Current Iteration Reward 11.0, eps 1.0, time 0.41778087615966797Scores: (min: 11, avg: 27.545454545454547, max: 73)\n",
            "\n",
            "Episode 21/60 || Best average reward 27.7, Current Avg 27.545454545454547, Current Iteration Reward 41.0, eps 1.0, time 0.7479038238525391Scores: (min: 11, avg: 27.782608695652176, max: 73)\n",
            "\n",
            "Episode 22/60 || Best average reward 27.782608695652176, Current Avg 27.782608695652176, Current Iteration Reward 33.0, eps 1.0, time 0.6499407291412354Scores: (min: 11, avg: 27.5, max: 73)\n",
            "\n",
            "Episode 23/60 || Best average reward 27.782608695652176, Current Avg 27.5, Current Iteration Reward 21.0, eps 1.0, time 0.5159847736358643Scores: (min: 11, avg: 27.8, max: 73)\n",
            "\n",
            "Episode 24/60 || Best average reward 27.8, Current Avg 27.8, Current Iteration Reward 35.0, eps 1.0, time 0.6818537712097168Scores: (min: 11, avg: 28.423076923076923, max: 73)\n",
            "\n",
            "Episode 25/60 || Best average reward 28.423076923076923, Current Avg 28.423076923076923, Current Iteration Reward 44.0, eps 1.0, time 0.7807102203369141Scores: (min: 11, avg: 28.333333333333332, max: 73)\n",
            "\n",
            "Episode 26/60 || Best average reward 28.423076923076923, Current Avg 28.333333333333332, Current Iteration Reward 26.0, eps 1.0, time 0.5810596942901611Scores: (min: 11, avg: 28.321428571428573, max: 73)\n",
            "\n",
            "Episode 27/60 || Best average reward 28.423076923076923, Current Avg 28.321428571428573, Current Iteration Reward 28.0, eps 1.0, time 0.5967626571655273Scores: (min: 11, avg: 27.82758620689655, max: 73)\n",
            "\n",
            "Episode 28/60 || Best average reward 28.423076923076923, Current Avg 27.82758620689655, Current Iteration Reward 14.0, eps 1.0, time 0.4565236568450928Scores: (min: 11, avg: 27.566666666666666, max: 73)\n",
            "\n",
            "Episode 29/60 || Best average reward 28.423076923076923, Current Avg 27.566666666666666, Current Iteration Reward 20.0, eps 1.0, time 0.503014087677002Scores: (min: 11, avg: 27.161290322580644, max: 73)\n",
            "\n",
            "Episode 30/60 || Best average reward 28.423076923076923, Current Avg 27.161290322580644, Current Iteration Reward 15.0, eps 1.0, time 0.46978068351745605Scores: (min: 11, avg: 26.6875, max: 73)\n",
            "\n",
            "Episode 31/60 || Best average reward 28.423076923076923, Current Avg 26.6875, Current Iteration Reward 12.0, eps 1.0, time 0.4272737503051758Scores: (min: 11, avg: 26.393939393939394, max: 73)\n",
            "\n",
            "Episode 32/60 || Best average reward 28.423076923076923, Current Avg 26.393939393939394, Current Iteration Reward 17.0, eps 1.0, time 0.5090258121490479Scores: (min: 11, avg: 26.38235294117647, max: 73)\n",
            "\n",
            "Episode 33/60 || Best average reward 28.423076923076923, Current Avg 26.38235294117647, Current Iteration Reward 26.0, eps 1.0, time 0.5814800262451172Scores: (min: 10, avg: 25.914285714285715, max: 73)\n",
            "\n",
            "Episode 34/60 || Best average reward 28.423076923076923, Current Avg 25.914285714285715, Current Iteration Reward 10.0, eps 1.0, time 0.81634521484375Scores: (min: 10, avg: 25.61111111111111, max: 73)\n",
            "\n",
            "Episode 35/60 || Best average reward 28.423076923076923, Current Avg 25.61111111111111, Current Iteration Reward 15.0, eps 1.0, time 0.46532225608825684Scores: (min: 10, avg: 25.35135135135135, max: 73)\n",
            "\n",
            "Episode 36/60 || Best average reward 28.423076923076923, Current Avg 25.35135135135135, Current Iteration Reward 16.0, eps 1.0, time 0.49707555770874023Scores: (min: 10, avg: 25.026315789473685, max: 73)\n",
            "\n",
            "Episode 37/60 || Best average reward 28.423076923076923, Current Avg 25.026315789473685, Current Iteration Reward 13.0, eps 1.0, time 0.4630253314971924Scores: (min: 10, avg: 25.076923076923077, max: 73)\n",
            "\n",
            "Episode 38/60 || Best average reward 28.423076923076923, Current Avg 25.076923076923077, Current Iteration Reward 27.0, eps 1.0, time 0.6134133338928223"
          ],
          "name": "stdout"
        },
        {
          "output_type": "error",
          "ename": "TypeError",
          "evalue": "ignored",
          "traceback": [
            "\u001b[0;31m---------------------------------------------------------------------------\u001b[0m",
            "\u001b[0;31mTypeError\u001b[0m                                 Traceback (most recent call last)",
            "\u001b[0;32m<ipython-input-31-dfe281d60786>\u001b[0m in \u001b[0;36m<module>\u001b[0;34m()\u001b[0m\n\u001b[1;32m    189\u001b[0m           \u001b[0mvideo\u001b[0m\u001b[0;34m.\u001b[0m\u001b[0mappend_data\u001b[0m\u001b[0;34m(\u001b[0m\u001b[0menv\u001b[0m\u001b[0;34m.\u001b[0m\u001b[0mrender\u001b[0m\u001b[0;34m(\u001b[0m\u001b[0mmode\u001b[0m\u001b[0;34m=\u001b[0m\u001b[0;34m\"rgb_array\"\u001b[0m\u001b[0;34m)\u001b[0m\u001b[0;34m)\u001b[0m\u001b[0;34m\u001b[0m\u001b[0;34m\u001b[0m\u001b[0m\n\u001b[1;32m    190\u001b[0m           \u001b[0;32mif\u001b[0m \u001b[0magent\u001b[0m\u001b[0;34m.\u001b[0m\u001b[0mcounter\u001b[0m \u001b[0;34m>\u001b[0m \u001b[0mlearn_delay\u001b[0m \u001b[0;32mand\u001b[0m \u001b[0mdone\u001b[0m\u001b[0;34m:\u001b[0m\u001b[0;34m\u001b[0m\u001b[0;34m\u001b[0m\u001b[0m\n\u001b[0;32m--> 191\u001b[0;31m               \u001b[0mloss\u001b[0m \u001b[0;34m=\u001b[0m \u001b[0magent\u001b[0m\u001b[0;34m.\u001b[0m\u001b[0mtrain\u001b[0m\u001b[0;34m(\u001b[0m\u001b[0;34m)\u001b[0m\u001b[0;34m\u001b[0m\u001b[0;34m\u001b[0m\u001b[0m\n\u001b[0m\u001b[1;32m    192\u001b[0m               \u001b[0mEPISODE_LOSSES\u001b[0m\u001b[0;34m.\u001b[0m\u001b[0mappend\u001b[0m\u001b[0;34m(\u001b[0m\u001b[0mloss\u001b[0m\u001b[0;34m)\u001b[0m\u001b[0;34m\u001b[0m\u001b[0;34m\u001b[0m\u001b[0m\n\u001b[1;32m    193\u001b[0m           \u001b[0;32mif\u001b[0m \u001b[0mdone\u001b[0m\u001b[0;34m:\u001b[0m\u001b[0;34m\u001b[0m\u001b[0;34m\u001b[0m\u001b[0m\n",
            "\u001b[0;32m<ipython-input-31-dfe281d60786>\u001b[0m in \u001b[0;36mtrain\u001b[0;34m(self)\u001b[0m\n\u001b[1;32m    122\u001b[0m         \u001b[0mstate_batch\u001b[0m \u001b[0;34m=\u001b[0m \u001b[0mtfq\u001b[0m\u001b[0;34m.\u001b[0m\u001b[0mconvert_to_tensor\u001b[0m\u001b[0;34m(\u001b[0m\u001b[0;34m[\u001b[0m\u001b[0mself\u001b[0m\u001b[0;34m.\u001b[0m\u001b[0mconvert_data\u001b[0m\u001b[0;34m(\u001b[0m\u001b[0mi\u001b[0m\u001b[0;34m,\u001b[0m \u001b[0;32mFalse\u001b[0m\u001b[0;34m)\u001b[0m \u001b[0;32mfor\u001b[0m \u001b[0mi\u001b[0m \u001b[0;32min\u001b[0m \u001b[0mself\u001b[0m\u001b[0;34m.\u001b[0m\u001b[0mstates\u001b[0m\u001b[0;34m[\u001b[0m\u001b[0mbatch_indices\u001b[0m\u001b[0;34m]\u001b[0m\u001b[0;34m]\u001b[0m\u001b[0;34m)\u001b[0m\u001b[0;34m\u001b[0m\u001b[0;34m\u001b[0m\u001b[0m\n\u001b[1;32m    123\u001b[0m         \u001b[0maction_batch\u001b[0m \u001b[0;34m=\u001b[0m \u001b[0mtf\u001b[0m\u001b[0;34m.\u001b[0m\u001b[0mconvert_to_tensor\u001b[0m\u001b[0;34m(\u001b[0m\u001b[0mself\u001b[0m\u001b[0;34m.\u001b[0m\u001b[0mactions\u001b[0m\u001b[0;34m[\u001b[0m\u001b[0mbatch_indices\u001b[0m\u001b[0;34m]\u001b[0m\u001b[0;34m)\u001b[0m\u001b[0;34m\u001b[0m\u001b[0;34m\u001b[0m\u001b[0m\n\u001b[0;32m--> 124\u001b[0;31m         \u001b[0maction_batch\u001b[0m \u001b[0;34m=\u001b[0m \u001b[0;34m[\u001b[0m\u001b[0;34m[\u001b[0m\u001b[0mi\u001b[0m\u001b[0;34m,\u001b[0m \u001b[0maction_batch\u001b[0m\u001b[0;34m[\u001b[0m\u001b[0mi\u001b[0m\u001b[0;34m]\u001b[0m\u001b[0;34m[\u001b[0m\u001b[0;36m0\u001b[0m\u001b[0;34m]\u001b[0m\u001b[0;34m]\u001b[0m \u001b[0;32mfor\u001b[0m \u001b[0mi\u001b[0m \u001b[0;32min\u001b[0m \u001b[0mrange\u001b[0m\u001b[0;34m(\u001b[0m\u001b[0mlen\u001b[0m\u001b[0;34m(\u001b[0m\u001b[0maction_batch\u001b[0m\u001b[0;34m)\u001b[0m\u001b[0;34m)\u001b[0m\u001b[0;34m]\u001b[0m\u001b[0;34m\u001b[0m\u001b[0;34m\u001b[0m\u001b[0m\n\u001b[0m\u001b[1;32m    125\u001b[0m         \u001b[0mreward_batch\u001b[0m \u001b[0;34m=\u001b[0m \u001b[0mtf\u001b[0m\u001b[0;34m.\u001b[0m\u001b[0mconvert_to_tensor\u001b[0m\u001b[0;34m(\u001b[0m\u001b[0mself\u001b[0m\u001b[0;34m.\u001b[0m\u001b[0mrewards\u001b[0m\u001b[0;34m[\u001b[0m\u001b[0mbatch_indices\u001b[0m\u001b[0;34m]\u001b[0m\u001b[0;34m)\u001b[0m\u001b[0;34m\u001b[0m\u001b[0;34m\u001b[0m\u001b[0m\n\u001b[1;32m    126\u001b[0m         \u001b[0mdones_batch\u001b[0m \u001b[0;34m=\u001b[0m \u001b[0mtf\u001b[0m\u001b[0;34m.\u001b[0m\u001b[0mconvert_to_tensor\u001b[0m\u001b[0;34m(\u001b[0m\u001b[0mself\u001b[0m\u001b[0;34m.\u001b[0m\u001b[0mdones\u001b[0m\u001b[0;34m[\u001b[0m\u001b[0mbatch_indices\u001b[0m\u001b[0;34m]\u001b[0m\u001b[0;34m)\u001b[0m\u001b[0;34m\u001b[0m\u001b[0;34m\u001b[0m\u001b[0m\n",
            "\u001b[0;32m/usr/local/lib/python3.7/dist-packages/tensorflow/python/framework/ops.py\u001b[0m in \u001b[0;36m__len__\u001b[0;34m(self)\u001b[0m\n\u001b[1;32m    851\u001b[0m     raise TypeError(\"len is not well defined for symbolic Tensors. ({}) \"\n\u001b[1;32m    852\u001b[0m                     \u001b[0;34m\"Please call `x.shape` rather than `len(x)` for \"\u001b[0m\u001b[0;34m\u001b[0m\u001b[0;34m\u001b[0m\u001b[0m\n\u001b[0;32m--> 853\u001b[0;31m                     \"shape information.\".format(self.name))\n\u001b[0m\u001b[1;32m    854\u001b[0m \u001b[0;34m\u001b[0m\u001b[0m\n\u001b[1;32m    855\u001b[0m   \u001b[0;34m@\u001b[0m\u001b[0mstaticmethod\u001b[0m\u001b[0;34m\u001b[0m\u001b[0;34m\u001b[0m\u001b[0m\n",
            "\u001b[0;31mTypeError\u001b[0m: len is not well defined for symbolic Tensors. (Const_19:0) Please call `x.shape` rather than `len(x)` for shape information."
          ]
        }
      ]
    },
    {
      "cell_type": "code",
      "metadata": {
        "id": "JOLOnfZd_w80"
      },
      "source": [
        "q1_r = rewards\n",
        "q1_ar = avg_reward\n",
        "q1_t = epi_times"
      ],
      "execution_count": null,
      "outputs": []
    },
    {
      "cell_type": "code",
      "metadata": {
        "id": "KJEB6kYOrwCB"
      },
      "source": [
        "c1_r = np.load(\"/content/drive/MyDrive/quantum_research/classical_models/CDQN-2021-03-29_23-07-36_58_ADAM_lr0.01_g0.95_eps1.0_epsmin0.01_epsd0.9/rewards.npy\")\n",
        "c1_ar = np.load(\"/content/drive/MyDrive/quantum_research/classical_models/CDQN-2021-03-29_23-07-36_58_ADAM_lr0.01_g0.95_eps1.0_epsmin0.01_epsd0.9/averages.npy\")\n",
        "c1_t = np.load(\"/content/drive/MyDrive/quantum_research/classical_models/CDQN-2021-03-29_23-07-36_58_ADAM_lr0.01_g0.95_eps1.0_epsmin0.01_epsd0.9/times.npy\")"
      ],
      "execution_count": null,
      "outputs": []
    },
    {
      "cell_type": "code",
      "metadata": {
        "id": "vLGTaWSSsRs5"
      },
      "source": [
        "c2_r = np.load(\"/content/drive/MyDrive/quantum_research/classical_models/CDQN-2021-03-29_23-09-30_226_ADAM_lr0.01_g0.95_eps1.0_epsmin0.01_epsd0.9/rewards.npy\")\n",
        "c2_ar = np.load(\"/content/drive/MyDrive/quantum_research/classical_models/CDQN-2021-03-29_23-09-30_226_ADAM_lr0.01_g0.95_eps1.0_epsmin0.01_epsd0.9/averages.npy\")\n",
        "c2_t = np.load(\"/content/drive/MyDrive/quantum_research/classical_models/CDQN-2021-03-29_23-09-30_226_ADAM_lr0.01_g0.95_eps1.0_epsmin0.01_epsd0.9/times.npy\")"
      ],
      "execution_count": null,
      "outputs": []
    },
    {
      "cell_type": "code",
      "metadata": {
        "id": "08AOv37bszn9"
      },
      "source": [
        "c3_r = np.load(\"/content/drive/MyDrive/quantum_research/classical_models/CDQN-2021-03-29_23-15-43_1282_ADAM_lr0.01_g0.95_eps1.0_epsmin0.01_epsd0.9/rewards.npy\")\n",
        "c3_ar = np.load(\"/content/drive/MyDrive/quantum_research/classical_models/CDQN-2021-03-29_23-15-43_1282_ADAM_lr0.01_g0.95_eps1.0_epsmin0.01_epsd0.9/averages.npy\")\n",
        "c3_t = np.load(\"/content/drive/MyDrive/quantum_research/classical_models/CDQN-2021-03-29_23-15-43_1282_ADAM_lr0.01_g0.95_eps1.0_epsmin0.01_epsd0.9/times.npy\")"
      ],
      "execution_count": null,
      "outputs": []
    },
    {
      "cell_type": "code",
      "metadata": {
        "id": "3qnvAGWIYQ4R",
        "colab": {
          "base_uri": "https://localhost:8080/",
          "height": 283
        },
        "outputId": "a4a48006-7fe3-4c4d-b5bd-3b0b0fac732d"
      },
      "source": [
        "import importlib\n",
        "matplotlib.use('TkAgg')\n",
        "matplotlib = importlib.reload(matplotlib)\n",
        "%matplotlib inline\n",
        "plt.ylim(0, 200)\n",
        "# plt.plot(c1_r, color='red', alpha=0.2, label='Classic Reward')\n",
        "# plt.plot(c1_ar, color='red', label='Classic Average')\n",
        "plt.plot(q1_r, color='blue', alpha=0.2, label='Quantum Reward')\n",
        "plt.plot(q1_ar, color='blue', label='Quantum Average')\n",
        "plt.legend()\n",
        "plt.ylabel('Reward')\n",
        "plt.xlabel('Iteration')\n",
        "plt.show()"
      ],
      "execution_count": null,
      "outputs": [
        {
          "output_type": "display_data",
          "data": {
            "image/png": "[encoded data removed]",
            "text/plain": [
              "<Figure size 432x288 with 1 Axes>"
            ]
          },
          "metadata": {
            "tags": [],
            "needs_background": "light"
          }
        }
      ]
    },
    {
      "cell_type": "code",
      "metadata": {
        "id": "bmH4DVUzYX2k",
        "colab": {
          "base_uri": "https://localhost:8080/",
          "height": 283
        },
        "outputId": "fd661d1e-f0bf-470f-ac44-b3c0128f5617"
      },
      "source": [
        "plt.ylim(0, 200)\n",
        "plt.plot(c1_r, color='red', alpha=0.2, label='NN 10^1 Reward ')\n",
        "plt.plot(c1_ar, color='red', label='NN 10^1 Average')\n",
        "plt.plot(c2_r, color='green', alpha=0.2, label='NN 10^2 Reward ')\n",
        "plt.plot(c2_ar, color='green', label='NN 10^2 Average')\n",
        "plt.plot(c3_r, color='purple', alpha=0.2, label='NN 10^3 Reward ')\n",
        "plt.plot(c3_ar, color='purple', label='NN 10^3 Average')\n",
        "plt.plot(q1_r, color='blue', alpha=0.2, label='Quantum Reward')\n",
        "plt.plot(q1_ar, color='blue', label='Quantum Average')\n",
        "plt.legend()\n",
        "plt.ylabel('Reward')\n",
        "plt.xlabel('Iteration')\n",
        "plt.show()"
      ],
      "execution_count": null,
      "outputs": [
        {
          "output_type": "display_data",
          "data": {
            "image/png": "[encoded data removed]",
            "text/plain": [
              "<Figure size 432x288 with 1 Axes>"
            ]
          },
          "metadata": {
            "tags": [],
            "needs_background": "light"
          }
        }
      ]
    },
    {
      "cell_type": "code",
      "metadata": {
        "colab": {
          "base_uri": "https://localhost:8080/",
          "height": 283
        },
        "id": "cXWjnoNUPuNo",
        "outputId": "e09624cd-181b-4436-ae25-b8aef5a3cba0"
      },
      "source": [
        "plt.ylim(0,50)\n",
        "# plt.plot(c1_t, color='red', label='NN 10^1 time')\n",
        "plt.plot(q1_t, color='blue',  label='Quantum time')\n",
        "# plt.plot(c2_t, color='green', label='NN 10^2 time')\n",
        "plt.plot(c3_t, color='purple', label='NN 10^3 time')\n",
        "plt.legend()\n",
        "plt.ylabel('Reward')\n",
        "plt.xlabel('Iteration')\n",
        "plt.show()"
      ],
      "execution_count": null,
      "outputs": [
        {
          "output_type": "display_data",
          "data": {
            "image/png": "[encoded data removed]",
            "text/plain": [
              "<Figure size 432x288 with 1 Axes>"
            ]
          },
          "metadata": {
            "tags": [],
            "needs_background": "light"
          }
        }
      ]
    },
    {
      "cell_type": "code",
      "metadata": {
        "id": "hHCvzXFvaNHk"
      },
      "source": [
        "# def run_cartpole(agent, env, agent_type, \n",
        "#                  iterations,\n",
        "#                  learn_delay,\n",
        "#                  ):\n",
        "#   rolling_avg = 50\n",
        "#   epi_times = []\n",
        "#   rewards = []\n",
        "  \n",
        "#   avg_reward = deque(maxlen=5*iterations)\n",
        "#   best_avg_reward = avg = -math.inf\n",
        "#   rs = deque(maxlen=rolling_avg)\n",
        "#   master_path = None\n",
        "#   windows = 100\n",
        "\n",
        "#   if agent_type == \"q\":\n",
        "#     master_path = make_path(\"/content/drive/MyDrive/quantum_research/quantum_models/\", agent.model_name)\n",
        "#   elif agent_type ==\"c\":\n",
        "#     master_path = make_path(\"/content/drive/MyDrive/quantum_research/classical_models/\", agent.model_name)\n",
        "#   score_logger = ScoreLogger(path=master_path, env_name=\"CartPole-v1\")\n",
        "#   video_filename = \"{}.mp4\".format(master_path+\"/training_video\")\n",
        "  \n",
        "#   if agent_type == \"q\":\n",
        "#     epi_times = []\n",
        "#     start_time = time.time()\n",
        "#     with imageio.get_writer(video_filename, fps=30) as video:\n",
        "#       for i in range(1,iterations+1):\n",
        "#           s1 = env.reset()\n",
        "#           total_reward = 0\n",
        "#           done = False\n",
        "#           video.append_data(env.render(mode=\"rgb_array\"))\n",
        "#           epi_time = time.time()\n",
        "#           step = 0\n",
        "#           while not done:\n",
        "#               step+=1\n",
        "#               action = agent.get_action(s1)\n",
        "#               s2, reward, done, _ = env.step(action)\n",
        "#               total_reward += reward\n",
        "#               agent.remember(s1, action, reward, s2, done)\n",
        "#               video.append_data(env.render(mode=\"rgb_array\"))\n",
        "#               if agent.counter > learn_delay and done:\n",
        "#                   agent.train()\n",
        "#               if done:\n",
        "#                   rewards.append(total_reward)\n",
        "#                   rs.append(total_reward)\n",
        "#                   score_logger.add_score(step, i)\n",
        "#               else:\n",
        "#                   s1 = s2\n",
        "#           avg = np.mean(rs)\n",
        "#           avg_reward.append(avg)\n",
        "#           if avg > best_avg_reward:\n",
        "#               best_avg_reward = avg\n",
        "#           epi_end = time.time() -epi_start\n",
        "#           epi_times.append(epi_end)\n",
        "#           print(\"\\rEpisode {}/{} || Best average reward {}, Current Avg {}, Current Iteration Reward {}, eps {}, time {}\".format(\n",
        "#               i, iterations, best_avg_reward, avg, total_reward, agent.epsilon, time.time()-epi_time), end='', flush=True)\n",
        "#       final_time = time.time()-start_time \n",
        "#       print(\"\\n final time:\", final_time)\n",
        "#       reward_file = \"{h}/rewards\".format(h = master_path)\n",
        "#       average_file = \"{h}/averages\".format(h=master_path)\n",
        "#       times_file = \"{h}/times\".format(h=master_path)\n",
        "#       np.save(reward_file , np.asarray(rewards))\n",
        "#       np.save(average_file , np.asarray(avg_reward))\n",
        "#       np.save(times_file , np.asarray(episode_times))\n",
        "#       return rewards, avg_reward, epi_times\n",
        "#   elif agent_type == \"c\":\n",
        "#     print(\"yay\")\n",
        "#     epi_times = []\n",
        "#     start_time = time.time()\n",
        "#     with imageio.get_writer(video_filename, fps=30) as video:\n",
        "#       start_time = time.time()\n",
        "#       for i in range(1,iterations+1):\n",
        "#           s1 = env.reset()\n",
        "#           epi_start = time.time()\n",
        "#           video.append_data(env.render(mode=\"rgb_array\"))\n",
        "#           total_reward = 0\n",
        "#           done = False\n",
        "#           step = 0\n",
        "#           while not done:\n",
        "#               step +=1\n",
        "#               action = agent.get_action(s1)\n",
        "#               s2, reward, done, info = env.step(action)\n",
        "#               total_reward += reward\n",
        "#               agent.remember(s1, action, reward, s2, done)\n",
        "#               video.append_data(env.render(mode=\"rgb_array\"))\n",
        "#               if len(agent.memory) > learn_delay and done:\n",
        "#                   agent.train()    \n",
        "#               if done:\n",
        "#                   rewards.append(total_reward)\n",
        "#                   rs.append(total_reward)\n",
        "#                   score_logger.add_score(step, i)\n",
        "#               else:\n",
        "#                   s1 = s2\n",
        "#           if i >= windows:\n",
        "#               avg = np.mean(rs)\n",
        "#               avg_reward.append(avg)\n",
        "#               if avg > best_avg_reward:\n",
        "#                   best_avg_reward = avg\n",
        "#                   weight_name = \"{h}/model.h5\".format(h = master_path)\n",
        "#                   agent.q_network.save(weight_name)\n",
        "#           else: \n",
        "#               avg_reward.append(0)\n",
        "#           epi_end = time.time() -epi_start\n",
        "#           epi_times.append(epi_end)\n",
        "#           print(\"\\rEpisode {}/{} || Best average reward {}, Current Iteration Reward {}, Current Runtime {}\".format(\n",
        "#               i, iterations, best_avg_reward, total_reward, epi_end) , end='', flush=True)\n",
        "#       print(\"total runtime:\", time.time()-start_time)\n",
        "#       reward_file = \"{h}/rewards\".format(h = master_path)\n",
        "#       average_file = \"{h}/averages\".format(h=master_path)\n",
        "#       times_file = \"{h}/times\".format(h=master_path)\n",
        "#       np.save(reward_file , np.asarray(rewards))\n",
        "#       np.save(average_file , np.asarray(avg_reward))\n",
        "#       np.save(times_file , np.asarray(epi_times))\n",
        "#       return rewards, avg_reward, epi_times"
      ],
      "execution_count": null,
      "outputs": []
    },
    {
      "cell_type": "code",
      "metadata": {
        "colab": {
          "base_uri": "https://localhost:8080/"
        },
        "id": "NsYYiUcBpd1w",
        "outputId": "fa0ebb51-e247-4681-d004-20e1d4d2aee1"
      },
      "source": [
        "# env1 = gym.make(\"CartPole-v1\")\n",
        "# env2 = gym.make(\"CartPole-v1\")\n",
        "# c_agent = CDQN(env1.action_space.n, env1.observation_space.shape[0], 32) \n",
        "# q_agent = QDQN_alt(env2.action_space.n, env2.observation_space.shape[0], 32, 4)\n"
      ],
      "execution_count": null,
      "outputs": [
        {
          "output_type": "stream",
          "text": [
            "q0:48\n",
            "(0, 0): ───@───────────Rx(q0)───Ry(q4)───Rz(q8)────@───────────Rx(q12)───Ry(q16)───Rz(q20)───@───────────Rx(q24)───Ry(q28)───Rz(q32)───\n",
            "           │                                       │                                         │\n",
            "(0, 1): ───X───@───────Rx(q1)───Ry(q5)───Rz(q9)────X───@───────Rx(q13)───Ry(q17)───Rz(q21)───X───@───────Rx(q25)───Ry(q29)───Rz(q33)───\n",
            "               │                                       │                                         │\n",
            "(0, 2): ───────X───@───Rx(q2)───Ry(q6)───Rz(q10)───────X───@───Rx(q14)───Ry(q18)───Rz(q22)───────X───@───Rx(q26)───Ry(q30)───Rz(q34)───\n",
            "                   │                                       │                                         │\n",
            "(0, 3): ───────────X───Rx(q3)───Ry(q7)───Rz(q11)───────────X───Rx(q15)───Ry(q19)───Rz(q23)───────────X───Rx(q27)───Ry(q31)───Rz(q35)───\n"
          ],
          "name": "stdout"
        }
      ]
    },
    {
      "cell_type": "code",
      "metadata": {
        "id": "dMy8UY3xlD2o"
      },
      "source": [
        "# c_r, c_ar, c_t = run_cartpole(c_agent, env1, \"c\", 300, 1000)"
      ],
      "execution_count": null,
      "outputs": []
    },
    {
      "cell_type": "code",
      "metadata": {
        "colab": {
          "base_uri": "https://localhost:8080/",
          "height": 422
        },
        "id": "Kq5fdqHjlFkp",
        "outputId": "d490a379-e94f-4554-941a-26e5168b7b4f"
      },
      "source": [
        "# q_r, q_ar, q_t = run_cartpole(q_agent, env2, \"q\", 300, 1000)"
      ],
      "execution_count": null,
      "outputs": [
        {
          "output_type": "stream",
          "text": [
            "Checking if /content/drive/MyDrive/quantum_research/quantum_models/QDQN-2021-03-27__16-47-11_qbits4_ADAM_lr0.01_g0.99_eps1.0_epsmin0.01_epsd0.9 exists...\n",
            "making... new directory\n",
            "finished!\n",
            "/content/drive/MyDrive/quantum_research/quantum_models/QDQN-2021-03-27__16-47-11_qbits4_ADAM_lr0.01_g0.99_eps1.0_epsmin0.01_epsd0.9\n"
          ],
          "name": "stdout"
        },
        {
          "output_type": "stream",
          "text": [
            "WARNING:root:IMAGEIO FFMPEG_WRITER WARNING: input image is not divisible by macro_block_size=16, resizing from (400, 600) to (400, 608) to ensure video compatibility with most codecs and players. To prevent resizing, make your input image divisible by the macro_block_size or set the macro_block_size to None (risking incompatibility). You may also see a FFMPEG warning concerning speedloss due to data not being aligned.\n"
          ],
          "name": "stderr"
        },
        {
          "output_type": "stream",
          "text": [
            "Scores: (min: 17, avg: 17, max: 17)\n",
            "\n"
          ],
          "name": "stdout"
        },
        {
          "output_type": "error",
          "ename": "UnboundLocalError",
          "evalue": "ignored",
          "traceback": [
            "\u001b[0;31m---------------------------------------------------------------------------\u001b[0m",
            "\u001b[0;31mUnboundLocalError\u001b[0m                         Traceback (most recent call last)",
            "\u001b[0;32m<ipython-input-14-2cac61f859c3>\u001b[0m in \u001b[0;36m<module>\u001b[0;34m()\u001b[0m\n\u001b[0;32m----> 1\u001b[0;31m \u001b[0mq_r\u001b[0m\u001b[0;34m,\u001b[0m \u001b[0mq_ar\u001b[0m\u001b[0;34m,\u001b[0m \u001b[0mq_t\u001b[0m \u001b[0;34m=\u001b[0m \u001b[0mrun_cartpole\u001b[0m\u001b[0;34m(\u001b[0m\u001b[0mq_agent\u001b[0m\u001b[0;34m,\u001b[0m \u001b[0menv2\u001b[0m\u001b[0;34m,\u001b[0m \u001b[0;34m\"q\"\u001b[0m\u001b[0;34m,\u001b[0m \u001b[0;36m300\u001b[0m\u001b[0;34m,\u001b[0m \u001b[0;36m1000\u001b[0m\u001b[0;34m)\u001b[0m\u001b[0;34m\u001b[0m\u001b[0;34m\u001b[0m\u001b[0m\n\u001b[0m",
            "\u001b[0;32m<ipython-input-8-7cd1f50a2073>\u001b[0m in \u001b[0;36mrun_cartpole\u001b[0;34m(agent, env, agent_type, iterations, learn_delay)\u001b[0m\n\u001b[1;32m     50\u001b[0m           \u001b[0;32mif\u001b[0m \u001b[0mavg\u001b[0m \u001b[0;34m>\u001b[0m \u001b[0mbest_avg_reward\u001b[0m\u001b[0;34m:\u001b[0m\u001b[0;34m\u001b[0m\u001b[0;34m\u001b[0m\u001b[0m\n\u001b[1;32m     51\u001b[0m               \u001b[0mbest_avg_reward\u001b[0m \u001b[0;34m=\u001b[0m \u001b[0mavg\u001b[0m\u001b[0;34m\u001b[0m\u001b[0;34m\u001b[0m\u001b[0m\n\u001b[0;32m---> 52\u001b[0;31m           \u001b[0mepi_end\u001b[0m \u001b[0;34m=\u001b[0m \u001b[0mtime\u001b[0m\u001b[0;34m.\u001b[0m\u001b[0mtime\u001b[0m\u001b[0;34m(\u001b[0m\u001b[0;34m)\u001b[0m \u001b[0;34m-\u001b[0m\u001b[0mepi_start\u001b[0m\u001b[0;34m\u001b[0m\u001b[0;34m\u001b[0m\u001b[0m\n\u001b[0m\u001b[1;32m     53\u001b[0m           \u001b[0mepi_times\u001b[0m\u001b[0;34m.\u001b[0m\u001b[0mappend\u001b[0m\u001b[0;34m(\u001b[0m\u001b[0mepi_end\u001b[0m\u001b[0;34m)\u001b[0m\u001b[0;34m\u001b[0m\u001b[0;34m\u001b[0m\u001b[0m\n\u001b[1;32m     54\u001b[0m           print(\"\\rEpisode {}/{} || Best average reward {}, Current Avg {}, Current Iteration Reward {}, eps {}, time {}\".format(\n",
            "\u001b[0;31mUnboundLocalError\u001b[0m: local variable 'epi_start' referenced before assignment"
          ]
        }
      ]
    },
    {
      "cell_type": "code",
      "metadata": {
        "id": "Qf0QosSev1ez"
      },
      "source": [
        "plt.ylim(0, 200)\n",
        "plt.plot(c_r, color='red', alpha=0.2, label='Classic Reward')\n",
        "plt.plot(c_ar, color='red', label='Classic Average')\n",
        "plt.plot(q_r, color='blue', alpha=0.2, label='Quantum Reward')\n",
        "plt.plot(q_ar, color='blue', label='Quantum Average')\n",
        "plt.legend()\n",
        "plt.ylabel('Reward')\n",
        "plt.xlabel('Iteration')\n",
        "plt.show()"
      ],
      "execution_count": null,
      "outputs": []
    },
    {
      "cell_type": "code",
      "metadata": {
        "id": "GyBZr0RzwoII"
      },
      "source": [
        ""
      ],
      "execution_count": null,
      "outputs": []
    }
  ]
}